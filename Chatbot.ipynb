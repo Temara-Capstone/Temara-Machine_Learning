{
  "cells": [
    {
      "cell_type": "code",
      "execution_count": null,
      "metadata": {
        "colab": {
          "base_uri": "https://localhost:8080/"
        },
        "id": "221a6cbd",
        "outputId": "0f6927f3-f131-4344-b905-969e9858494c"
      },
      "outputs": [
        {
          "name": "stderr",
          "output_type": "stream",
          "text": [
            "/usr/local/lib/python3.10/dist-packages/fuzzywuzzy/fuzz.py:11: UserWarning: Using slow pure-python SequenceMatcher. Install python-Levenshtein to remove this warning\n",
            "  warnings.warn('Using slow pure-python SequenceMatcher. Install python-Levenshtein to remove this warning')\n"
          ]
        }
      ],
      "source": [
        "import re\n",
        "import pandas as pd\n",
        "import numpy as np\n",
        "import tensorflow as tf\n",
        "from fuzzywuzzy import fuzz\n",
        "from tensorflow.keras.preprocessing.text import Tokenizer\n",
        "from tensorflow.keras.preprocessing.sequence import pad_sequences\n",
        "from tensorflow.keras.models import Sequential\n",
        "from sklearn.preprocessing import LabelEncoder\n",
        "from tensorflow.keras.layers import Dense, Embedding, LSTM,Dropout,Bidirectional,GlobalMaxPooling1D"
      ],
      "id": "221a6cbd"
    },
    {
      "cell_type": "code",
      "execution_count": null,
      "metadata": {
        "colab": {
          "base_uri": "https://localhost:8080/"
        },
        "id": "XSJML47nVE_Z",
        "outputId": "1eed8388-2757-4359-de0c-d59478dd0236"
      },
      "outputs": [
        {
          "name": "stdout",
          "output_type": "stream",
          "text": [
            "Looking in indexes: https://pypi.org/simple, https://us-python.pkg.dev/colab-wheels/public/simple/\n",
            "Collecting fuzzywuzzy\n",
            "  Downloading fuzzywuzzy-0.18.0-py2.py3-none-any.whl (18 kB)\n",
            "Installing collected packages: fuzzywuzzy\n",
            "Successfully installed fuzzywuzzy-0.18.0\n"
          ]
        }
      ],
      "source": [
        "!pip install fuzzywuzzy"
      ],
      "id": "XSJML47nVE_Z"
    },
    {
      "cell_type": "markdown",
      "metadata": {
        "id": "cbc494f4"
      },
      "source": [
        "# load dataset"
      ],
      "id": "cbc494f4"
    },
    {
      "cell_type": "code",
      "execution_count": null,
      "metadata": {
        "colab": {
          "base_uri": "https://localhost:8080/",
          "height": 206
        },
        "id": "3e207558",
        "outputId": "2912da02-7f0f-40fc-9c46-ee46c33eae41"
      },
      "outputs": [
        {
          "data": {
            "text/html": [
              "\n",
              "  <div id=\"df-1e261c36-07bf-4e04-a558-86b574b8969e\">\n",
              "    <div class=\"colab-df-container\">\n",
              "      <div>\n",
              "<style scoped>\n",
              "    .dataframe tbody tr th:only-of-type {\n",
              "        vertical-align: middle;\n",
              "    }\n",
              "\n",
              "    .dataframe tbody tr th {\n",
              "        vertical-align: top;\n",
              "    }\n",
              "\n",
              "    .dataframe thead th {\n",
              "        text-align: right;\n",
              "    }\n",
              "</style>\n",
              "<table border=\"1\" class=\"dataframe\">\n",
              "  <thead>\n",
              "    <tr style=\"text-align: right;\">\n",
              "      <th></th>\n",
              "      <th>tag</th>\n",
              "      <th>Question</th>\n",
              "      <th>Answer</th>\n",
              "    </tr>\n",
              "  </thead>\n",
              "  <tbody>\n",
              "    <tr>\n",
              "      <th>434</th>\n",
              "      <td>user 438</td>\n",
              "      <td>Saya merasa bersalah karena saya tidak mengata...</td>\n",
              "      <td>Hai Tennessee, tidak ada yang salah dengan And...</td>\n",
              "    </tr>\n",
              "    <tr>\n",
              "      <th>435</th>\n",
              "      <td>user 439</td>\n",
              "      <td>Bagaimana cara mengatasi pikiran buruk?</td>\n",
              "      <td>Kedengarannya Anda merasa sangat kewalahan den...</td>\n",
              "    </tr>\n",
              "    <tr>\n",
              "      <th>436</th>\n",
              "      <td>user 440</td>\n",
              "      <td>Bagaimana saya bisa merasa begitu kosong meski...</td>\n",
              "      <td>Apakah ada saat atau momen di mana Anda merasa...</td>\n",
              "    </tr>\n",
              "    <tr>\n",
              "      <th>437</th>\n",
              "      <td>user 441</td>\n",
              "      <td>Saya pikir saya memiliki kecemasan dan depresi...</td>\n",
              "      <td>Anda mungkin menekan diri untuk menjadi satu -...</td>\n",
              "    </tr>\n",
              "    <tr>\n",
              "      <th>438</th>\n",
              "      <td>user 442</td>\n",
              "      <td>Saya memiliki suara di kepala saya</td>\n",
              "      <td>Karena Anda menyadari bahwa mendengar suara -s...</td>\n",
              "    </tr>\n",
              "  </tbody>\n",
              "</table>\n",
              "</div>\n",
              "      <button class=\"colab-df-convert\" onclick=\"convertToInteractive('df-1e261c36-07bf-4e04-a558-86b574b8969e')\"\n",
              "              title=\"Convert this dataframe to an interactive table.\"\n",
              "              style=\"display:none;\">\n",
              "        \n",
              "  <svg xmlns=\"http://www.w3.org/2000/svg\" height=\"24px\"viewBox=\"0 0 24 24\"\n",
              "       width=\"24px\">\n",
              "    <path d=\"M0 0h24v24H0V0z\" fill=\"none\"/>\n",
              "    <path d=\"M18.56 5.44l.94 2.06.94-2.06 2.06-.94-2.06-.94-.94-2.06-.94 2.06-2.06.94zm-11 1L8.5 8.5l.94-2.06 2.06-.94-2.06-.94L8.5 2.5l-.94 2.06-2.06.94zm10 10l.94 2.06.94-2.06 2.06-.94-2.06-.94-.94-2.06-.94 2.06-2.06.94z\"/><path d=\"M17.41 7.96l-1.37-1.37c-.4-.4-.92-.59-1.43-.59-.52 0-1.04.2-1.43.59L10.3 9.45l-7.72 7.72c-.78.78-.78 2.05 0 2.83L4 21.41c.39.39.9.59 1.41.59.51 0 1.02-.2 1.41-.59l7.78-7.78 2.81-2.81c.8-.78.8-2.07 0-2.86zM5.41 20L4 18.59l7.72-7.72 1.47 1.35L5.41 20z\"/>\n",
              "  </svg>\n",
              "      </button>\n",
              "      \n",
              "  <style>\n",
              "    .colab-df-container {\n",
              "      display:flex;\n",
              "      flex-wrap:wrap;\n",
              "      gap: 12px;\n",
              "    }\n",
              "\n",
              "    .colab-df-convert {\n",
              "      background-color: #E8F0FE;\n",
              "      border: none;\n",
              "      border-radius: 50%;\n",
              "      cursor: pointer;\n",
              "      display: none;\n",
              "      fill: #1967D2;\n",
              "      height: 32px;\n",
              "      padding: 0 0 0 0;\n",
              "      width: 32px;\n",
              "    }\n",
              "\n",
              "    .colab-df-convert:hover {\n",
              "      background-color: #E2EBFA;\n",
              "      box-shadow: 0px 1px 2px rgba(60, 64, 67, 0.3), 0px 1px 3px 1px rgba(60, 64, 67, 0.15);\n",
              "      fill: #174EA6;\n",
              "    }\n",
              "\n",
              "    [theme=dark] .colab-df-convert {\n",
              "      background-color: #3B4455;\n",
              "      fill: #D2E3FC;\n",
              "    }\n",
              "\n",
              "    [theme=dark] .colab-df-convert:hover {\n",
              "      background-color: #434B5C;\n",
              "      box-shadow: 0px 1px 3px 1px rgba(0, 0, 0, 0.15);\n",
              "      filter: drop-shadow(0px 1px 2px rgba(0, 0, 0, 0.3));\n",
              "      fill: #FFFFFF;\n",
              "    }\n",
              "  </style>\n",
              "\n",
              "      <script>\n",
              "        const buttonEl =\n",
              "          document.querySelector('#df-1e261c36-07bf-4e04-a558-86b574b8969e button.colab-df-convert');\n",
              "        buttonEl.style.display =\n",
              "          google.colab.kernel.accessAllowed ? 'block' : 'none';\n",
              "\n",
              "        async function convertToInteractive(key) {\n",
              "          const element = document.querySelector('#df-1e261c36-07bf-4e04-a558-86b574b8969e');\n",
              "          const dataTable =\n",
              "            await google.colab.kernel.invokeFunction('convertToInteractive',\n",
              "                                                     [key], {});\n",
              "          if (!dataTable) return;\n",
              "\n",
              "          const docLinkHtml = 'Like what you see? Visit the ' +\n",
              "            '<a target=\"_blank\" href=https://colab.research.google.com/notebooks/data_table.ipynb>data table notebook</a>'\n",
              "            + ' to learn more about interactive tables.';\n",
              "          element.innerHTML = '';\n",
              "          dataTable['output_type'] = 'display_data';\n",
              "          await google.colab.output.renderOutput(dataTable, element);\n",
              "          const docLink = document.createElement('div');\n",
              "          docLink.innerHTML = docLinkHtml;\n",
              "          element.appendChild(docLink);\n",
              "        }\n",
              "      </script>\n",
              "    </div>\n",
              "  </div>\n",
              "  "
            ],
            "text/plain": [
              "          tag                                           Question  \\\n",
              "434  user 438  Saya merasa bersalah karena saya tidak mengata...   \n",
              "435  user 439            Bagaimana cara mengatasi pikiran buruk?   \n",
              "436  user 440  Bagaimana saya bisa merasa begitu kosong meski...   \n",
              "437  user 441  Saya pikir saya memiliki kecemasan dan depresi...   \n",
              "438  user 442                 Saya memiliki suara di kepala saya   \n",
              "\n",
              "                                                Answer  \n",
              "434  Hai Tennessee, tidak ada yang salah dengan And...  \n",
              "435  Kedengarannya Anda merasa sangat kewalahan den...  \n",
              "436  Apakah ada saat atau momen di mana Anda merasa...  \n",
              "437  Anda mungkin menekan diri untuk menjadi satu -...  \n",
              "438  Karena Anda menyadari bahwa mendengar suara -s...  "
            ]
          },
          "execution_count": 4,
          "metadata": {},
          "output_type": "execute_result"
        }
      ],
      "source": [
        "data = pd.read_csv('Bot Dataset(fixed).csv')\n",
        "data.tail()"
      ],
      "id": "3e207558"
    },
    {
      "cell_type": "markdown",
      "metadata": {
        "id": "71700231"
      },
      "source": [
        "# inisialisasi stop words"
      ],
      "id": "71700231"
    },
    {
      "cell_type": "code",
      "execution_count": null,
      "metadata": {
        "id": "f6e69335",
        "scrolled": true
      },
      "outputs": [],
      "source": [
        "stopwords = []\n",
        "with open('stopwords.txt', encoding='utf-8') as f:\n",
        "    for line in f:\n",
        "        stopwords.append(line.strip())"
      ],
      "id": "f6e69335"
    },
    {
      "cell_type": "code",
      "execution_count": null,
      "metadata": {
        "id": "14d821cf"
      },
      "outputs": [],
      "source": [
        "# fungsi untuk menghilangkan stopwords\n",
        "def remove_stopwords(text):\n",
        "    text = text.lower()\n",
        "    text = re.sub('[^a-zA-Z0-9\\s]', '', text)\n",
        "    temp = re.sub(r'[.,’\"\\'-?:!;]', '', text)\n",
        "    text = re.sub(r'^Apa|^Saya|^Aku|^maukah|^Siapa|^Bagaimana|^Dimana|^Kapan|^Kenapa|^Bisakah', '', text)\n",
        "    words = [word for word in text.split() if word not in stopwords]\n",
        "    return ' '.join(words)"
      ],
      "id": "14d821cf"
    },
    {
      "cell_type": "code",
      "execution_count": null,
      "metadata": {
        "colab": {
          "base_uri": "https://localhost:8080/"
        },
        "id": "b496dca9",
        "outputId": "475fe6a1-3ffe-4af4-caa3-f2d3793a96dc"
      },
      "outputs": [
        {
          "name": "stdout",
          "output_type": "stream",
          "text": [
            "0                                        penyakit mental\n",
            "1                           mempengaruhi penyakit mental\n",
            "2                            menyebabkan penyakit mental\n",
            "3                 tanda tanda peringatan penyakit mental\n",
            "4                            orang penyakit mental pulih\n",
            "                             ...                        \n",
            "434                               bersalah kemajuan pria\n",
            "435                              mengatasi pikiran buruk\n",
            "436                                        kosong remaja\n",
            "437    pikir memiliki kecemasan depresi memanifestasi...\n",
            "438                                memiliki suara kepala\n",
            "Name: Question, Length: 439, dtype: object\n"
          ]
        }
      ],
      "source": [
        "# menghilangkan stopwords dari dataset\n",
        "data['Question'] = data['Question'].apply(remove_stopwords)\n",
        "print(data['Question'])"
      ],
      "id": "b496dca9"
    },
    {
      "cell_type": "markdown",
      "metadata": {
        "id": "d0b103c5"
      },
      "source": [
        "# inisialisasi tokenizer"
      ],
      "id": "d0b103c5"
    },
    {
      "cell_type": "code",
      "execution_count": null,
      "metadata": {
        "id": "c6f3536f"
      },
      "outputs": [],
      "source": [
        "# inisialisasi tokenizer\n",
        "tokenizer = Tokenizer(num_words=5000, oov_token='<OOV>')\n",
        "tokenizer.fit_on_texts(data['Question'])"
      ],
      "id": "c6f3536f"
    },
    {
      "cell_type": "code",
      "execution_count": null,
      "metadata": {
        "id": "2639390d"
      },
      "outputs": [],
      "source": [
        "# fungsi untuk mengganti kata typo dengan kata yang paling mirip pada dataset\n",
        "def correct_typo(word):\n",
        "    max_score = -1\n",
        "    correct_word = word\n",
        "    for vocab_word in tokenizer.word_index:\n",
        "        score = fuzz.ratio(word, vocab_word)\n",
        "        if score > max_score:\n",
        "            max_score = score\n",
        "            correct_word = vocab_word\n",
        "    return correct_word\n",
        "\n",
        "# fungsi untuk mengoreksi typo pada kalimat\n",
        "def correct_sentence(sentence):\n",
        "    corrected_sentence = []\n",
        "    words = sentence.split()\n",
        "    for word in words:\n",
        "        corrected_word = correct_typo(word)\n",
        "        corrected_sentence.append(corrected_word)\n",
        "    return ' '.join(corrected_sentence)\n",
        "\n",
        "# fungsi untuk membersihkan dan memproses input pengguna\n",
        "def preprocess_input(text):\n",
        "    text = remove_stopwords(text)\n",
        "    text = correct_sentence(text)\n",
        "    return text\n"
      ],
      "id": "2639390d"
    },
    {
      "cell_type": "markdown",
      "metadata": {
        "id": "673e160b"
      },
      "source": [
        "# encoding label Respon"
      ],
      "id": "673e160b"
    },
    {
      "cell_type": "code",
      "execution_count": null,
      "metadata": {
        "id": "341033f0"
      },
      "outputs": [],
      "source": [
        "encoder = LabelEncoder()\n",
        "encoder.fit(data['Answer'])\n",
        "encoded_labels = encoder.transform(data['Answer'])"
      ],
      "id": "341033f0"
    },
    {
      "cell_type": "markdown",
      "metadata": {
        "id": "005d963f"
      },
      "source": [
        "# split data menjadi train dan validation set"
      ],
      "id": "005d963f"
    },
    {
      "cell_type": "code",
      "execution_count": null,
      "metadata": {
        "id": "d3825cf6"
      },
      "outputs": [],
      "source": [
        "train_size = int(len(data) * 0.8)\n",
        "train_data = data[:train_size]\n",
        "val_data = data[train_size:]\n",
        "\n",
        "train_seq = tokenizer.texts_to_sequences(data['Question'])\n",
        "val_seq = tokenizer.texts_to_sequences(val_data['Question'])\n",
        "\n",
        "train_label_seq = encoded_labels[:train_size]\n",
        "val_label_seq = encoded_labels[train_size:]"
      ],
      "id": "d3825cf6"
    },
    {
      "cell_type": "markdown",
      "metadata": {
        "id": "9e0cb512"
      },
      "source": [
        "# padding sequence"
      ],
      "id": "9e0cb512"
    },
    {
      "cell_type": "code",
      "execution_count": null,
      "metadata": {
        "id": "8b02c13d"
      },
      "outputs": [],
      "source": [
        "train_seq = pad_sequences(train_seq, maxlen=100, truncating='post')\n",
        "val_seq = pad_sequences(val_seq, maxlen=100, truncating='post')"
      ],
      "id": "8b02c13d"
    },
    {
      "cell_type": "markdown",
      "metadata": {
        "id": "77311817"
      },
      "source": [
        "# callback"
      ],
      "id": "77311817"
    },
    {
      "cell_type": "code",
      "execution_count": null,
      "metadata": {
        "id": "4bc1e33d"
      },
      "outputs": [],
      "source": [
        "class Callback(tf.keras.callbacks.Callback):\n",
        "    def on_epoch_end(self, epoch, logs={}):\n",
        "        if logs.get('accuracy') is not None and logs.get('accuracy') > 0.998:\n",
        "            print(\"\\n\\nAccuracy Has Been Achieved Around 99.8%, Training Stop!\\n\")\n",
        "            self.model.stop_training = True"
      ],
      "id": "4bc1e33d"
    },
    {
      "cell_type": "markdown",
      "metadata": {
        "id": "2abf21a8"
      },
      "source": [
        "# MODEL"
      ],
      "id": "2abf21a8"
    },
    {
      "cell_type": "code",
      "execution_count": null,
      "metadata": {
        "id": "89819712"
      },
      "outputs": [],
      "source": [
        "model = Sequential([\n",
        "    Embedding(len(tokenizer.word_index)+1, 64, input_length=100),\n",
        "    LSTM(128),\n",
        "    Dropout(0.2),\n",
        "    Dense(128, activation='relu'),\n",
        "    Dense(450, activation='softmax')\n",
        "])\n",
        "# compile model\n",
        "model.compile(loss='sparse_categorical_crossentropy', optimizer='adam', metrics=['accuracy'])\n"
      ],
      "id": "89819712"
    },
    {
      "cell_type": "code",
      "execution_count": null,
      "metadata": {
        "colab": {
          "base_uri": "https://localhost:8080/"
        },
        "id": "8091f017",
        "outputId": "0354d4d2-161c-4041-ae20-2d73a353fd87"
      },
      "outputs": [
        {
          "name": "stdout",
          "output_type": "stream",
          "text": [
            "Epoch 1/200\n",
            "14/14 [==============================] - 7s 165ms/step - loss: 6.1140 - accuracy: 0.0068\n",
            "Epoch 2/200\n",
            "14/14 [==============================] - 2s 163ms/step - loss: 6.1055 - accuracy: 0.0091\n",
            "Epoch 3/200\n",
            "14/14 [==============================] - 2s 164ms/step - loss: 6.0942 - accuracy: 0.0114\n",
            "Epoch 4/200\n",
            "14/14 [==============================] - 3s 194ms/step - loss: 6.0840 - accuracy: 0.0114\n",
            "Epoch 5/200\n",
            "14/14 [==============================] - 3s 228ms/step - loss: 6.0429 - accuracy: 0.0114\n",
            "Epoch 6/200\n",
            "14/14 [==============================] - 2s 164ms/step - loss: 5.9985 - accuracy: 0.0114\n",
            "Epoch 7/200\n",
            "14/14 [==============================] - 2s 167ms/step - loss: 5.9573 - accuracy: 0.0114\n",
            "Epoch 8/200\n",
            "14/14 [==============================] - 2s 168ms/step - loss: 5.9173 - accuracy: 0.0114\n",
            "Epoch 9/200\n",
            "14/14 [==============================] - 3s 195ms/step - loss: 5.8397 - accuracy: 0.0159\n",
            "Epoch 10/200\n",
            "14/14 [==============================] - 3s 230ms/step - loss: 5.7145 - accuracy: 0.0137\n",
            "Epoch 11/200\n",
            "14/14 [==============================] - 2s 163ms/step - loss: 5.5270 - accuracy: 0.0114\n",
            "Epoch 12/200\n",
            "14/14 [==============================] - 2s 162ms/step - loss: 5.3363 - accuracy: 0.0182\n",
            "Epoch 13/200\n",
            "14/14 [==============================] - 2s 162ms/step - loss: 5.1915 - accuracy: 0.0159\n",
            "Epoch 14/200\n",
            "14/14 [==============================] - 2s 171ms/step - loss: 5.0027 - accuracy: 0.0228\n",
            "Epoch 15/200\n",
            "14/14 [==============================] - 4s 255ms/step - loss: 4.7898 - accuracy: 0.0273\n",
            "Epoch 16/200\n",
            "14/14 [==============================] - 2s 164ms/step - loss: 4.5693 - accuracy: 0.0387\n",
            "Epoch 17/200\n",
            "14/14 [==============================] - 2s 164ms/step - loss: 4.3604 - accuracy: 0.0547\n",
            "Epoch 18/200\n",
            "14/14 [==============================] - 2s 164ms/step - loss: 4.1730 - accuracy: 0.0661\n",
            "Epoch 19/200\n",
            "14/14 [==============================] - 2s 172ms/step - loss: 3.9301 - accuracy: 0.1048\n",
            "Epoch 20/200\n",
            "14/14 [==============================] - 4s 259ms/step - loss: 3.7877 - accuracy: 0.0957\n",
            "Epoch 21/200\n",
            "14/14 [==============================] - 3s 220ms/step - loss: 3.5757 - accuracy: 0.1595\n",
            "Epoch 22/200\n",
            "14/14 [==============================] - 2s 162ms/step - loss: 3.4047 - accuracy: 0.1617\n",
            "Epoch 23/200\n",
            "14/14 [==============================] - 2s 166ms/step - loss: 3.2031 - accuracy: 0.2141\n",
            "Epoch 24/200\n",
            "14/14 [==============================] - 3s 201ms/step - loss: 3.0377 - accuracy: 0.2506\n",
            "Epoch 25/200\n",
            "14/14 [==============================] - 4s 281ms/step - loss: 2.8658 - accuracy: 0.2825\n",
            "Epoch 26/200\n",
            "14/14 [==============================] - 3s 210ms/step - loss: 2.6694 - accuracy: 0.3417\n",
            "Epoch 27/200\n",
            "14/14 [==============================] - 2s 164ms/step - loss: 2.5031 - accuracy: 0.3918\n",
            "Epoch 28/200\n",
            "14/14 [==============================] - 2s 168ms/step - loss: 2.2939 - accuracy: 0.4806\n",
            "Epoch 29/200\n",
            "14/14 [==============================] - 4s 271ms/step - loss: 2.1292 - accuracy: 0.5216\n",
            "Epoch 30/200\n",
            "14/14 [==============================] - 2s 166ms/step - loss: 1.9912 - accuracy: 0.5399\n",
            "Epoch 31/200\n",
            "14/14 [==============================] - 2s 165ms/step - loss: 1.8605 - accuracy: 0.5649\n",
            "Epoch 32/200\n",
            "14/14 [==============================] - 4s 270ms/step - loss: 1.7538 - accuracy: 0.5763\n",
            "Epoch 33/200\n",
            "14/14 [==============================] - 3s 208ms/step - loss: 1.5930 - accuracy: 0.6538\n",
            "Epoch 34/200\n",
            "14/14 [==============================] - 3s 216ms/step - loss: 1.5237 - accuracy: 0.6629\n",
            "Epoch 35/200\n",
            "14/14 [==============================] - 2s 168ms/step - loss: 1.3581 - accuracy: 0.7062\n",
            "Epoch 36/200\n",
            "14/14 [==============================] - 2s 168ms/step - loss: 1.2797 - accuracy: 0.7062\n",
            "Epoch 37/200\n",
            "14/14 [==============================] - 2s 167ms/step - loss: 1.1796 - accuracy: 0.7494\n",
            "Epoch 38/200\n",
            "14/14 [==============================] - 3s 208ms/step - loss: 1.0952 - accuracy: 0.7472\n",
            "Epoch 39/200\n",
            "14/14 [==============================] - 3s 219ms/step - loss: 1.0428 - accuracy: 0.7426\n",
            "Epoch 40/200\n",
            "14/14 [==============================] - 2s 165ms/step - loss: 0.9685 - accuracy: 0.7904\n",
            "Epoch 41/200\n",
            "14/14 [==============================] - 2s 166ms/step - loss: 0.8946 - accuracy: 0.7631\n",
            "Epoch 42/200\n",
            "14/14 [==============================] - 2s 165ms/step - loss: 0.8625 - accuracy: 0.7699\n",
            "Epoch 43/200\n",
            "14/14 [==============================] - 3s 206ms/step - loss: 0.8260 - accuracy: 0.7745\n",
            "Epoch 44/200\n",
            "14/14 [==============================] - 3s 217ms/step - loss: 0.7634 - accuracy: 0.7995\n",
            "Epoch 45/200\n",
            "14/14 [==============================] - 2s 164ms/step - loss: 0.7409 - accuracy: 0.7995\n",
            "Epoch 46/200\n",
            "14/14 [==============================] - 2s 164ms/step - loss: 0.6729 - accuracy: 0.8087\n",
            "Epoch 47/200\n",
            "14/14 [==============================] - 2s 168ms/step - loss: 0.6755 - accuracy: 0.8041\n",
            "Epoch 48/200\n",
            "14/14 [==============================] - 3s 205ms/step - loss: 0.6619 - accuracy: 0.8155\n",
            "Epoch 49/200\n",
            "14/14 [==============================] - 3s 222ms/step - loss: 0.6195 - accuracy: 0.8132\n",
            "Epoch 50/200\n",
            "14/14 [==============================] - 2s 163ms/step - loss: 0.6065 - accuracy: 0.8178\n",
            "Epoch 51/200\n",
            "14/14 [==============================] - 2s 165ms/step - loss: 0.5853 - accuracy: 0.8178\n",
            "Epoch 52/200\n",
            "14/14 [==============================] - 2s 165ms/step - loss: 0.5823 - accuracy: 0.8132\n",
            "Epoch 53/200\n",
            "14/14 [==============================] - 3s 189ms/step - loss: 0.5765 - accuracy: 0.7950\n",
            "Epoch 54/200\n",
            "14/14 [==============================] - 3s 233ms/step - loss: 0.5446 - accuracy: 0.8223\n",
            "Epoch 55/200\n",
            "14/14 [==============================] - 2s 164ms/step - loss: 0.5287 - accuracy: 0.8223\n",
            "Epoch 56/200\n",
            "14/14 [==============================] - 2s 162ms/step - loss: 0.5179 - accuracy: 0.8132\n",
            "Epoch 57/200\n",
            "14/14 [==============================] - 2s 165ms/step - loss: 0.5078 - accuracy: 0.8109\n",
            "Epoch 58/200\n",
            "14/14 [==============================] - 2s 176ms/step - loss: 0.4994 - accuracy: 0.8155\n",
            "Epoch 59/200\n",
            "14/14 [==============================] - 4s 248ms/step - loss: 0.4872 - accuracy: 0.8041\n",
            "Epoch 60/200\n",
            "14/14 [==============================] - 2s 168ms/step - loss: 0.4717 - accuracy: 0.8246\n",
            "Epoch 61/200\n",
            "14/14 [==============================] - 2s 165ms/step - loss: 0.4536 - accuracy: 0.8223\n",
            "Epoch 62/200\n",
            "14/14 [==============================] - 2s 168ms/step - loss: 0.4914 - accuracy: 0.8178\n",
            "Epoch 63/200\n",
            "14/14 [==============================] - 2s 173ms/step - loss: 0.4449 - accuracy: 0.8314\n",
            "Epoch 64/200\n",
            "14/14 [==============================] - 4s 253ms/step - loss: 0.4566 - accuracy: 0.8178\n",
            "Epoch 65/200\n",
            "14/14 [==============================] - 2s 164ms/step - loss: 0.4594 - accuracy: 0.8155\n",
            "Epoch 66/200\n",
            "14/14 [==============================] - 2s 164ms/step - loss: 0.4302 - accuracy: 0.8132\n",
            "Epoch 67/200\n",
            "14/14 [==============================] - 2s 165ms/step - loss: 0.4242 - accuracy: 0.8223\n",
            "Epoch 68/200\n",
            "14/14 [==============================] - 2s 169ms/step - loss: 0.4293 - accuracy: 0.8223\n",
            "Epoch 69/200\n",
            "14/14 [==============================] - 4s 260ms/step - loss: 0.4513 - accuracy: 0.8200\n",
            "Epoch 70/200\n",
            "14/14 [==============================] - 2s 162ms/step - loss: 0.4369 - accuracy: 0.8200\n",
            "Epoch 71/200\n",
            "14/14 [==============================] - 2s 163ms/step - loss: 0.4338 - accuracy: 0.8200\n",
            "Epoch 72/200\n",
            "14/14 [==============================] - 2s 164ms/step - loss: 0.4163 - accuracy: 0.8360\n",
            "Epoch 73/200\n",
            "14/14 [==============================] - 2s 165ms/step - loss: 0.4365 - accuracy: 0.8200\n",
            "Epoch 74/200\n",
            "14/14 [==============================] - 4s 269ms/step - loss: 0.4198 - accuracy: 0.8064\n",
            "Epoch 75/200\n",
            "14/14 [==============================] - 2s 169ms/step - loss: 0.4116 - accuracy: 0.8292\n",
            "Epoch 76/200\n",
            "14/14 [==============================] - 2s 166ms/step - loss: 0.4236 - accuracy: 0.8200\n",
            "Epoch 77/200\n",
            "14/14 [==============================] - 2s 168ms/step - loss: 0.4247 - accuracy: 0.8132\n",
            "Epoch 78/200\n",
            "14/14 [==============================] - 2s 170ms/step - loss: 0.4173 - accuracy: 0.8246\n",
            "Epoch 79/200\n",
            "14/14 [==============================] - 5s 368ms/step - loss: 0.4172 - accuracy: 0.8178\n",
            "Epoch 80/200\n",
            "14/14 [==============================] - 5s 360ms/step - loss: 0.4225 - accuracy: 0.8178\n",
            "Epoch 81/200\n",
            "14/14 [==============================] - 4s 315ms/step - loss: 0.3990 - accuracy: 0.8292\n",
            "Epoch 82/200\n",
            "14/14 [==============================] - 3s 210ms/step - loss: 0.3962 - accuracy: 0.8200\n",
            "Epoch 83/200\n",
            "14/14 [==============================] - 4s 278ms/step - loss: 0.3991 - accuracy: 0.8132\n",
            "Epoch 84/200\n",
            "14/14 [==============================] - 2s 166ms/step - loss: 0.4119 - accuracy: 0.8132\n",
            "Epoch 85/200\n",
            "14/14 [==============================] - 2s 177ms/step - loss: 0.4061 - accuracy: 0.8292\n",
            "Epoch 86/200\n",
            "14/14 [==============================] - 4s 256ms/step - loss: 0.3896 - accuracy: 0.8314\n",
            "Epoch 87/200\n",
            "14/14 [==============================] - 2s 165ms/step - loss: 0.4082 - accuracy: 0.8200\n",
            "Epoch 88/200\n",
            "14/14 [==============================] - 2s 165ms/step - loss: 0.3934 - accuracy: 0.8314\n",
            "Epoch 89/200\n",
            "14/14 [==============================] - 2s 163ms/step - loss: 0.4031 - accuracy: 0.8178\n",
            "Epoch 90/200\n",
            "14/14 [==============================] - 2s 163ms/step - loss: 0.4004 - accuracy: 0.8155\n",
            "Epoch 91/200\n",
            "14/14 [==============================] - 4s 264ms/step - loss: 0.3754 - accuracy: 0.8314\n",
            "Epoch 92/200\n",
            "14/14 [==============================] - 2s 163ms/step - loss: 0.3972 - accuracy: 0.8178\n",
            "Epoch 93/200\n",
            "14/14 [==============================] - 2s 163ms/step - loss: 0.3929 - accuracy: 0.8200\n",
            "Epoch 94/200\n",
            "14/14 [==============================] - 2s 172ms/step - loss: 0.3843 - accuracy: 0.8292\n",
            "Epoch 95/200\n",
            "14/14 [==============================] - 2s 165ms/step - loss: 0.3703 - accuracy: 0.8405\n",
            "Epoch 96/200\n",
            "14/14 [==============================] - 4s 269ms/step - loss: 0.3887 - accuracy: 0.8155\n",
            "Epoch 97/200\n",
            "14/14 [==============================] - 2s 169ms/step - loss: 0.3846 - accuracy: 0.8155\n",
            "Epoch 98/200\n",
            "14/14 [==============================] - 2s 167ms/step - loss: 0.3823 - accuracy: 0.8246\n",
            "Epoch 99/200\n",
            "14/14 [==============================] - 2s 162ms/step - loss: 0.3893 - accuracy: 0.8223\n",
            "Epoch 100/200\n",
            "14/14 [==============================] - 2s 168ms/step - loss: 0.3920 - accuracy: 0.8178\n",
            "Epoch 101/200\n",
            "14/14 [==============================] - 4s 275ms/step - loss: 0.3722 - accuracy: 0.8155\n",
            "Epoch 102/200\n",
            "14/14 [==============================] - 2s 165ms/step - loss: 0.3818 - accuracy: 0.8269\n",
            "Epoch 103/200\n",
            "14/14 [==============================] - 2s 167ms/step - loss: 0.3734 - accuracy: 0.8223\n",
            "Epoch 104/200\n",
            "14/14 [==============================] - 2s 165ms/step - loss: 0.3691 - accuracy: 0.8292\n",
            "Epoch 105/200\n",
            "14/14 [==============================] - 2s 166ms/step - loss: 0.3716 - accuracy: 0.8337\n",
            "Epoch 106/200\n",
            "14/14 [==============================] - 4s 271ms/step - loss: 0.3863 - accuracy: 0.8200\n",
            "Epoch 107/200\n",
            "14/14 [==============================] - 2s 165ms/step - loss: 0.3769 - accuracy: 0.8314\n",
            "Epoch 108/200\n",
            "14/14 [==============================] - 2s 164ms/step - loss: 0.3874 - accuracy: 0.8314\n",
            "Epoch 109/200\n",
            "14/14 [==============================] - 2s 166ms/step - loss: 0.3683 - accuracy: 0.8246\n",
            "Epoch 110/200\n",
            "14/14 [==============================] - 2s 166ms/step - loss: 0.3788 - accuracy: 0.8178\n",
            "Epoch 111/200\n",
            "14/14 [==============================] - 4s 272ms/step - loss: 0.3768 - accuracy: 0.8200\n",
            "Epoch 112/200\n",
            "14/14 [==============================] - 2s 163ms/step - loss: 0.3720 - accuracy: 0.8200\n",
            "Epoch 113/200\n",
            "14/14 [==============================] - 2s 164ms/step - loss: 0.3660 - accuracy: 0.8383\n",
            "Epoch 114/200\n",
            "14/14 [==============================] - 2s 169ms/step - loss: 0.3711 - accuracy: 0.8132\n",
            "Epoch 115/200\n",
            "14/14 [==============================] - 2s 165ms/step - loss: 0.3689 - accuracy: 0.8223\n",
            "Epoch 116/200\n",
            "14/14 [==============================] - 4s 271ms/step - loss: 0.3722 - accuracy: 0.8223\n",
            "Epoch 117/200\n",
            "14/14 [==============================] - 3s 194ms/step - loss: 0.3671 - accuracy: 0.8405\n",
            "Epoch 118/200\n",
            "14/14 [==============================] - 3s 171ms/step - loss: 0.3764 - accuracy: 0.8087\n",
            "Epoch 119/200\n",
            "14/14 [==============================] - 2s 165ms/step - loss: 0.3560 - accuracy: 0.8269\n",
            "Epoch 120/200\n",
            "14/14 [==============================] - 3s 182ms/step - loss: 0.3683 - accuracy: 0.8178\n",
            "Epoch 121/200\n",
            "14/14 [==============================] - 3s 246ms/step - loss: 0.3444 - accuracy: 0.8360\n",
            "Epoch 122/200\n",
            "14/14 [==============================] - 2s 166ms/step - loss: 0.3819 - accuracy: 0.8200\n",
            "Epoch 123/200\n",
            "14/14 [==============================] - 2s 165ms/step - loss: 0.3660 - accuracy: 0.8155\n",
            "Epoch 124/200\n",
            "14/14 [==============================] - 2s 164ms/step - loss: 0.3731 - accuracy: 0.8246\n",
            "Epoch 125/200\n",
            "14/14 [==============================] - 2s 175ms/step - loss: 0.3678 - accuracy: 0.8178\n",
            "Epoch 126/200\n",
            "14/14 [==============================] - 4s 249ms/step - loss: 0.3737 - accuracy: 0.8246\n",
            "Epoch 127/200\n",
            "14/14 [==============================] - 3s 226ms/step - loss: 0.3624 - accuracy: 0.8223\n",
            "Epoch 128/200\n",
            "14/14 [==============================] - 2s 166ms/step - loss: 0.3709 - accuracy: 0.8178\n",
            "Epoch 129/200\n",
            "14/14 [==============================] - 2s 166ms/step - loss: 0.3747 - accuracy: 0.8132\n",
            "Epoch 130/200\n",
            "14/14 [==============================] - 3s 233ms/step - loss: 0.3653 - accuracy: 0.8132\n",
            "Epoch 131/200\n",
            "14/14 [==============================] - 3s 195ms/step - loss: 0.3591 - accuracy: 0.8246\n",
            "Epoch 132/200\n",
            "14/14 [==============================] - 2s 166ms/step - loss: 0.3485 - accuracy: 0.8223\n",
            "Epoch 133/200\n",
            "14/14 [==============================] - 2s 167ms/step - loss: 0.3648 - accuracy: 0.8155\n",
            "Epoch 134/200\n",
            "14/14 [==============================] - 2s 165ms/step - loss: 0.3689 - accuracy: 0.8087\n",
            "Epoch 135/200\n",
            "14/14 [==============================] - 3s 229ms/step - loss: 0.3540 - accuracy: 0.8269\n",
            "Epoch 136/200\n",
            "14/14 [==============================] - 3s 199ms/step - loss: 0.3551 - accuracy: 0.8155\n",
            "Epoch 137/200\n",
            "14/14 [==============================] - 2s 167ms/step - loss: 0.3730 - accuracy: 0.8109\n",
            "Epoch 138/200\n",
            "14/14 [==============================] - 2s 166ms/step - loss: 0.3550 - accuracy: 0.8155\n",
            "Epoch 139/200\n",
            "14/14 [==============================] - 2s 168ms/step - loss: 0.3663 - accuracy: 0.8132\n",
            "Epoch 140/200\n",
            "14/14 [==============================] - 3s 223ms/step - loss: 0.3578 - accuracy: 0.8178\n",
            "Epoch 141/200\n",
            "14/14 [==============================] - 3s 205ms/step - loss: 0.3697 - accuracy: 0.8200\n",
            "Epoch 142/200\n",
            "14/14 [==============================] - 2s 166ms/step - loss: 0.3632 - accuracy: 0.8178\n",
            "Epoch 143/200\n",
            "14/14 [==============================] - 2s 170ms/step - loss: 0.3717 - accuracy: 0.8178\n",
            "Epoch 144/200\n",
            "14/14 [==============================] - 2s 168ms/step - loss: 0.3523 - accuracy: 0.8200\n",
            "Epoch 145/200\n",
            "14/14 [==============================] - 3s 225ms/step - loss: 0.3571 - accuracy: 0.8292\n",
            "Epoch 146/200\n",
            "14/14 [==============================] - 3s 208ms/step - loss: 0.3675 - accuracy: 0.8155\n",
            "Epoch 147/200\n",
            "14/14 [==============================] - 2s 169ms/step - loss: 0.3600 - accuracy: 0.8109\n",
            "Epoch 148/200\n",
            "14/14 [==============================] - 2s 162ms/step - loss: 0.3407 - accuracy: 0.8337\n",
            "Epoch 149/200\n",
            "14/14 [==============================] - 2s 165ms/step - loss: 0.3666 - accuracy: 0.8178\n",
            "Epoch 150/200\n",
            "14/14 [==============================] - 3s 221ms/step - loss: 0.3397 - accuracy: 0.8337\n",
            "Epoch 151/200\n",
            "14/14 [==============================] - 3s 208ms/step - loss: 0.3543 - accuracy: 0.8223\n",
            "Epoch 152/200\n",
            "14/14 [==============================] - 2s 169ms/step - loss: 0.3560 - accuracy: 0.8200\n",
            "Epoch 153/200\n",
            "14/14 [==============================] - 2s 174ms/step - loss: 0.3694 - accuracy: 0.8223\n",
            "Epoch 154/200\n",
            "14/14 [==============================] - 2s 164ms/step - loss: 0.3543 - accuracy: 0.8200\n",
            "Epoch 155/200\n",
            "14/14 [==============================] - 3s 226ms/step - loss: 0.3406 - accuracy: 0.8223\n",
            "Epoch 156/200\n",
            "14/14 [==============================] - 3s 202ms/step - loss: 0.3492 - accuracy: 0.8269\n",
            "Epoch 157/200\n",
            "14/14 [==============================] - 2s 167ms/step - loss: 0.3548 - accuracy: 0.8337\n",
            "Epoch 158/200\n",
            "14/14 [==============================] - 2s 167ms/step - loss: 0.3552 - accuracy: 0.8132\n",
            "Epoch 159/200\n",
            "14/14 [==============================] - 2s 170ms/step - loss: 0.3541 - accuracy: 0.8314\n",
            "Epoch 160/200\n",
            "14/14 [==============================] - 3s 229ms/step - loss: 0.3575 - accuracy: 0.8246\n",
            "Epoch 161/200\n",
            "14/14 [==============================] - 3s 199ms/step - loss: 0.3429 - accuracy: 0.8337\n",
            "Epoch 162/200\n",
            "14/14 [==============================] - 2s 169ms/step - loss: 0.3553 - accuracy: 0.8269\n",
            "Epoch 163/200\n",
            "14/14 [==============================] - 2s 165ms/step - loss: 0.3654 - accuracy: 0.8064\n",
            "Epoch 164/200\n",
            "14/14 [==============================] - 2s 165ms/step - loss: 0.3531 - accuracy: 0.8200\n",
            "Epoch 165/200\n",
            "14/14 [==============================] - 3s 233ms/step - loss: 0.3509 - accuracy: 0.8223\n",
            "Epoch 166/200\n",
            "14/14 [==============================] - 3s 204ms/step - loss: 0.3558 - accuracy: 0.8269\n",
            "Epoch 167/200\n",
            "14/14 [==============================] - 2s 166ms/step - loss: 0.3669 - accuracy: 0.8178\n",
            "Epoch 168/200\n",
            "14/14 [==============================] - 2s 165ms/step - loss: 0.3447 - accuracy: 0.8178\n",
            "Epoch 169/200\n",
            "14/14 [==============================] - 2s 171ms/step - loss: 0.3505 - accuracy: 0.8178\n",
            "Epoch 170/200\n",
            "14/14 [==============================] - 3s 235ms/step - loss: 0.3480 - accuracy: 0.8246\n",
            "Epoch 171/200\n",
            "14/14 [==============================] - 3s 199ms/step - loss: 0.3571 - accuracy: 0.8109\n",
            "Epoch 172/200\n",
            "14/14 [==============================] - 2s 170ms/step - loss: 0.3730 - accuracy: 0.8223\n",
            "Epoch 173/200\n",
            "14/14 [==============================] - 2s 164ms/step - loss: 0.3328 - accuracy: 0.8269\n",
            "Epoch 174/200\n",
            "14/14 [==============================] - 2s 169ms/step - loss: 0.3490 - accuracy: 0.8155\n",
            "Epoch 175/200\n",
            "14/14 [==============================] - 3s 245ms/step - loss: 0.3560 - accuracy: 0.8246\n",
            "Epoch 176/200\n",
            "14/14 [==============================] - 3s 192ms/step - loss: 0.3554 - accuracy: 0.8223\n",
            "Epoch 177/200\n",
            "14/14 [==============================] - 2s 166ms/step - loss: 0.3563 - accuracy: 0.8132\n",
            "Epoch 178/200\n",
            "14/14 [==============================] - 2s 165ms/step - loss: 0.3424 - accuracy: 0.8314\n",
            "Epoch 179/200\n",
            "14/14 [==============================] - 2s 167ms/step - loss: 0.3511 - accuracy: 0.8155\n",
            "Epoch 180/200\n",
            "14/14 [==============================] - 3s 237ms/step - loss: 0.3433 - accuracy: 0.8200\n",
            "Epoch 181/200\n",
            "14/14 [==============================] - 3s 193ms/step - loss: 0.3356 - accuracy: 0.8337\n",
            "Epoch 182/200\n",
            "14/14 [==============================] - 2s 166ms/step - loss: 0.3433 - accuracy: 0.8178\n",
            "Epoch 183/200\n",
            "14/14 [==============================] - 2s 168ms/step - loss: 0.3524 - accuracy: 0.8200\n",
            "Epoch 184/200\n",
            "14/14 [==============================] - 2s 168ms/step - loss: 0.3488 - accuracy: 0.8269\n",
            "Epoch 185/200\n",
            "14/14 [==============================] - 3s 241ms/step - loss: 0.3608 - accuracy: 0.8109\n",
            "Epoch 186/200\n",
            "14/14 [==============================] - 3s 191ms/step - loss: 0.3450 - accuracy: 0.8178\n",
            "Epoch 187/200\n",
            "14/14 [==============================] - 2s 167ms/step - loss: 0.3407 - accuracy: 0.8269\n",
            "Epoch 188/200\n",
            "14/14 [==============================] - 2s 169ms/step - loss: 0.3510 - accuracy: 0.8132\n",
            "Epoch 189/200\n",
            "14/14 [==============================] - 3s 218ms/step - loss: 0.3482 - accuracy: 0.8223\n",
            "Epoch 190/200\n",
            "14/14 [==============================] - 5s 378ms/step - loss: 0.3539 - accuracy: 0.8246\n",
            "Epoch 191/200\n",
            "14/14 [==============================] - 3s 222ms/step - loss: 0.3563 - accuracy: 0.8109\n",
            "Epoch 192/200\n",
            "14/14 [==============================] - 2s 170ms/step - loss: 0.3486 - accuracy: 0.8200\n",
            "Epoch 193/200\n",
            "14/14 [==============================] - 2s 175ms/step - loss: 0.3481 - accuracy: 0.8200\n",
            "Epoch 194/200\n",
            "14/14 [==============================] - 2s 166ms/step - loss: 0.3541 - accuracy: 0.8246\n",
            "Epoch 195/200\n",
            "14/14 [==============================] - 3s 251ms/step - loss: 0.3542 - accuracy: 0.8200\n",
            "Epoch 196/200\n",
            "14/14 [==============================] - 3s 182ms/step - loss: 0.3440 - accuracy: 0.8337\n",
            "Epoch 197/200\n",
            "14/14 [==============================] - 2s 166ms/step - loss: 0.3355 - accuracy: 0.8223\n",
            "Epoch 198/200\n",
            "14/14 [==============================] - 2s 170ms/step - loss: 0.3482 - accuracy: 0.8178\n",
            "Epoch 199/200\n",
            "14/14 [==============================] - 2s 170ms/step - loss: 0.3353 - accuracy: 0.8337\n",
            "Epoch 200/200\n",
            "14/14 [==============================] - 5s 349ms/step - loss: 0.3458 - accuracy: 0.8178\n"
          ]
        }
      ],
      "source": [
        "# training model\n",
        "history = model.fit(train_seq, encoded_labels, epochs=200,callbacks=[Callback()])"
      ],
      "id": "8091f017"
    },
    {
      "cell_type": "code",
      "execution_count": null,
      "metadata": {
        "colab": {
          "base_uri": "https://localhost:8080/",
          "height": 881
        },
        "id": "8f588dea",
        "outputId": "bcff7090-01c2-412c-e5bd-9e2a11aa23c8"
      },
      "outputs": [
        {
          "data": {
            "image/png": "[encoded data removed]",
            "text/plain": [
              "<Figure size 640x480 with 1 Axes>"
            ]
          },
          "metadata": {},
          "output_type": "display_data"
        },
        {
          "data": {
            "image/png": "[encoded data removed]",
            "text/plain": [
              "<Figure size 640x480 with 1 Axes>"
            ]
          },
          "metadata": {},
          "output_type": "display_data"
        }
      ],
      "source": [
        "import matplotlib.pyplot as plt\n",
        "\n",
        "# Plot utility\n",
        "def plot_graphs(history, string):\n",
        "  plt.plot(history.history[string])\n",
        "  plt.xlabel(\"Epochs\")\n",
        "  plt.ylabel(string)\n",
        "  plt.show()\n",
        "\n",
        "# Plot the accuracy and results \n",
        "plot_graphs(history, \"accuracy\")\n",
        "plot_graphs(history, \"loss\")"
      ],
      "id": "8f588dea"
    },
    {
      "cell_type": "markdown",
      "metadata": {
        "id": "ab809675"
      },
      "source": [
        "# TESTING"
      ],
      "id": "ab809675"
    },
    {
      "cell_type": "code",
      "execution_count": null,
      "metadata": {
        "id": "F6uUzBNFtYd3"
      },
      "outputs": [],
      "source": [
        "ya"
      ],
      "id": "F6uUzBNFtYd3"
    },
    {
      "cell_type": "code",
      "execution_count": null,
      "metadata": {
        "id": "wM7g35CrTJuE"
      },
      "outputs": [],
      "source": [],
      "id": "wM7g35CrTJuE"
    },
    {
      "cell_type": "code",
      "execution_count": null,
      "metadata": {
        "id": "MviorM4yTL_Y"
      },
      "outputs": [],
      "source": [
        "lam"
      ],
      "id": "MviorM4yTL_Y"
    },
    {
      "cell_type": "code",
      "execution_count": null,
      "metadata": {
        "id": "sb-9dhPyZQ2i"
      },
      "outputs": [],
      "source": [],
      "id": "sb-9dhPyZQ2i"
    },
    {
      "cell_type": "code",
      "execution_count": null,
      "metadata": {
        "colab": {
          "background_save": true
        },
        "id": "9e66e453",
        "outputId": "e0a2b43f-9f4c-4d16-8fab-462a08990a9b"
      },
      "outputs": [
        {
          "name": "stdout",
          "output_type": "stream",
          "text": [
            "1/1 [==============================] - 0s 35ms/step\n",
            "Bot:  Tidak ada masalah. Saya bisa melihat mengapa Anda akan stres tentang hal itu. Saya dapat menyarankan Anda beberapa tips untuk mengatasi masalah ini. Apakah Anda ingin mempelajari lebih lanjut tentang itu?\n"
          ]
        }
      ],
      "source": [
        "try:\n",
        "    input_text = input('Masukkan pertanyaan: ')\n",
        "    preprocessed_text = preprocess_input(input_text)\n",
        "    input_seq = tokenizer.texts_to_sequences([preprocessed_text])\n",
        "    input_seq = pad_sequences(input_seq, maxlen=100)\n",
        "    predicted_label_seq = model.predict(input_seq)\n",
        "    predicted_label = encoder.inverse_transform(predicted_label_seq.argmax(axis=-1))[0]\n",
        "    print('Bot: ', predicted_label)\n",
        "except:\n",
        "    print(\"Bot : maaf saya tidak memahami maksud anda\")"
      ],
      "id": "9e66e453"
    },
    {
      "cell_type": "code",
      "execution_count": null,
      "metadata": {
        "colab": {
          "background_save": true
        },
        "id": "791b3f60"
      },
      "outputs": [],
      "source": [
        "\n",
        "import pickle\n",
        "with open('tokenizer.pickle', 'wb') as handle:\n",
        "     pickle.dump(tokenizer, handle, protocol=pickle.HIGHEST_PROTOCOL)\n",
        "with open('label_encoder.pickle', 'wb') as f:\n",
        "     pickle.dump(encoder, f, protocol=pickle.HIGHEST_PROTOCOL)"
      ],
      "id": "791b3f60"
    }
  ],
  "metadata": {
    "colab": {
      "provenance": []
    },
    "kernelspec": {
      "display_name": "Python 3",
      "language": "python",
      "name": "python3"
    },
    "language_info": {
      "codemirror_mode": {
        "name": "ipython",
        "version": 3
      },
      "file_extension": ".py",
      "mimetype": "text/x-python",
      "name": "python",
      "nbconvert_exporter": "python",
      "pygments_lexer": "ipython3",
      "version": "3.10.0"
    }
  },
  "nbformat": 4,
  "nbformat_minor": 5
}