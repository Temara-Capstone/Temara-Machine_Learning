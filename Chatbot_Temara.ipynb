{
  "cells": [
    {
      "cell_type": "code",
      "execution_count": 2,
      "id": "221a6cbd",
      "metadata": {
        "colab": {
          "base_uri": "https://localhost:8080/"
        },
        "id": "221a6cbd",
        "outputId": "645aa79d-53f5-448d-abaf-1d36bffa7f85"
      },
      "outputs": [
        {
          "output_type": "stream",
          "name": "stderr",
          "text": [
            "/usr/local/lib/python3.10/dist-packages/fuzzywuzzy/fuzz.py:11: UserWarning: Using slow pure-python SequenceMatcher. Install python-Levenshtein to remove this warning\n",
            "  warnings.warn('Using slow pure-python SequenceMatcher. Install python-Levenshtein to remove this warning')\n"
          ]
        }
      ],
      "source": [
        "import re\n",
        "import pandas as pd\n",
        "import numpy as np\n",
        "import tensorflow as tf\n",
        "from fuzzywuzzy import fuzz\n",
        "from tensorflow.keras.preprocessing.text import Tokenizer\n",
        "from tensorflow.keras.preprocessing.sequence import pad_sequences\n",
        "from tensorflow.keras.models import Sequential\n",
        "from sklearn.preprocessing import LabelEncoder\n",
        "from tensorflow.keras.layers import Dense, Embedding, LSTM,Dropout,Bidirectional,GlobalMaxPooling1D"
      ]
    },
    {
      "cell_type": "code",
      "execution_count": 1,
      "id": "XSJML47nVE_Z",
      "metadata": {
        "colab": {
          "base_uri": "https://localhost:8080/"
        },
        "id": "XSJML47nVE_Z",
        "outputId": "6cfcad31-dcab-4905-8b76-6393c39c35d6"
      },
      "outputs": [
        {
          "output_type": "stream",
          "name": "stdout",
          "text": [
            "Looking in indexes: https://pypi.org/simple, https://us-python.pkg.dev/colab-wheels/public/simple/\n",
            "Collecting fuzzywuzzy\n",
            "  Downloading fuzzywuzzy-0.18.0-py2.py3-none-any.whl (18 kB)\n",
            "Installing collected packages: fuzzywuzzy\n",
            "Successfully installed fuzzywuzzy-0.18.0\n"
          ]
        }
      ],
      "source": [
        "!pip install fuzzywuzzy"
      ]
    },
    {
      "cell_type": "markdown",
      "id": "cbc494f4",
      "metadata": {
        "id": "cbc494f4"
      },
      "source": [
        "# load dataset"
      ]
    },
    {
      "cell_type": "code",
      "execution_count": 62,
      "id": "3e207558",
      "metadata": {
        "colab": {
          "base_uri": "https://localhost:8080/",
          "height": 206
        },
        "id": "3e207558",
        "outputId": "f067eb5b-5bb7-4e51-c59e-570b96b957c4"
      },
      "outputs": [
        {
          "output_type": "execute_result",
          "data": {
            "text/plain": [
              "          tag        Question  \\\n",
              "433  user 446       mati saja   \n",
              "434  user 447  Apa itu Temara   \n",
              "435  user 448          Temara   \n",
              "436  user 449            Halo   \n",
              "437  user 450            Hai!   \n",
              "\n",
              "                                                Answer  \n",
              "433  Mengakhiri hidup adalah bukan suatu pilihan ya...  \n",
              "434  Temara adalah aplikasi yang bisa menjadi teman...  \n",
              "435  Temara adalah aplikasi yang bisa menjadi teman...  \n",
              "436                                               Hai!  \n",
              "437                                             Hallo!  "
            ],
            "text/html": [
              "\n",
              "  <div id=\"df-847d68c4-e14c-446f-8dc1-49781619095e\">\n",
              "    <div class=\"colab-df-container\">\n",
              "      <div>\n",
              "<style scoped>\n",
              "    .dataframe tbody tr th:only-of-type {\n",
              "        vertical-align: middle;\n",
              "    }\n",
              "\n",
              "    .dataframe tbody tr th {\n",
              "        vertical-align: top;\n",
              "    }\n",
              "\n",
              "    .dataframe thead th {\n",
              "        text-align: right;\n",
              "    }\n",
              "</style>\n",
              "<table border=\"1\" class=\"dataframe\">\n",
              "  <thead>\n",
              "    <tr style=\"text-align: right;\">\n",
              "      <th></th>\n",
              "      <th>tag</th>\n",
              "      <th>Question</th>\n",
              "      <th>Answer</th>\n",
              "    </tr>\n",
              "  </thead>\n",
              "  <tbody>\n",
              "    <tr>\n",
              "      <th>433</th>\n",
              "      <td>user 446</td>\n",
              "      <td>mati saja</td>\n",
              "      <td>Mengakhiri hidup adalah bukan suatu pilihan ya...</td>\n",
              "    </tr>\n",
              "    <tr>\n",
              "      <th>434</th>\n",
              "      <td>user 447</td>\n",
              "      <td>Apa itu Temara</td>\n",
              "      <td>Temara adalah aplikasi yang bisa menjadi teman...</td>\n",
              "    </tr>\n",
              "    <tr>\n",
              "      <th>435</th>\n",
              "      <td>user 448</td>\n",
              "      <td>Temara</td>\n",
              "      <td>Temara adalah aplikasi yang bisa menjadi teman...</td>\n",
              "    </tr>\n",
              "    <tr>\n",
              "      <th>436</th>\n",
              "      <td>user 449</td>\n",
              "      <td>Halo</td>\n",
              "      <td>Hai!</td>\n",
              "    </tr>\n",
              "    <tr>\n",
              "      <th>437</th>\n",
              "      <td>user 450</td>\n",
              "      <td>Hai!</td>\n",
              "      <td>Hallo!</td>\n",
              "    </tr>\n",
              "  </tbody>\n",
              "</table>\n",
              "</div>\n",
              "      <button class=\"colab-df-convert\" onclick=\"convertToInteractive('df-847d68c4-e14c-446f-8dc1-49781619095e')\"\n",
              "              title=\"Convert this dataframe to an interactive table.\"\n",
              "              style=\"display:none;\">\n",
              "        \n",
              "  <svg xmlns=\"http://www.w3.org/2000/svg\" height=\"24px\"viewBox=\"0 0 24 24\"\n",
              "       width=\"24px\">\n",
              "    <path d=\"M0 0h24v24H0V0z\" fill=\"none\"/>\n",
              "    <path d=\"M18.56 5.44l.94 2.06.94-2.06 2.06-.94-2.06-.94-.94-2.06-.94 2.06-2.06.94zm-11 1L8.5 8.5l.94-2.06 2.06-.94-2.06-.94L8.5 2.5l-.94 2.06-2.06.94zm10 10l.94 2.06.94-2.06 2.06-.94-2.06-.94-.94-2.06-.94 2.06-2.06.94z\"/><path d=\"M17.41 7.96l-1.37-1.37c-.4-.4-.92-.59-1.43-.59-.52 0-1.04.2-1.43.59L10.3 9.45l-7.72 7.72c-.78.78-.78 2.05 0 2.83L4 21.41c.39.39.9.59 1.41.59.51 0 1.02-.2 1.41-.59l7.78-7.78 2.81-2.81c.8-.78.8-2.07 0-2.86zM5.41 20L4 18.59l7.72-7.72 1.47 1.35L5.41 20z\"/>\n",
              "  </svg>\n",
              "      </button>\n",
              "      \n",
              "  <style>\n",
              "    .colab-df-container {\n",
              "      display:flex;\n",
              "      flex-wrap:wrap;\n",
              "      gap: 12px;\n",
              "    }\n",
              "\n",
              "    .colab-df-convert {\n",
              "      background-color: #E8F0FE;\n",
              "      border: none;\n",
              "      border-radius: 50%;\n",
              "      cursor: pointer;\n",
              "      display: none;\n",
              "      fill: #1967D2;\n",
              "      height: 32px;\n",
              "      padding: 0 0 0 0;\n",
              "      width: 32px;\n",
              "    }\n",
              "\n",
              "    .colab-df-convert:hover {\n",
              "      background-color: #E2EBFA;\n",
              "      box-shadow: 0px 1px 2px rgba(60, 64, 67, 0.3), 0px 1px 3px 1px rgba(60, 64, 67, 0.15);\n",
              "      fill: #174EA6;\n",
              "    }\n",
              "\n",
              "    [theme=dark] .colab-df-convert {\n",
              "      background-color: #3B4455;\n",
              "      fill: #D2E3FC;\n",
              "    }\n",
              "\n",
              "    [theme=dark] .colab-df-convert:hover {\n",
              "      background-color: #434B5C;\n",
              "      box-shadow: 0px 1px 3px 1px rgba(0, 0, 0, 0.15);\n",
              "      filter: drop-shadow(0px 1px 2px rgba(0, 0, 0, 0.3));\n",
              "      fill: #FFFFFF;\n",
              "    }\n",
              "  </style>\n",
              "\n",
              "      <script>\n",
              "        const buttonEl =\n",
              "          document.querySelector('#df-847d68c4-e14c-446f-8dc1-49781619095e button.colab-df-convert');\n",
              "        buttonEl.style.display =\n",
              "          google.colab.kernel.accessAllowed ? 'block' : 'none';\n",
              "\n",
              "        async function convertToInteractive(key) {\n",
              "          const element = document.querySelector('#df-847d68c4-e14c-446f-8dc1-49781619095e');\n",
              "          const dataTable =\n",
              "            await google.colab.kernel.invokeFunction('convertToInteractive',\n",
              "                                                     [key], {});\n",
              "          if (!dataTable) return;\n",
              "\n",
              "          const docLinkHtml = 'Like what you see? Visit the ' +\n",
              "            '<a target=\"_blank\" href=https://colab.research.google.com/notebooks/data_table.ipynb>data table notebook</a>'\n",
              "            + ' to learn more about interactive tables.';\n",
              "          element.innerHTML = '';\n",
              "          dataTable['output_type'] = 'display_data';\n",
              "          await google.colab.output.renderOutput(dataTable, element);\n",
              "          const docLink = document.createElement('div');\n",
              "          docLink.innerHTML = docLinkHtml;\n",
              "          element.appendChild(docLink);\n",
              "        }\n",
              "      </script>\n",
              "    </div>\n",
              "  </div>\n",
              "  "
            ]
          },
          "metadata": {},
          "execution_count": 62
        }
      ],
      "source": [
        "data = pd.read_excel('Bot Dataset(fixed).xlsx')\n",
        "data.tail()"
      ]
    },
    {
      "cell_type": "markdown",
      "id": "71700231",
      "metadata": {
        "id": "71700231"
      },
      "source": [
        "# inisialisasi stop words"
      ]
    },
    {
      "cell_type": "code",
      "execution_count": 63,
      "id": "f6e69335",
      "metadata": {
        "id": "f6e69335",
        "scrolled": true
      },
      "outputs": [],
      "source": [
        "stopwords = []\n",
        "with open('stopwords.txt', encoding='utf-8') as f:\n",
        "    for line in f:\n",
        "        stopwords.append(line.strip())"
      ]
    },
    {
      "cell_type": "code",
      "execution_count": 64,
      "id": "14d821cf",
      "metadata": {
        "id": "14d821cf"
      },
      "outputs": [],
      "source": [
        "# fungsi untuk menghilangkan stopwords\n",
        "def remove_stopwords(text):\n",
        "    text = text.lower()\n",
        "    text = re.sub('[^a-zA-Z0-9\\s]', '', text)\n",
        "    temp = re.sub(r'[.,’\"\\'-?:!;]', '', text)\n",
        "    text = re.sub(r'^Apa|^Saya|^Aku|^maukah|^Siapa|^Bagaimana|^Dimana|^Kapan|^Kenapa|^Bisakah', '', text)\n",
        "    words = [word for word in text.split() if word not in stopwords]\n",
        "    return ' '.join(words)"
      ]
    },
    {
      "cell_type": "code",
      "execution_count": 65,
      "id": "b496dca9",
      "metadata": {
        "colab": {
          "base_uri": "https://localhost:8080/"
        },
        "id": "b496dca9",
        "outputId": "51cac04f-435c-4265-ac21-728e38fa2d2d"
      },
      "outputs": [
        {
          "output_type": "stream",
          "name": "stdout",
          "text": [
            "0                             penyakit mental\n",
            "1                mempengaruhi penyakit mental\n",
            "2                 menyebabkan penyakit mental\n",
            "3      tanda tanda peringatan penyakit mental\n",
            "4                 orang penyakit mental pulih\n",
            "                        ...                  \n",
            "433                                      mati\n",
            "434                                    temara\n",
            "435                                    temara\n",
            "436                                      halo\n",
            "437                                       hai\n",
            "Name: Question, Length: 438, dtype: object\n"
          ]
        }
      ],
      "source": [
        "# menghilangkan stopwords dari dataset\n",
        "data['Question'] = data['Question'].apply(remove_stopwords)\n",
        "print(data['Question'])"
      ]
    },
    {
      "cell_type": "markdown",
      "id": "d0b103c5",
      "metadata": {
        "id": "d0b103c5"
      },
      "source": [
        "# inisialisasi tokenizer"
      ]
    },
    {
      "cell_type": "code",
      "execution_count": 66,
      "id": "c6f3536f",
      "metadata": {
        "id": "c6f3536f"
      },
      "outputs": [],
      "source": [
        "# inisialisasi tokenizer\n",
        "tokenizer = Tokenizer(num_words=5000, oov_token='<OOV>')\n",
        "tokenizer.fit_on_texts(data['Question'])"
      ]
    },
    {
      "cell_type": "code",
      "execution_count": 67,
      "id": "2639390d",
      "metadata": {
        "id": "2639390d"
      },
      "outputs": [],
      "source": [
        "# fungsi untuk mengganti kata typo dengan kata yang paling mirip pada dataset\n",
        "def correct_typo(word):\n",
        "    max_score = -1\n",
        "    correct_word = word\n",
        "    for vocab_word in tokenizer.word_index:\n",
        "        score = fuzz.ratio(word, vocab_word)\n",
        "        if score > max_score:\n",
        "            max_score = score\n",
        "            correct_word = vocab_word\n",
        "    return correct_word\n",
        "\n",
        "# fungsi untuk mengoreksi typo pada kalimat\n",
        "def correct_sentence(sentence):\n",
        "    corrected_sentence = []\n",
        "    words = sentence.split()\n",
        "    for word in words:\n",
        "        corrected_word = correct_typo(word)\n",
        "        corrected_sentence.append(corrected_word)\n",
        "    return ' '.join(corrected_sentence)\n",
        "\n",
        "# fungsi untuk membersihkan dan memproses input pengguna\n",
        "def preprocess_input(text):\n",
        "    text = remove_stopwords(text)\n",
        "    text = correct_sentence(text)\n",
        "    return text\n"
      ]
    },
    {
      "cell_type": "markdown",
      "id": "673e160b",
      "metadata": {
        "id": "673e160b"
      },
      "source": [
        "# encoding label Respon"
      ]
    },
    {
      "cell_type": "code",
      "execution_count": 68,
      "id": "341033f0",
      "metadata": {
        "id": "341033f0"
      },
      "outputs": [],
      "source": [
        "encoder = LabelEncoder()\n",
        "encoder.fit(data['Answer'])\n",
        "encoded_labels = encoder.transform(data['Answer'])"
      ]
    },
    {
      "cell_type": "markdown",
      "id": "005d963f",
      "metadata": {
        "id": "005d963f"
      },
      "source": [
        "# split data menjadi train dan validation set"
      ]
    },
    {
      "cell_type": "code",
      "execution_count": 69,
      "id": "d3825cf6",
      "metadata": {
        "id": "d3825cf6"
      },
      "outputs": [],
      "source": [
        "train_size = int(len(data) * 0.8)\n",
        "train_data = data[:train_size]\n",
        "val_data = data[train_size:]\n",
        "\n",
        "train_seq = tokenizer.texts_to_sequences(data['Question'])\n",
        "val_seq = tokenizer.texts_to_sequences(val_data['Question'])\n",
        "\n",
        "train_label_seq = encoded_labels[:train_size]\n",
        "val_label_seq = encoded_labels[train_size:]"
      ]
    },
    {
      "cell_type": "markdown",
      "id": "9e0cb512",
      "metadata": {
        "id": "9e0cb512"
      },
      "source": [
        "# padding sequence"
      ]
    },
    {
      "cell_type": "code",
      "execution_count": 70,
      "id": "8b02c13d",
      "metadata": {
        "id": "8b02c13d"
      },
      "outputs": [],
      "source": [
        "train_seq = pad_sequences(train_seq, maxlen=100, truncating='post')\n",
        "val_seq = pad_sequences(val_seq, maxlen=100, truncating='post')"
      ]
    },
    {
      "cell_type": "markdown",
      "id": "77311817",
      "metadata": {
        "id": "77311817"
      },
      "source": [
        "# callback"
      ]
    },
    {
      "cell_type": "code",
      "execution_count": 71,
      "id": "4bc1e33d",
      "metadata": {
        "id": "4bc1e33d"
      },
      "outputs": [],
      "source": [
        "class Callback(tf.keras.callbacks.Callback):\n",
        "    def on_epoch_end(self, epoch, logs={}):\n",
        "        if logs.get('accuracy') is not None and logs.get('accuracy') > 0.998:\n",
        "            print(\"\\n\\nAccuracy Has Been Achieved Around 99.8%, Training Stop!\\n\")\n",
        "            self.model.stop_training = True"
      ]
    },
    {
      "cell_type": "markdown",
      "id": "2abf21a8",
      "metadata": {
        "id": "2abf21a8"
      },
      "source": [
        "# MODEL"
      ]
    },
    {
      "cell_type": "code",
      "execution_count": 72,
      "id": "89819712",
      "metadata": {
        "id": "89819712"
      },
      "outputs": [],
      "source": [
        "model = Sequential([\n",
        "    Embedding(len(tokenizer.word_index)+1, 64, input_length=100),\n",
        "    Bidirectional(LSTM(128)),\n",
        "    Dropout(0.2),\n",
        "    Dense(128, activation='relu'),\n",
        "    Dense(450, activation='softmax')\n",
        "])\n",
        "# compile model\n",
        "model.compile(loss='sparse_categorical_crossentropy', optimizer='adam', metrics=['accuracy'])\n"
      ]
    },
    {
      "cell_type": "code",
      "execution_count": 73,
      "id": "8091f017",
      "metadata": {
        "colab": {
          "base_uri": "https://localhost:8080/"
        },
        "id": "8091f017",
        "outputId": "b5dd1b80-2164-4fcc-f795-a40d3cd51253",
        "scrolled": true
      },
      "outputs": [
        {
          "output_type": "stream",
          "name": "stdout",
          "text": [
            "Epoch 1/200\n",
            "14/14 [==============================] - 8s 240ms/step - loss: 6.1142 - accuracy: 0.0023\n",
            "Epoch 2/200\n",
            "14/14 [==============================] - 5s 338ms/step - loss: 6.1064 - accuracy: 0.0114\n",
            "Epoch 3/200\n",
            "14/14 [==============================] - 3s 236ms/step - loss: 6.0972 - accuracy: 0.0114\n",
            "Epoch 4/200\n",
            "14/14 [==============================] - 3s 234ms/step - loss: 6.0775 - accuracy: 0.0137\n",
            "Epoch 5/200\n",
            "14/14 [==============================] - 4s 304ms/step - loss: 6.0209 - accuracy: 0.0091\n",
            "Epoch 6/200\n",
            "14/14 [==============================] - 4s 260ms/step - loss: 5.9884 - accuracy: 0.0091\n",
            "Epoch 7/200\n",
            "14/14 [==============================] - 3s 239ms/step - loss: 5.9596 - accuracy: 0.0091\n",
            "Epoch 8/200\n",
            "14/14 [==============================] - 3s 237ms/step - loss: 5.9411 - accuracy: 0.0137\n",
            "Epoch 9/200\n",
            "14/14 [==============================] - 5s 338ms/step - loss: 5.9025 - accuracy: 0.0205\n",
            "Epoch 10/200\n",
            "14/14 [==============================] - 3s 233ms/step - loss: 5.8565 - accuracy: 0.0183\n",
            "Epoch 11/200\n",
            "14/14 [==============================] - 3s 230ms/step - loss: 5.7785 - accuracy: 0.0160\n",
            "Epoch 12/200\n",
            "14/14 [==============================] - 4s 314ms/step - loss: 5.6608 - accuracy: 0.0205\n",
            "Epoch 13/200\n",
            "14/14 [==============================] - 4s 239ms/step - loss: 5.4832 - accuracy: 0.0228\n",
            "Epoch 14/200\n",
            "14/14 [==============================] - 3s 238ms/step - loss: 5.2708 - accuracy: 0.0297\n",
            "Epoch 15/200\n",
            "14/14 [==============================] - 3s 233ms/step - loss: 5.0405 - accuracy: 0.0365\n",
            "Epoch 16/200\n",
            "14/14 [==============================] - 5s 336ms/step - loss: 4.8089 - accuracy: 0.0388\n",
            "Epoch 17/200\n",
            "14/14 [==============================] - 3s 235ms/step - loss: 4.5339 - accuracy: 0.0685\n",
            "Epoch 18/200\n",
            "14/14 [==============================] - 3s 233ms/step - loss: 4.2946 - accuracy: 0.0731\n",
            "Epoch 19/200\n",
            "14/14 [==============================] - 4s 318ms/step - loss: 4.0456 - accuracy: 0.1050\n",
            "Epoch 20/200\n",
            "14/14 [==============================] - 4s 239ms/step - loss: 3.7703 - accuracy: 0.1438\n",
            "Epoch 21/200\n",
            "14/14 [==============================] - 3s 234ms/step - loss: 3.5119 - accuracy: 0.1712\n",
            "Epoch 22/200\n",
            "14/14 [==============================] - 3s 234ms/step - loss: 3.1873 - accuracy: 0.2603\n",
            "Epoch 23/200\n",
            "14/14 [==============================] - 5s 338ms/step - loss: 2.9382 - accuracy: 0.3105\n",
            "Epoch 24/200\n",
            "14/14 [==============================] - 3s 242ms/step - loss: 2.6813 - accuracy: 0.3676\n",
            "Epoch 25/200\n",
            "14/14 [==============================] - 3s 234ms/step - loss: 2.4230 - accuracy: 0.4361\n",
            "Epoch 26/200\n",
            "14/14 [==============================] - 5s 332ms/step - loss: 2.2003 - accuracy: 0.5251\n",
            "Epoch 27/200\n",
            "14/14 [==============================] - 3s 234ms/step - loss: 2.0308 - accuracy: 0.5320\n",
            "Epoch 28/200\n",
            "14/14 [==============================] - 3s 236ms/step - loss: 1.8135 - accuracy: 0.5639\n",
            "Epoch 29/200\n",
            "14/14 [==============================] - 3s 238ms/step - loss: 1.6301 - accuracy: 0.6347\n",
            "Epoch 30/200\n",
            "14/14 [==============================] - 5s 334ms/step - loss: 1.4969 - accuracy: 0.6256\n",
            "Epoch 31/200\n",
            "14/14 [==============================] - 3s 239ms/step - loss: 1.3605 - accuracy: 0.6781\n",
            "Epoch 32/200\n",
            "14/14 [==============================] - 3s 236ms/step - loss: 1.2385 - accuracy: 0.7078\n",
            "Epoch 33/200\n",
            "14/14 [==============================] - 5s 341ms/step - loss: 1.1669 - accuracy: 0.7100\n",
            "Epoch 34/200\n",
            "14/14 [==============================] - 3s 237ms/step - loss: 1.0619 - accuracy: 0.7489\n",
            "Epoch 35/200\n",
            "14/14 [==============================] - 3s 234ms/step - loss: 0.9801 - accuracy: 0.7740\n",
            "Epoch 36/200\n",
            "14/14 [==============================] - 3s 237ms/step - loss: 0.9136 - accuracy: 0.7763\n",
            "Epoch 37/200\n",
            "14/14 [==============================] - 5s 318ms/step - loss: 0.8385 - accuracy: 0.7968\n",
            "Epoch 38/200\n",
            "14/14 [==============================] - 3s 238ms/step - loss: 0.8458 - accuracy: 0.7694\n",
            "Epoch 39/200\n",
            "14/14 [==============================] - 3s 234ms/step - loss: 0.7680 - accuracy: 0.7922\n",
            "Epoch 40/200\n",
            "14/14 [==============================] - 5s 335ms/step - loss: 0.6928 - accuracy: 0.8242\n",
            "Epoch 41/200\n",
            "14/14 [==============================] - 3s 232ms/step - loss: 0.6616 - accuracy: 0.8082\n",
            "Epoch 42/200\n",
            "14/14 [==============================] - 3s 232ms/step - loss: 0.6287 - accuracy: 0.8242\n",
            "Epoch 43/200\n",
            "14/14 [==============================] - 3s 238ms/step - loss: 0.6033 - accuracy: 0.8105\n",
            "Epoch 44/200\n",
            "14/14 [==============================] - 5s 312ms/step - loss: 0.5818 - accuracy: 0.8288\n",
            "Epoch 45/200\n",
            "14/14 [==============================] - 3s 232ms/step - loss: 0.5719 - accuracy: 0.8128\n",
            "Epoch 46/200\n",
            "14/14 [==============================] - 3s 234ms/step - loss: 0.5606 - accuracy: 0.8151\n",
            "Epoch 47/200\n",
            "14/14 [==============================] - 5s 338ms/step - loss: 0.5554 - accuracy: 0.8128\n",
            "Epoch 48/200\n",
            "14/14 [==============================] - 3s 235ms/step - loss: 0.5001 - accuracy: 0.8311\n",
            "Epoch 49/200\n",
            "14/14 [==============================] - 3s 234ms/step - loss: 0.5253 - accuracy: 0.8105\n",
            "Epoch 50/200\n",
            "14/14 [==============================] - 4s 252ms/step - loss: 0.4999 - accuracy: 0.8288\n",
            "Epoch 51/200\n",
            "14/14 [==============================] - 4s 307ms/step - loss: 0.4603 - accuracy: 0.8333\n",
            "Epoch 52/200\n",
            "14/14 [==============================] - 3s 237ms/step - loss: 0.4529 - accuracy: 0.8242\n",
            "Epoch 53/200\n",
            "14/14 [==============================] - 3s 236ms/step - loss: 0.4526 - accuracy: 0.8356\n",
            "Epoch 54/200\n",
            "14/14 [==============================] - 5s 335ms/step - loss: 0.4647 - accuracy: 0.8151\n",
            "Epoch 55/200\n",
            "14/14 [==============================] - 5s 344ms/step - loss: 0.4679 - accuracy: 0.8196\n",
            "Epoch 56/200\n",
            "14/14 [==============================] - 3s 232ms/step - loss: 0.4454 - accuracy: 0.8333\n",
            "Epoch 57/200\n",
            "14/14 [==============================] - 5s 334ms/step - loss: 0.4397 - accuracy: 0.8379\n",
            "Epoch 58/200\n",
            "14/14 [==============================] - 3s 243ms/step - loss: 0.4495 - accuracy: 0.8265\n",
            "Epoch 59/200\n",
            "14/14 [==============================] - 3s 243ms/step - loss: 0.4273 - accuracy: 0.8265\n",
            "Epoch 60/200\n",
            "14/14 [==============================] - 4s 286ms/step - loss: 0.4310 - accuracy: 0.8242\n",
            "Epoch 61/200\n",
            "14/14 [==============================] - 4s 273ms/step - loss: 0.4312 - accuracy: 0.8288\n",
            "Epoch 62/200\n",
            "14/14 [==============================] - 3s 242ms/step - loss: 0.4118 - accuracy: 0.8425\n",
            "Epoch 63/200\n",
            "14/14 [==============================] - 3s 243ms/step - loss: 0.4128 - accuracy: 0.8311\n",
            "Epoch 64/200\n",
            "14/14 [==============================] - 5s 342ms/step - loss: 0.4114 - accuracy: 0.8356\n",
            "Epoch 65/200\n",
            "14/14 [==============================] - 3s 239ms/step - loss: 0.4010 - accuracy: 0.8356\n",
            "Epoch 66/200\n",
            "14/14 [==============================] - 3s 236ms/step - loss: 0.4094 - accuracy: 0.8333\n",
            "Epoch 67/200\n",
            "14/14 [==============================] - 4s 318ms/step - loss: 0.4149 - accuracy: 0.8242\n",
            "Epoch 68/200\n",
            "14/14 [==============================] - 4s 244ms/step - loss: 0.4085 - accuracy: 0.8311\n",
            "Epoch 69/200\n",
            "14/14 [==============================] - 3s 234ms/step - loss: 0.3930 - accuracy: 0.8311\n",
            "Epoch 70/200\n",
            "14/14 [==============================] - 3s 236ms/step - loss: 0.3741 - accuracy: 0.8379\n",
            "Epoch 71/200\n",
            "14/14 [==============================] - 5s 342ms/step - loss: 0.3919 - accuracy: 0.8219\n",
            "Epoch 72/200\n",
            "14/14 [==============================] - 3s 238ms/step - loss: 0.4009 - accuracy: 0.8196\n",
            "Epoch 73/200\n",
            "14/14 [==============================] - 3s 235ms/step - loss: 0.3994 - accuracy: 0.8242\n",
            "Epoch 74/200\n",
            "14/14 [==============================] - 4s 327ms/step - loss: 0.3686 - accuracy: 0.8356\n",
            "Epoch 75/200\n",
            "14/14 [==============================] - 3s 235ms/step - loss: 0.3806 - accuracy: 0.8379\n",
            "Epoch 76/200\n",
            "14/14 [==============================] - 3s 239ms/step - loss: 0.3939 - accuracy: 0.8402\n",
            "Epoch 77/200\n",
            "14/14 [==============================] - 3s 237ms/step - loss: 0.3819 - accuracy: 0.8311\n",
            "Epoch 78/200\n",
            "14/14 [==============================] - 5s 338ms/step - loss: 0.4075 - accuracy: 0.8151\n",
            "Epoch 79/200\n",
            "14/14 [==============================] - 3s 238ms/step - loss: 0.3980 - accuracy: 0.8242\n",
            "Epoch 80/200\n",
            "14/14 [==============================] - 3s 236ms/step - loss: 0.3687 - accuracy: 0.8311\n",
            "Epoch 81/200\n",
            "14/14 [==============================] - 5s 340ms/step - loss: 0.3860 - accuracy: 0.8174\n",
            "Epoch 82/200\n",
            "14/14 [==============================] - 3s 235ms/step - loss: 0.3658 - accuracy: 0.8356\n",
            "Epoch 83/200\n",
            "14/14 [==============================] - 3s 239ms/step - loss: 0.3778 - accuracy: 0.8333\n",
            "Epoch 84/200\n",
            "14/14 [==============================] - 3s 246ms/step - loss: 0.3654 - accuracy: 0.8311\n",
            "Epoch 85/200\n",
            "14/14 [==============================] - 5s 325ms/step - loss: 0.3565 - accuracy: 0.8333\n",
            "Epoch 86/200\n",
            "14/14 [==============================] - 3s 236ms/step - loss: 0.3716 - accuracy: 0.8174\n",
            "Epoch 87/200\n",
            "14/14 [==============================] - 3s 237ms/step - loss: 0.3626 - accuracy: 0.8288\n",
            "Epoch 88/200\n",
            "14/14 [==============================] - 5s 339ms/step - loss: 0.3836 - accuracy: 0.8288\n",
            "Epoch 89/200\n",
            "14/14 [==============================] - 3s 240ms/step - loss: 0.3699 - accuracy: 0.8265\n",
            "Epoch 90/200\n",
            "14/14 [==============================] - 3s 238ms/step - loss: 0.3592 - accuracy: 0.8288\n",
            "Epoch 91/200\n",
            "14/14 [==============================] - 4s 259ms/step - loss: 0.3800 - accuracy: 0.8219\n",
            "Epoch 92/200\n",
            "14/14 [==============================] - 4s 300ms/step - loss: 0.3595 - accuracy: 0.8311\n",
            "Epoch 93/200\n",
            "14/14 [==============================] - 3s 234ms/step - loss: 0.3632 - accuracy: 0.8242\n",
            "Epoch 94/200\n",
            "14/14 [==============================] - 3s 238ms/step - loss: 0.3490 - accuracy: 0.8333\n",
            "Epoch 95/200\n",
            "14/14 [==============================] - 5s 343ms/step - loss: 0.3765 - accuracy: 0.8447\n",
            "Epoch 96/200\n",
            "14/14 [==============================] - 3s 235ms/step - loss: 0.3791 - accuracy: 0.8265\n",
            "Epoch 97/200\n",
            "14/14 [==============================] - 3s 236ms/step - loss: 0.3553 - accuracy: 0.8288\n",
            "Epoch 98/200\n",
            "14/14 [==============================] - 4s 281ms/step - loss: 0.3635 - accuracy: 0.8311\n",
            "Epoch 99/200\n",
            "14/14 [==============================] - 4s 274ms/step - loss: 0.3560 - accuracy: 0.8265\n",
            "Epoch 100/200\n",
            "14/14 [==============================] - 3s 238ms/step - loss: 0.3599 - accuracy: 0.8356\n",
            "Epoch 101/200\n",
            "14/14 [==============================] - 3s 237ms/step - loss: 0.3622 - accuracy: 0.8288\n",
            "Epoch 102/200\n",
            "14/14 [==============================] - 5s 337ms/step - loss: 0.3517 - accuracy: 0.8447\n",
            "Epoch 103/200\n",
            "14/14 [==============================] - 3s 234ms/step - loss: 0.3529 - accuracy: 0.8356\n",
            "Epoch 104/200\n",
            "14/14 [==============================] - 3s 235ms/step - loss: 0.3448 - accuracy: 0.8265\n",
            "Epoch 105/200\n",
            "14/14 [==============================] - 4s 295ms/step - loss: 0.3474 - accuracy: 0.8470\n",
            "Epoch 106/200\n",
            "14/14 [==============================] - 4s 259ms/step - loss: 0.3571 - accuracy: 0.8265\n",
            "Epoch 107/200\n",
            "14/14 [==============================] - 3s 237ms/step - loss: 0.3447 - accuracy: 0.8447\n",
            "Epoch 108/200\n",
            "14/14 [==============================] - 3s 237ms/step - loss: 0.3461 - accuracy: 0.8333\n",
            "Epoch 109/200\n",
            "14/14 [==============================] - 5s 343ms/step - loss: 0.3399 - accuracy: 0.8402\n",
            "Epoch 110/200\n",
            "14/14 [==============================] - 3s 237ms/step - loss: 0.3479 - accuracy: 0.8311\n",
            "Epoch 111/200\n",
            "14/14 [==============================] - 3s 238ms/step - loss: 0.3587 - accuracy: 0.8333\n",
            "Epoch 112/200\n",
            "14/14 [==============================] - 4s 318ms/step - loss: 0.3667 - accuracy: 0.8128\n",
            "Epoch 113/200\n",
            "14/14 [==============================] - 4s 247ms/step - loss: 0.3485 - accuracy: 0.8311\n",
            "Epoch 114/200\n",
            "14/14 [==============================] - 3s 235ms/step - loss: 0.3489 - accuracy: 0.8265\n",
            "Epoch 115/200\n",
            "14/14 [==============================] - 3s 235ms/step - loss: 0.3488 - accuracy: 0.8379\n",
            "Epoch 116/200\n",
            "14/14 [==============================] - 5s 339ms/step - loss: 0.3765 - accuracy: 0.8082\n",
            "Epoch 117/200\n",
            "14/14 [==============================] - 3s 235ms/step - loss: 0.3447 - accuracy: 0.8151\n",
            "Epoch 118/200\n",
            "14/14 [==============================] - 3s 236ms/step - loss: 0.3486 - accuracy: 0.8219\n",
            "Epoch 119/200\n",
            "14/14 [==============================] - 5s 335ms/step - loss: 0.3365 - accuracy: 0.8311\n",
            "Epoch 120/200\n",
            "14/14 [==============================] - 3s 239ms/step - loss: 0.3337 - accuracy: 0.8402\n",
            "Epoch 121/200\n",
            "14/14 [==============================] - 3s 239ms/step - loss: 0.3397 - accuracy: 0.8356\n",
            "Epoch 122/200\n",
            "14/14 [==============================] - 3s 240ms/step - loss: 0.3421 - accuracy: 0.8196\n",
            "Epoch 123/200\n",
            "14/14 [==============================] - 5s 328ms/step - loss: 0.3527 - accuracy: 0.8288\n",
            "Epoch 124/200\n",
            "14/14 [==============================] - 3s 238ms/step - loss: 0.3422 - accuracy: 0.8174\n",
            "Epoch 125/200\n",
            "14/14 [==============================] - 3s 235ms/step - loss: 0.3524 - accuracy: 0.8265\n",
            "Epoch 126/200\n",
            "14/14 [==============================] - 5s 338ms/step - loss: 0.3316 - accuracy: 0.8356\n",
            "Epoch 127/200\n",
            "14/14 [==============================] - 3s 237ms/step - loss: 0.3461 - accuracy: 0.8265\n",
            "Epoch 128/200\n",
            "14/14 [==============================] - 3s 238ms/step - loss: 0.3425 - accuracy: 0.8265\n",
            "Epoch 129/200\n",
            "14/14 [==============================] - 4s 257ms/step - loss: 0.3422 - accuracy: 0.8219\n",
            "Epoch 130/200\n",
            "14/14 [==============================] - 4s 303ms/step - loss: 0.3447 - accuracy: 0.8333\n",
            "Epoch 131/200\n",
            "14/14 [==============================] - 3s 234ms/step - loss: 0.3428 - accuracy: 0.8265\n",
            "Epoch 132/200\n",
            "14/14 [==============================] - 3s 235ms/step - loss: 0.3332 - accuracy: 0.8425\n",
            "Epoch 133/200\n",
            "14/14 [==============================] - 5s 341ms/step - loss: 0.3380 - accuracy: 0.8379\n",
            "Epoch 134/200\n",
            "14/14 [==============================] - 3s 238ms/step - loss: 0.3288 - accuracy: 0.8402\n",
            "Epoch 135/200\n",
            "14/14 [==============================] - 3s 233ms/step - loss: 0.3315 - accuracy: 0.8288\n",
            "Epoch 136/200\n",
            "14/14 [==============================] - 4s 288ms/step - loss: 0.3280 - accuracy: 0.8402\n",
            "Epoch 137/200\n",
            "14/14 [==============================] - 4s 273ms/step - loss: 0.3442 - accuracy: 0.8311\n",
            "Epoch 138/200\n",
            "14/14 [==============================] - 3s 234ms/step - loss: 0.3246 - accuracy: 0.8356\n",
            "Epoch 139/200\n",
            "14/14 [==============================] - 3s 234ms/step - loss: 0.3381 - accuracy: 0.8356\n",
            "Epoch 140/200\n",
            "14/14 [==============================] - 5s 340ms/step - loss: 0.3411 - accuracy: 0.8242\n",
            "Epoch 141/200\n",
            "14/14 [==============================] - 3s 237ms/step - loss: 0.3506 - accuracy: 0.8242\n",
            "Epoch 142/200\n",
            "14/14 [==============================] - 3s 238ms/step - loss: 0.3312 - accuracy: 0.8379\n",
            "Epoch 143/200\n",
            "14/14 [==============================] - 4s 304ms/step - loss: 0.3276 - accuracy: 0.8402\n",
            "Epoch 144/200\n",
            "14/14 [==============================] - 4s 250ms/step - loss: 0.3398 - accuracy: 0.8311\n",
            "Epoch 145/200\n",
            "14/14 [==============================] - 3s 236ms/step - loss: 0.3184 - accuracy: 0.8242\n",
            "Epoch 146/200\n",
            "14/14 [==============================] - 3s 236ms/step - loss: 0.3447 - accuracy: 0.8219\n",
            "Epoch 147/200\n",
            "14/14 [==============================] - 5s 337ms/step - loss: 0.3381 - accuracy: 0.8333\n",
            "Epoch 148/200\n",
            "14/14 [==============================] - 3s 235ms/step - loss: 0.3526 - accuracy: 0.8265\n",
            "Epoch 149/200\n",
            "14/14 [==============================] - 3s 239ms/step - loss: 0.3274 - accuracy: 0.8265\n",
            "Epoch 150/200\n",
            "14/14 [==============================] - 5s 332ms/step - loss: 0.3343 - accuracy: 0.8174\n",
            "Epoch 151/200\n",
            "14/14 [==============================] - 3s 239ms/step - loss: 0.3382 - accuracy: 0.8219\n",
            "Epoch 152/200\n",
            "14/14 [==============================] - 3s 233ms/step - loss: 0.3213 - accuracy: 0.8425\n",
            "Epoch 153/200\n",
            "14/14 [==============================] - 3s 238ms/step - loss: 0.3361 - accuracy: 0.8356\n",
            "Epoch 154/200\n",
            "14/14 [==============================] - 5s 335ms/step - loss: 0.3230 - accuracy: 0.8333\n",
            "Epoch 155/200\n",
            "14/14 [==============================] - 3s 243ms/step - loss: 0.3344 - accuracy: 0.8379\n",
            "Epoch 156/200\n",
            "14/14 [==============================] - 3s 237ms/step - loss: 0.3357 - accuracy: 0.8288\n",
            "Epoch 157/200\n",
            "14/14 [==============================] - 5s 338ms/step - loss: 0.3332 - accuracy: 0.8333\n",
            "Epoch 158/200\n",
            "14/14 [==============================] - 4s 270ms/step - loss: 0.3373 - accuracy: 0.8174\n",
            "Epoch 159/200\n",
            "14/14 [==============================] - 5s 370ms/step - loss: 0.3321 - accuracy: 0.8356\n",
            "Epoch 160/200\n",
            "14/14 [==============================] - 5s 346ms/step - loss: 0.3352 - accuracy: 0.8288\n",
            "Epoch 161/200\n",
            "14/14 [==============================] - 3s 236ms/step - loss: 0.3253 - accuracy: 0.8219\n",
            "Epoch 162/200\n",
            "14/14 [==============================] - 3s 234ms/step - loss: 0.3377 - accuracy: 0.8356\n",
            "Epoch 163/200\n",
            "14/14 [==============================] - 4s 312ms/step - loss: 0.3175 - accuracy: 0.8356\n",
            "Epoch 164/200\n",
            "14/14 [==============================] - 4s 243ms/step - loss: 0.3377 - accuracy: 0.8288\n",
            "Epoch 165/200\n",
            "14/14 [==============================] - 3s 236ms/step - loss: 0.3290 - accuracy: 0.8288\n",
            "Epoch 166/200\n",
            "14/14 [==============================] - 3s 236ms/step - loss: 0.3300 - accuracy: 0.8333\n",
            "Epoch 167/200\n",
            "14/14 [==============================] - 5s 339ms/step - loss: 0.3317 - accuracy: 0.8242\n",
            "Epoch 168/200\n",
            "14/14 [==============================] - 3s 239ms/step - loss: 0.3244 - accuracy: 0.8333\n",
            "Epoch 169/200\n",
            "14/14 [==============================] - 3s 243ms/step - loss: 0.3337 - accuracy: 0.8333\n",
            "Epoch 170/200\n",
            "14/14 [==============================] - 5s 331ms/step - loss: 0.3299 - accuracy: 0.8356\n",
            "Epoch 171/200\n",
            "14/14 [==============================] - 3s 239ms/step - loss: 0.3413 - accuracy: 0.8356\n",
            "Epoch 172/200\n",
            "14/14 [==============================] - 3s 237ms/step - loss: 0.3359 - accuracy: 0.8311\n",
            "Epoch 173/200\n",
            "14/14 [==============================] - 3s 241ms/step - loss: 0.3322 - accuracy: 0.8356\n",
            "Epoch 174/200\n",
            "14/14 [==============================] - 5s 326ms/step - loss: 0.3409 - accuracy: 0.8219\n",
            "Epoch 175/200\n",
            "14/14 [==============================] - 3s 238ms/step - loss: 0.3265 - accuracy: 0.8402\n",
            "Epoch 176/200\n",
            "14/14 [==============================] - 3s 237ms/step - loss: 0.3200 - accuracy: 0.8333\n",
            "Epoch 177/200\n",
            "14/14 [==============================] - 5s 340ms/step - loss: 0.3207 - accuracy: 0.8311\n",
            "Epoch 178/200\n",
            "14/14 [==============================] - 3s 238ms/step - loss: 0.3227 - accuracy: 0.8356\n",
            "Epoch 179/200\n",
            "14/14 [==============================] - 3s 233ms/step - loss: 0.3226 - accuracy: 0.8447\n",
            "Epoch 180/200\n",
            "14/14 [==============================] - 3s 251ms/step - loss: 0.3168 - accuracy: 0.8311\n",
            "Epoch 181/200\n",
            "14/14 [==============================] - 4s 311ms/step - loss: 0.3163 - accuracy: 0.8311\n",
            "Epoch 182/200\n",
            "14/14 [==============================] - 3s 240ms/step - loss: 0.3326 - accuracy: 0.8333\n",
            "Epoch 183/200\n",
            "14/14 [==============================] - 3s 239ms/step - loss: 0.3432 - accuracy: 0.8333\n",
            "Epoch 184/200\n",
            "14/14 [==============================] - 5s 341ms/step - loss: 0.3211 - accuracy: 0.8493\n",
            "Epoch 185/200\n",
            "14/14 [==============================] - 3s 239ms/step - loss: 0.3305 - accuracy: 0.8265\n",
            "Epoch 186/200\n",
            "14/14 [==============================] - 3s 243ms/step - loss: 0.3299 - accuracy: 0.8333\n",
            "Epoch 187/200\n",
            "14/14 [==============================] - 4s 277ms/step - loss: 0.3297 - accuracy: 0.8219\n",
            "Epoch 188/200\n",
            "14/14 [==============================] - 4s 283ms/step - loss: 0.3302 - accuracy: 0.8151\n",
            "Epoch 189/200\n",
            "14/14 [==============================] - 3s 240ms/step - loss: 0.3289 - accuracy: 0.8288\n",
            "Epoch 190/200\n",
            "14/14 [==============================] - 3s 235ms/step - loss: 0.3229 - accuracy: 0.8242\n",
            "Epoch 191/200\n",
            "14/14 [==============================] - 5s 338ms/step - loss: 0.3340 - accuracy: 0.8333\n",
            "Epoch 192/200\n",
            "14/14 [==============================] - 3s 237ms/step - loss: 0.3248 - accuracy: 0.8242\n",
            "Epoch 193/200\n",
            "14/14 [==============================] - 3s 237ms/step - loss: 0.3241 - accuracy: 0.8333\n",
            "Epoch 194/200\n",
            "14/14 [==============================] - 4s 285ms/step - loss: 0.3193 - accuracy: 0.8242\n",
            "Epoch 195/200\n",
            "14/14 [==============================] - 4s 266ms/step - loss: 0.3217 - accuracy: 0.8356\n",
            "Epoch 196/200\n",
            "14/14 [==============================] - 3s 238ms/step - loss: 0.3193 - accuracy: 0.8288\n",
            "Epoch 197/200\n",
            "14/14 [==============================] - 3s 236ms/step - loss: 0.3186 - accuracy: 0.8333\n",
            "Epoch 198/200\n",
            "14/14 [==============================] - 5s 341ms/step - loss: 0.3254 - accuracy: 0.8311\n",
            "Epoch 199/200\n",
            "14/14 [==============================] - 3s 233ms/step - loss: 0.3200 - accuracy: 0.8265\n",
            "Epoch 200/200\n",
            "14/14 [==============================] - 3s 236ms/step - loss: 0.3158 - accuracy: 0.8265\n"
          ]
        }
      ],
      "source": [
        "# training model\n",
        "history = model.fit(train_seq, encoded_labels, epochs=200,callbacks=[Callback()])"
      ]
    },
    {
      "cell_type": "code",
      "execution_count": 74,
      "id": "8f588dea",
      "metadata": {
        "colab": {
          "base_uri": "https://localhost:8080/",
          "height": 881
        },
        "id": "8f588dea",
        "outputId": "c3b18e2c-5e71-4932-8e36-213965112c3c"
      },
      "outputs": [
        {
          "output_type": "display_data",
          "data": {
            "text/plain": [
              "<Figure size 640x480 with 1 Axes>"
            ],
            "image/png": "[encoded data removed]"
          },
          "metadata": {}
        },
        {
          "output_type": "display_data",
          "data": {
            "text/plain": [
              "<Figure size 640x480 with 1 Axes>"
            ],
            "image/png": "[encoded data removed]"
          },
          "metadata": {}
        }
      ],
      "source": [
        "import matplotlib.pyplot as plt\n",
        "\n",
        "# Plot utility\n",
        "def plot_graphs(history, string):\n",
        "  plt.plot(history.history[string])\n",
        "  plt.xlabel(\"Epochs\")\n",
        "  plt.ylabel(string)\n",
        "  plt.show()\n",
        "\n",
        "# Plot the accuracy and results \n",
        "plot_graphs(history, \"accuracy\")\n",
        "plot_graphs(history, \"loss\")"
      ]
    },
    {
      "cell_type": "markdown",
      "id": "ab809675",
      "metadata": {
        "id": "ab809675"
      },
      "source": [
        "# TESTING"
      ]
    },
    {
      "cell_type": "code",
      "execution_count": 90,
      "id": "9e66e453",
      "metadata": {
        "colab": {
          "base_uri": "https://localhost:8080/"
        },
        "id": "9e66e453",
        "outputId": "c7dc524b-6d60-45c8-d8cc-310a80f186eb"
      },
      "outputs": [
        {
          "output_type": "stream",
          "name": "stdout",
          "text": [
            "Masukkan pertanyaan: saya pikir saya jelek\n",
            "1/1 [==============================] - 0s 31ms/step\n",
            "Bot:  Nah, apakah Anda benar-benar berpikir begitu? Apakah Anda ingin melihat wajah paling cantik yang pernah ada? Buka WebCam Anda dan voila, wajah tercantik di planet ini muncul secara ajaib.\n"
          ]
        }
      ],
      "source": [
        "\n",
        "try:\n",
        "    input_text = input('Masukkan pertanyaan: ')\n",
        "    preprocessed_text = preprocess_input(input_text)\n",
        "    input_seq = tokenizer.texts_to_sequences([preprocessed_text])\n",
        "    input_seq = pad_sequences(input_seq, maxlen=100)\n",
        "    predicted_label_seq = model.predict(input_seq)\n",
        "    predicted_label = encoder.inverse_transform(predicted_label_seq.argmax(axis=-1))[0]\n",
        "    print('Bot: ', predicted_label)\n",
        "except:\n",
        "    print(\"Bot : maaf saya tidak memahami maksud anda\")"
      ]
    },
    {
      "cell_type": "markdown",
      "id": "3db881d5",
      "metadata": {
        "id": "3db881d5"
      },
      "source": [
        "# save model"
      ]
    },
    {
      "cell_type": "code",
      "execution_count": 96,
      "id": "2b8097fe",
      "metadata": {
        "id": "2b8097fe"
      },
      "outputs": [],
      "source": [
        "model.save(\"model.h5\")"
      ]
    },
    {
      "cell_type": "code",
      "execution_count": 95,
      "id": "791b3f60",
      "metadata": {
        "id": "791b3f60"
      },
      "outputs": [],
      "source": [
        "\n",
        "import pickle\n",
        "with open('tokenizer.pickle', 'wb') as handle:\n",
        "     pickle.dump(tokenizer, handle, protocol=pickle.HIGHEST_PROTOCOL)\n",
        "with open('label_encoder.pickle', 'wb') as f:\n",
        "     pickle.dump(encoder, f, protocol=pickle.HIGHEST_PROTOCOL)"
      ]
    }
  ],
  "metadata": {
    "colab": {
      "provenance": []
    },
    "kernelspec": {
      "display_name": "Python 3",
      "language": "python",
      "name": "python3"
    },
    "language_info": {
      "codemirror_mode": {
        "name": "ipython",
        "version": 3
      },
      "file_extension": ".py",
      "mimetype": "text/x-python",
      "name": "python",
      "nbconvert_exporter": "python",
      "pygments_lexer": "ipython3",
      "version": "3.10.0"
    }
  },
  "nbformat": 4,
  "nbformat_minor": 5
}