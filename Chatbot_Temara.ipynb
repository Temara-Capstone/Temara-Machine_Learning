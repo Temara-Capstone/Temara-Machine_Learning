{
  "cells": [
    {
      "cell_type": "code",
      "execution_count": 2,
      "metadata": {
        "id": "221a6cbd",
        "colab": {
          "base_uri": "https://localhost:8080/"
        },
        "outputId": "4b47783e-acd2-4005-a721-95ebe3b3a9c6"
      },
      "outputs": [
        {
          "output_type": "stream",
          "name": "stderr",
          "text": [
            "/usr/local/lib/python3.10/dist-packages/fuzzywuzzy/fuzz.py:11: UserWarning: Using slow pure-python SequenceMatcher. Install python-Levenshtein to remove this warning\n",
            "  warnings.warn('Using slow pure-python SequenceMatcher. Install python-Levenshtein to remove this warning')\n"
          ]
        }
      ],
      "source": [
        "import re\n",
        "import pandas as pd\n",
        "import numpy as np\n",
        "import tensorflow as tf\n",
        "from fuzzywuzzy import fuzz\n",
        "from tensorflow.keras.preprocessing.text import Tokenizer\n",
        "from tensorflow.keras.preprocessing.sequence import pad_sequences\n",
        "from tensorflow.keras.models import Sequential\n",
        "from sklearn.preprocessing import LabelEncoder\n",
        "from tensorflow.keras.layers import Dense, Embedding, LSTM,Dropout,Bidirectional,GlobalMaxPooling1D"
      ],
      "id": "221a6cbd"
    },
    {
      "cell_type": "code",
      "execution_count": 1,
      "metadata": {
        "colab": {
          "base_uri": "https://localhost:8080/"
        },
        "id": "XSJML47nVE_Z",
        "outputId": "47491795-7f8b-4381-ba48-0f5a929d55e0"
      },
      "outputs": [
        {
          "output_type": "stream",
          "name": "stdout",
          "text": [
            "Looking in indexes: https://pypi.org/simple, https://us-python.pkg.dev/colab-wheels/public/simple/\n",
            "Collecting fuzzywuzzy\n",
            "  Downloading fuzzywuzzy-0.18.0-py2.py3-none-any.whl (18 kB)\n",
            "Installing collected packages: fuzzywuzzy\n",
            "Successfully installed fuzzywuzzy-0.18.0\n"
          ]
        }
      ],
      "source": [
        "!pip install fuzzywuzzy"
      ],
      "id": "XSJML47nVE_Z"
    },
    {
      "cell_type": "markdown",
      "metadata": {
        "id": "cbc494f4"
      },
      "source": [
        "# load dataset"
      ],
      "id": "cbc494f4"
    },
    {
      "cell_type": "code",
      "execution_count": 3,
      "metadata": {
        "colab": {
          "base_uri": "https://localhost:8080/",
          "height": 206
        },
        "id": "3e207558",
        "outputId": "1c2131db-af36-4ecb-f727-54b73b995efa"
      },
      "outputs": [
        {
          "output_type": "execute_result",
          "data": {
            "text/plain": [
              "          tag                                           Question  \\\n",
              "430  user 438  Saya merasa bersalah karena saya tidak mengata...   \n",
              "431  user 439            Bagaimana cara mengatasi pikiran buruk?   \n",
              "432  user 440  Bagaimana saya bisa merasa begitu kosong meski...   \n",
              "433  user 441  Saya pikir saya memiliki kecemasan dan depresi...   \n",
              "434  user 442                 Saya memiliki suara di kepala saya   \n",
              "\n",
              "                                                Answer  \n",
              "430  Hai Tennessee, tidak ada yang salah dengan And...  \n",
              "431  Kedengarannya Anda merasa sangat kewalahan den...  \n",
              "432  Apakah ada saat atau momen di mana Anda merasa...  \n",
              "433  Anda mungkin menekan diri untuk menjadi satu -...  \n",
              "434  Karena Anda menyadari bahwa mendengar suara -s...  "
            ],
            "text/html": [
              "\n",
              "  <div id=\"df-292e561c-787f-448d-a7ea-d5455094375e\">\n",
              "    <div class=\"colab-df-container\">\n",
              "      <div>\n",
              "<style scoped>\n",
              "    .dataframe tbody tr th:only-of-type {\n",
              "        vertical-align: middle;\n",
              "    }\n",
              "\n",
              "    .dataframe tbody tr th {\n",
              "        vertical-align: top;\n",
              "    }\n",
              "\n",
              "    .dataframe thead th {\n",
              "        text-align: right;\n",
              "    }\n",
              "</style>\n",
              "<table border=\"1\" class=\"dataframe\">\n",
              "  <thead>\n",
              "    <tr style=\"text-align: right;\">\n",
              "      <th></th>\n",
              "      <th>tag</th>\n",
              "      <th>Question</th>\n",
              "      <th>Answer</th>\n",
              "    </tr>\n",
              "  </thead>\n",
              "  <tbody>\n",
              "    <tr>\n",
              "      <th>430</th>\n",
              "      <td>user 438</td>\n",
              "      <td>Saya merasa bersalah karena saya tidak mengata...</td>\n",
              "      <td>Hai Tennessee, tidak ada yang salah dengan And...</td>\n",
              "    </tr>\n",
              "    <tr>\n",
              "      <th>431</th>\n",
              "      <td>user 439</td>\n",
              "      <td>Bagaimana cara mengatasi pikiran buruk?</td>\n",
              "      <td>Kedengarannya Anda merasa sangat kewalahan den...</td>\n",
              "    </tr>\n",
              "    <tr>\n",
              "      <th>432</th>\n",
              "      <td>user 440</td>\n",
              "      <td>Bagaimana saya bisa merasa begitu kosong meski...</td>\n",
              "      <td>Apakah ada saat atau momen di mana Anda merasa...</td>\n",
              "    </tr>\n",
              "    <tr>\n",
              "      <th>433</th>\n",
              "      <td>user 441</td>\n",
              "      <td>Saya pikir saya memiliki kecemasan dan depresi...</td>\n",
              "      <td>Anda mungkin menekan diri untuk menjadi satu -...</td>\n",
              "    </tr>\n",
              "    <tr>\n",
              "      <th>434</th>\n",
              "      <td>user 442</td>\n",
              "      <td>Saya memiliki suara di kepala saya</td>\n",
              "      <td>Karena Anda menyadari bahwa mendengar suara -s...</td>\n",
              "    </tr>\n",
              "  </tbody>\n",
              "</table>\n",
              "</div>\n",
              "      <button class=\"colab-df-convert\" onclick=\"convertToInteractive('df-292e561c-787f-448d-a7ea-d5455094375e')\"\n",
              "              title=\"Convert this dataframe to an interactive table.\"\n",
              "              style=\"display:none;\">\n",
              "        \n",
              "  <svg xmlns=\"http://www.w3.org/2000/svg\" height=\"24px\"viewBox=\"0 0 24 24\"\n",
              "       width=\"24px\">\n",
              "    <path d=\"M0 0h24v24H0V0z\" fill=\"none\"/>\n",
              "    <path d=\"M18.56 5.44l.94 2.06.94-2.06 2.06-.94-2.06-.94-.94-2.06-.94 2.06-2.06.94zm-11 1L8.5 8.5l.94-2.06 2.06-.94-2.06-.94L8.5 2.5l-.94 2.06-2.06.94zm10 10l.94 2.06.94-2.06 2.06-.94-2.06-.94-.94-2.06-.94 2.06-2.06.94z\"/><path d=\"M17.41 7.96l-1.37-1.37c-.4-.4-.92-.59-1.43-.59-.52 0-1.04.2-1.43.59L10.3 9.45l-7.72 7.72c-.78.78-.78 2.05 0 2.83L4 21.41c.39.39.9.59 1.41.59.51 0 1.02-.2 1.41-.59l7.78-7.78 2.81-2.81c.8-.78.8-2.07 0-2.86zM5.41 20L4 18.59l7.72-7.72 1.47 1.35L5.41 20z\"/>\n",
              "  </svg>\n",
              "      </button>\n",
              "      \n",
              "  <style>\n",
              "    .colab-df-container {\n",
              "      display:flex;\n",
              "      flex-wrap:wrap;\n",
              "      gap: 12px;\n",
              "    }\n",
              "\n",
              "    .colab-df-convert {\n",
              "      background-color: #E8F0FE;\n",
              "      border: none;\n",
              "      border-radius: 50%;\n",
              "      cursor: pointer;\n",
              "      display: none;\n",
              "      fill: #1967D2;\n",
              "      height: 32px;\n",
              "      padding: 0 0 0 0;\n",
              "      width: 32px;\n",
              "    }\n",
              "\n",
              "    .colab-df-convert:hover {\n",
              "      background-color: #E2EBFA;\n",
              "      box-shadow: 0px 1px 2px rgba(60, 64, 67, 0.3), 0px 1px 3px 1px rgba(60, 64, 67, 0.15);\n",
              "      fill: #174EA6;\n",
              "    }\n",
              "\n",
              "    [theme=dark] .colab-df-convert {\n",
              "      background-color: #3B4455;\n",
              "      fill: #D2E3FC;\n",
              "    }\n",
              "\n",
              "    [theme=dark] .colab-df-convert:hover {\n",
              "      background-color: #434B5C;\n",
              "      box-shadow: 0px 1px 3px 1px rgba(0, 0, 0, 0.15);\n",
              "      filter: drop-shadow(0px 1px 2px rgba(0, 0, 0, 0.3));\n",
              "      fill: #FFFFFF;\n",
              "    }\n",
              "  </style>\n",
              "\n",
              "      <script>\n",
              "        const buttonEl =\n",
              "          document.querySelector('#df-292e561c-787f-448d-a7ea-d5455094375e button.colab-df-convert');\n",
              "        buttonEl.style.display =\n",
              "          google.colab.kernel.accessAllowed ? 'block' : 'none';\n",
              "\n",
              "        async function convertToInteractive(key) {\n",
              "          const element = document.querySelector('#df-292e561c-787f-448d-a7ea-d5455094375e');\n",
              "          const dataTable =\n",
              "            await google.colab.kernel.invokeFunction('convertToInteractive',\n",
              "                                                     [key], {});\n",
              "          if (!dataTable) return;\n",
              "\n",
              "          const docLinkHtml = 'Like what you see? Visit the ' +\n",
              "            '<a target=\"_blank\" href=https://colab.research.google.com/notebooks/data_table.ipynb>data table notebook</a>'\n",
              "            + ' to learn more about interactive tables.';\n",
              "          element.innerHTML = '';\n",
              "          dataTable['output_type'] = 'display_data';\n",
              "          await google.colab.output.renderOutput(dataTable, element);\n",
              "          const docLink = document.createElement('div');\n",
              "          docLink.innerHTML = docLinkHtml;\n",
              "          element.appendChild(docLink);\n",
              "        }\n",
              "      </script>\n",
              "    </div>\n",
              "  </div>\n",
              "  "
            ]
          },
          "metadata": {},
          "execution_count": 3
        }
      ],
      "source": [
        "data = pd.read_csv('Bot Dataset(fixed).csv')\n",
        "data.tail()"
      ],
      "id": "3e207558"
    },
    {
      "cell_type": "markdown",
      "metadata": {
        "id": "71700231"
      },
      "source": [
        "# inisialisasi stop words"
      ],
      "id": "71700231"
    },
    {
      "cell_type": "code",
      "execution_count": 4,
      "metadata": {
        "id": "f6e69335",
        "scrolled": true
      },
      "outputs": [],
      "source": [
        "stopwords = []\n",
        "with open('stopwords.txt', encoding='utf-8') as f:\n",
        "    for line in f:\n",
        "        stopwords.append(line.strip())"
      ],
      "id": "f6e69335"
    },
    {
      "cell_type": "code",
      "execution_count": 5,
      "metadata": {
        "id": "14d821cf"
      },
      "outputs": [],
      "source": [
        "# fungsi untuk menghilangkan stopwords\n",
        "def remove_stopwords(text):\n",
        "    text = text.lower()\n",
        "    text = re.sub('[^a-zA-Z0-9\\s]', '', text)\n",
        "    temp = re.sub(r'[.,’\"\\'-?:!;]', '', text)\n",
        "    text = re.sub(r'^Apa|^Saya|^Aku|^maukah|^Siapa|^Bagaimana|^Dimana|^Kapan|^Kenapa|^Bisakah', '', text)\n",
        "    words = [word for word in text.split() if word not in stopwords]\n",
        "    return ' '.join(words)"
      ],
      "id": "14d821cf"
    },
    {
      "cell_type": "code",
      "execution_count": 6,
      "metadata": {
        "colab": {
          "base_uri": "https://localhost:8080/"
        },
        "id": "b496dca9",
        "outputId": "eba0bd03-2bfe-4191-8816-6498b22f8193"
      },
      "outputs": [
        {
          "output_type": "stream",
          "name": "stdout",
          "text": [
            "0                                        penyakit mental\n",
            "1                           mempengaruhi penyakit mental\n",
            "2                            menyebabkan penyakit mental\n",
            "3                 tanda tanda peringatan penyakit mental\n",
            "4                            orang penyakit mental pulih\n",
            "                             ...                        \n",
            "430                               bersalah kemajuan pria\n",
            "431                              mengatasi pikiran buruk\n",
            "432                                        kosong remaja\n",
            "433    pikir memiliki kecemasan depresi memanifestasi...\n",
            "434                                memiliki suara kepala\n",
            "Name: Question, Length: 435, dtype: object\n"
          ]
        }
      ],
      "source": [
        "# menghilangkan stopwords dari dataset\n",
        "data['Question'] = data['Question'].apply(remove_stopwords)\n",
        "print(data['Question'])"
      ],
      "id": "b496dca9"
    },
    {
      "cell_type": "markdown",
      "metadata": {
        "id": "d0b103c5"
      },
      "source": [
        "# inisialisasi tokenizer"
      ],
      "id": "d0b103c5"
    },
    {
      "cell_type": "code",
      "execution_count": 7,
      "metadata": {
        "id": "c6f3536f"
      },
      "outputs": [],
      "source": [
        "# inisialisasi tokenizer\n",
        "tokenizer = Tokenizer(num_words=5000, oov_token='<OOV>')\n",
        "tokenizer.fit_on_texts(data['Question'])"
      ],
      "id": "c6f3536f"
    },
    {
      "cell_type": "code",
      "execution_count": 8,
      "metadata": {
        "id": "2639390d"
      },
      "outputs": [],
      "source": [
        "# fungsi untuk mengganti kata typo dengan kata yang paling mirip pada dataset\n",
        "def correct_typo(word):\n",
        "    max_score = -1\n",
        "    correct_word = word\n",
        "    for vocab_word in tokenizer.word_index:\n",
        "        score = fuzz.ratio(word, vocab_word)\n",
        "        if score > max_score:\n",
        "            max_score = score\n",
        "            correct_word = vocab_word\n",
        "    return correct_word\n",
        "\n",
        "# fungsi untuk mengoreksi typo pada kalimat\n",
        "def correct_sentence(sentence):\n",
        "    corrected_sentence = []\n",
        "    words = sentence.split()\n",
        "    for word in words:\n",
        "        corrected_word = correct_typo(word)\n",
        "        corrected_sentence.append(corrected_word)\n",
        "    return ' '.join(corrected_sentence)\n",
        "\n",
        "# fungsi untuk membersihkan dan memproses input pengguna\n",
        "def preprocess_input(text):\n",
        "    text = remove_stopwords(text)\n",
        "    text = correct_sentence(text)\n",
        "    return text\n"
      ],
      "id": "2639390d"
    },
    {
      "cell_type": "markdown",
      "metadata": {
        "id": "673e160b"
      },
      "source": [
        "# encoding label Respon"
      ],
      "id": "673e160b"
    },
    {
      "cell_type": "code",
      "execution_count": 9,
      "metadata": {
        "id": "341033f0"
      },
      "outputs": [],
      "source": [
        "encoder = LabelEncoder()\n",
        "encoder.fit(data['Answer'])\n",
        "encoded_labels = encoder.transform(data['Answer'])"
      ],
      "id": "341033f0"
    },
    {
      "cell_type": "markdown",
      "metadata": {
        "id": "005d963f"
      },
      "source": [
        "# split data menjadi train dan validation set"
      ],
      "id": "005d963f"
    },
    {
      "cell_type": "code",
      "execution_count": 10,
      "metadata": {
        "id": "d3825cf6"
      },
      "outputs": [],
      "source": [
        "train_size = int(len(data) * 0.8)\n",
        "train_data = data[:train_size]\n",
        "val_data = data[train_size:]\n",
        "\n",
        "train_seq = tokenizer.texts_to_sequences(data['Question'])\n",
        "val_seq = tokenizer.texts_to_sequences(val_data['Question'])\n",
        "\n",
        "train_label_seq = encoded_labels[:train_size]\n",
        "val_label_seq = encoded_labels[train_size:]"
      ],
      "id": "d3825cf6"
    },
    {
      "cell_type": "markdown",
      "metadata": {
        "id": "9e0cb512"
      },
      "source": [
        "# padding sequence"
      ],
      "id": "9e0cb512"
    },
    {
      "cell_type": "code",
      "execution_count": 11,
      "metadata": {
        "id": "8b02c13d"
      },
      "outputs": [],
      "source": [
        "train_seq = pad_sequences(train_seq, maxlen=100, truncating='post')\n",
        "val_seq = pad_sequences(val_seq, maxlen=100, truncating='post')"
      ],
      "id": "8b02c13d"
    },
    {
      "cell_type": "markdown",
      "metadata": {
        "id": "77311817"
      },
      "source": [
        "# callback"
      ],
      "id": "77311817"
    },
    {
      "cell_type": "code",
      "execution_count": 12,
      "metadata": {
        "id": "4bc1e33d"
      },
      "outputs": [],
      "source": [
        "class Callback(tf.keras.callbacks.Callback):\n",
        "    def on_epoch_end(self, epoch, logs={}):\n",
        "        if logs.get('accuracy') is not None and logs.get('accuracy') > 0.998:\n",
        "            print(\"\\n\\nAccuracy Has Been Achieved Around 99.8%, Training Stop!\\n\")\n",
        "            self.model.stop_training = True"
      ],
      "id": "4bc1e33d"
    },
    {
      "cell_type": "markdown",
      "metadata": {
        "id": "2abf21a8"
      },
      "source": [
        "# MODEL"
      ],
      "id": "2abf21a8"
    },
    {
      "cell_type": "code",
      "execution_count": 13,
      "metadata": {
        "id": "89819712"
      },
      "outputs": [],
      "source": [
        "model = Sequential([\n",
        "    Embedding(len(tokenizer.word_index)+1, 64, input_length=100),\n",
        "    LSTM(128),\n",
        "    Dropout(0.2),\n",
        "    Dense(128, activation='relu'),\n",
        "    Dense(450, activation='softmax')\n",
        "])\n",
        "# compile model\n",
        "model.compile(loss='sparse_categorical_crossentropy', optimizer='adam', metrics=['accuracy'])\n"
      ],
      "id": "89819712"
    },
    {
      "cell_type": "code",
      "execution_count": 14,
      "metadata": {
        "colab": {
          "base_uri": "https://localhost:8080/"
        },
        "id": "8091f017",
        "outputId": "53fed9a1-bdf8-464d-a2e1-bd2523f7a394"
      },
      "outputs": [
        {
          "output_type": "stream",
          "name": "stdout",
          "text": [
            "Epoch 1/200\n",
            "14/14 [==============================] - 6s 211ms/step - loss: 6.1136 - accuracy: 0.0000e+00\n",
            "Epoch 2/200\n",
            "14/14 [==============================] - 2s 133ms/step - loss: 6.1055 - accuracy: 0.0046\n",
            "Epoch 3/200\n",
            "14/14 [==============================] - 2s 131ms/step - loss: 6.0953 - accuracy: 0.0069\n",
            "Epoch 4/200\n",
            "14/14 [==============================] - 2s 134ms/step - loss: 6.0789 - accuracy: 0.0115\n",
            "Epoch 5/200\n",
            "14/14 [==============================] - 2s 130ms/step - loss: 6.0328 - accuracy: 0.0115\n",
            "Epoch 6/200\n",
            "14/14 [==============================] - 2s 138ms/step - loss: 6.0027 - accuracy: 0.0115\n",
            "Epoch 7/200\n",
            "14/14 [==============================] - 3s 226ms/step - loss: 5.9597 - accuracy: 0.0115\n",
            "Epoch 8/200\n",
            "14/14 [==============================] - 2s 131ms/step - loss: 5.9179 - accuracy: 0.0115\n",
            "Epoch 9/200\n",
            "14/14 [==============================] - 2s 132ms/step - loss: 5.8617 - accuracy: 0.0115\n",
            "Epoch 10/200\n",
            "14/14 [==============================] - 2s 134ms/step - loss: 5.7644 - accuracy: 0.0138\n",
            "Epoch 11/200\n",
            "14/14 [==============================] - 2s 131ms/step - loss: 5.5996 - accuracy: 0.0115\n",
            "Epoch 12/200\n",
            "14/14 [==============================] - 2s 133ms/step - loss: 5.4155 - accuracy: 0.0115\n",
            "Epoch 13/200\n",
            "14/14 [==============================] - 3s 209ms/step - loss: 5.2837 - accuracy: 0.0207\n",
            "Epoch 14/200\n",
            "14/14 [==============================] - 2s 142ms/step - loss: 5.1566 - accuracy: 0.0207\n",
            "Epoch 15/200\n",
            "14/14 [==============================] - 2s 134ms/step - loss: 5.0137 - accuracy: 0.0184\n",
            "Epoch 16/200\n",
            "14/14 [==============================] - 2s 134ms/step - loss: 4.8203 - accuracy: 0.0345\n",
            "Epoch 17/200\n",
            "14/14 [==============================] - 2s 131ms/step - loss: 4.6649 - accuracy: 0.0391\n",
            "Epoch 18/200\n",
            "14/14 [==============================] - 2s 135ms/step - loss: 4.4692 - accuracy: 0.0391\n",
            "Epoch 19/200\n",
            "14/14 [==============================] - 2s 181ms/step - loss: 4.3080 - accuracy: 0.0621\n",
            "Epoch 20/200\n",
            "14/14 [==============================] - 2s 169ms/step - loss: 4.1121 - accuracy: 0.0690\n",
            "Epoch 21/200\n",
            "14/14 [==============================] - 2s 132ms/step - loss: 3.9226 - accuracy: 0.1011\n",
            "Epoch 22/200\n",
            "14/14 [==============================] - 2s 133ms/step - loss: 3.7476 - accuracy: 0.1563\n",
            "Epoch 23/200\n",
            "14/14 [==============================] - 2s 133ms/step - loss: 3.5566 - accuracy: 0.1724\n",
            "Epoch 24/200\n",
            "14/14 [==============================] - 2s 133ms/step - loss: 3.3588 - accuracy: 0.2000\n",
            "Epoch 25/200\n",
            "14/14 [==============================] - 2s 163ms/step - loss: 3.1407 - accuracy: 0.2598\n",
            "Epoch 26/200\n",
            "14/14 [==============================] - 3s 187ms/step - loss: 2.9727 - accuracy: 0.2552\n",
            "Epoch 27/200\n",
            "14/14 [==============================] - 2s 130ms/step - loss: 2.7584 - accuracy: 0.3425\n",
            "Epoch 28/200\n",
            "14/14 [==============================] - 2s 132ms/step - loss: 2.5518 - accuracy: 0.3494\n",
            "Epoch 29/200\n",
            "14/14 [==============================] - 2s 133ms/step - loss: 2.3753 - accuracy: 0.4322\n",
            "Epoch 30/200\n",
            "14/14 [==============================] - 2s 131ms/step - loss: 2.2227 - accuracy: 0.4920\n",
            "Epoch 31/200\n",
            "14/14 [==============================] - 3s 193ms/step - loss: 2.0352 - accuracy: 0.5333\n",
            "Epoch 32/200\n",
            "14/14 [==============================] - 3s 189ms/step - loss: 1.8440 - accuracy: 0.6115\n",
            "Epoch 33/200\n",
            "14/14 [==============================] - 2s 134ms/step - loss: 1.7058 - accuracy: 0.6276\n",
            "Epoch 34/200\n",
            "14/14 [==============================] - 2s 133ms/step - loss: 1.5792 - accuracy: 0.6391\n",
            "Epoch 35/200\n",
            "14/14 [==============================] - 3s 185ms/step - loss: 1.4487 - accuracy: 0.6644\n",
            "Epoch 36/200\n",
            "14/14 [==============================] - 2s 134ms/step - loss: 1.3456 - accuracy: 0.6897\n",
            "Epoch 37/200\n",
            "14/14 [==============================] - 3s 186ms/step - loss: 1.1985 - accuracy: 0.7333\n",
            "Epoch 38/200\n",
            "14/14 [==============================] - 2s 164ms/step - loss: 1.1654 - accuracy: 0.7126\n",
            "Epoch 39/200\n",
            "14/14 [==============================] - 2s 133ms/step - loss: 1.0809 - accuracy: 0.7540\n",
            "Epoch 40/200\n",
            "14/14 [==============================] - 2s 132ms/step - loss: 0.9757 - accuracy: 0.7747\n",
            "Epoch 41/200\n",
            "14/14 [==============================] - 2s 134ms/step - loss: 0.8879 - accuracy: 0.8046\n",
            "Epoch 42/200\n",
            "14/14 [==============================] - 2s 133ms/step - loss: 0.8595 - accuracy: 0.7816\n",
            "Epoch 43/200\n",
            "14/14 [==============================] - 2s 162ms/step - loss: 0.7885 - accuracy: 0.8046\n",
            "Epoch 44/200\n",
            "14/14 [==============================] - 3s 190ms/step - loss: 0.7389 - accuracy: 0.7977\n",
            "Epoch 45/200\n",
            "14/14 [==============================] - 2s 138ms/step - loss: 0.7028 - accuracy: 0.8161\n",
            "Epoch 46/200\n",
            "14/14 [==============================] - 2s 138ms/step - loss: 0.6866 - accuracy: 0.8069\n",
            "Epoch 47/200\n",
            "14/14 [==============================] - 2s 136ms/step - loss: 0.6592 - accuracy: 0.8161\n",
            "Epoch 48/200\n",
            "14/14 [==============================] - 2s 133ms/step - loss: 0.6424 - accuracy: 0.8023\n",
            "Epoch 49/200\n",
            "14/14 [==============================] - 2s 154ms/step - loss: 0.6022 - accuracy: 0.8161\n",
            "Epoch 50/200\n",
            "14/14 [==============================] - 3s 199ms/step - loss: 0.5771 - accuracy: 0.8092\n",
            "Epoch 51/200\n",
            "14/14 [==============================] - 2s 134ms/step - loss: 0.5618 - accuracy: 0.8184\n",
            "Epoch 52/200\n",
            "14/14 [==============================] - 2s 138ms/step - loss: 0.5453 - accuracy: 0.8184\n",
            "Epoch 53/200\n",
            "14/14 [==============================] - 2s 135ms/step - loss: 0.5313 - accuracy: 0.8115\n",
            "Epoch 54/200\n",
            "14/14 [==============================] - 2s 135ms/step - loss: 0.5043 - accuracy: 0.8276\n",
            "Epoch 55/200\n",
            "14/14 [==============================] - 2s 143ms/step - loss: 0.4971 - accuracy: 0.8276\n",
            "Epoch 56/200\n",
            "14/14 [==============================] - 3s 209ms/step - loss: 0.4845 - accuracy: 0.8207\n",
            "Epoch 57/200\n",
            "14/14 [==============================] - 2s 135ms/step - loss: 0.4839 - accuracy: 0.8138\n",
            "Epoch 58/200\n",
            "14/14 [==============================] - 2s 135ms/step - loss: 0.4462 - accuracy: 0.8345\n",
            "Epoch 59/200\n",
            "14/14 [==============================] - 2s 134ms/step - loss: 0.4550 - accuracy: 0.8161\n",
            "Epoch 60/200\n",
            "14/14 [==============================] - 2s 132ms/step - loss: 0.4431 - accuracy: 0.8184\n",
            "Epoch 61/200\n",
            "14/14 [==============================] - 2s 133ms/step - loss: 0.4583 - accuracy: 0.8253\n",
            "Epoch 62/200\n",
            "14/14 [==============================] - 3s 227ms/step - loss: 0.4476 - accuracy: 0.8276\n",
            "Epoch 63/200\n",
            "14/14 [==============================] - 2s 133ms/step - loss: 0.4530 - accuracy: 0.8322\n",
            "Epoch 64/200\n",
            "14/14 [==============================] - 2s 132ms/step - loss: 0.4295 - accuracy: 0.8368\n",
            "Epoch 65/200\n",
            "14/14 [==============================] - 2s 133ms/step - loss: 0.4306 - accuracy: 0.8207\n",
            "Epoch 66/200\n",
            "14/14 [==============================] - 2s 133ms/step - loss: 0.3962 - accuracy: 0.8345\n",
            "Epoch 67/200\n",
            "14/14 [==============================] - 2s 132ms/step - loss: 0.4045 - accuracy: 0.8529\n",
            "Epoch 68/200\n",
            "14/14 [==============================] - 3s 213ms/step - loss: 0.4082 - accuracy: 0.8299\n",
            "Epoch 69/200\n",
            "14/14 [==============================] - 2s 140ms/step - loss: 0.4253 - accuracy: 0.8207\n",
            "Epoch 70/200\n",
            "14/14 [==============================] - 2s 135ms/step - loss: 0.4176 - accuracy: 0.8299\n",
            "Epoch 71/200\n",
            "14/14 [==============================] - 2s 132ms/step - loss: 0.3916 - accuracy: 0.8276\n",
            "Epoch 72/200\n",
            "14/14 [==============================] - 2s 132ms/step - loss: 0.3970 - accuracy: 0.8161\n",
            "Epoch 73/200\n",
            "14/14 [==============================] - 2s 134ms/step - loss: 0.3940 - accuracy: 0.8322\n",
            "Epoch 74/200\n",
            "14/14 [==============================] - 3s 198ms/step - loss: 0.3954 - accuracy: 0.8322\n",
            "Epoch 75/200\n",
            "14/14 [==============================] - 2s 159ms/step - loss: 0.4034 - accuracy: 0.8184\n",
            "Epoch 76/200\n",
            "14/14 [==============================] - 2s 133ms/step - loss: 0.3776 - accuracy: 0.8483\n",
            "Epoch 77/200\n",
            "14/14 [==============================] - 2s 133ms/step - loss: 0.3861 - accuracy: 0.8115\n",
            "Epoch 78/200\n",
            "14/14 [==============================] - 2s 132ms/step - loss: 0.3797 - accuracy: 0.8276\n",
            "Epoch 79/200\n",
            "14/14 [==============================] - 2s 133ms/step - loss: 0.3840 - accuracy: 0.8184\n",
            "Epoch 80/200\n",
            "14/14 [==============================] - 2s 173ms/step - loss: 0.3896 - accuracy: 0.8230\n",
            "Epoch 81/200\n",
            "14/14 [==============================] - 3s 181ms/step - loss: 0.3622 - accuracy: 0.8253\n",
            "Epoch 82/200\n",
            "14/14 [==============================] - 2s 134ms/step - loss: 0.3762 - accuracy: 0.8368\n",
            "Epoch 83/200\n",
            "14/14 [==============================] - 2s 133ms/step - loss: 0.3672 - accuracy: 0.8322\n",
            "Epoch 84/200\n",
            "14/14 [==============================] - 2s 132ms/step - loss: 0.3640 - accuracy: 0.8322\n",
            "Epoch 85/200\n",
            "14/14 [==============================] - 2s 135ms/step - loss: 0.3683 - accuracy: 0.8368\n",
            "Epoch 86/200\n",
            "14/14 [==============================] - 2s 150ms/step - loss: 0.3596 - accuracy: 0.8391\n",
            "Epoch 87/200\n",
            "14/14 [==============================] - 3s 201ms/step - loss: 0.3806 - accuracy: 0.8161\n",
            "Epoch 88/200\n",
            "14/14 [==============================] - 2s 135ms/step - loss: 0.3658 - accuracy: 0.8253\n",
            "Epoch 89/200\n",
            "14/14 [==============================] - 2s 134ms/step - loss: 0.3626 - accuracy: 0.8368\n",
            "Epoch 90/200\n",
            "14/14 [==============================] - 2s 132ms/step - loss: 0.3669 - accuracy: 0.8345\n",
            "Epoch 91/200\n",
            "14/14 [==============================] - 2s 132ms/step - loss: 0.3818 - accuracy: 0.8207\n",
            "Epoch 92/200\n",
            "14/14 [==============================] - 2s 132ms/step - loss: 0.3749 - accuracy: 0.8345\n",
            "Epoch 93/200\n",
            "14/14 [==============================] - 3s 226ms/step - loss: 0.3461 - accuracy: 0.8368\n",
            "Epoch 94/200\n",
            "14/14 [==============================] - 2s 134ms/step - loss: 0.3462 - accuracy: 0.8276\n",
            "Epoch 95/200\n",
            "14/14 [==============================] - 2s 133ms/step - loss: 0.3771 - accuracy: 0.8207\n",
            "Epoch 96/200\n",
            "14/14 [==============================] - 2s 133ms/step - loss: 0.3584 - accuracy: 0.8299\n",
            "Epoch 97/200\n",
            "14/14 [==============================] - 2s 132ms/step - loss: 0.3527 - accuracy: 0.8253\n",
            "Epoch 98/200\n",
            "14/14 [==============================] - 2s 133ms/step - loss: 0.3536 - accuracy: 0.8368\n",
            "Epoch 99/200\n",
            "14/14 [==============================] - 3s 216ms/step - loss: 0.3586 - accuracy: 0.8253\n",
            "Epoch 100/200\n",
            "14/14 [==============================] - 2s 136ms/step - loss: 0.3546 - accuracy: 0.8345\n",
            "Epoch 101/200\n",
            "14/14 [==============================] - 2s 131ms/step - loss: 0.3517 - accuracy: 0.8345\n",
            "Epoch 102/200\n",
            "14/14 [==============================] - 2s 133ms/step - loss: 0.3536 - accuracy: 0.8322\n",
            "Epoch 103/200\n",
            "14/14 [==============================] - 2s 132ms/step - loss: 0.3591 - accuracy: 0.8322\n",
            "Epoch 104/200\n",
            "14/14 [==============================] - 2s 133ms/step - loss: 0.3590 - accuracy: 0.8276\n",
            "Epoch 105/200\n",
            "14/14 [==============================] - 3s 192ms/step - loss: 0.3619 - accuracy: 0.8299\n",
            "Epoch 106/200\n",
            "14/14 [==============================] - 2s 166ms/step - loss: 0.3645 - accuracy: 0.8184\n",
            "Epoch 107/200\n",
            "14/14 [==============================] - 2s 134ms/step - loss: 0.3512 - accuracy: 0.8253\n",
            "Epoch 108/200\n",
            "14/14 [==============================] - 2s 133ms/step - loss: 0.3511 - accuracy: 0.8276\n",
            "Epoch 109/200\n",
            "14/14 [==============================] - 2s 134ms/step - loss: 0.3650 - accuracy: 0.8276\n",
            "Epoch 110/200\n",
            "14/14 [==============================] - 2s 134ms/step - loss: 0.3623 - accuracy: 0.8161\n",
            "Epoch 111/200\n",
            "14/14 [==============================] - 2s 167ms/step - loss: 0.3454 - accuracy: 0.8253\n",
            "Epoch 112/200\n",
            "14/14 [==============================] - 3s 186ms/step - loss: 0.3519 - accuracy: 0.8299\n",
            "Epoch 113/200\n",
            "14/14 [==============================] - 2s 135ms/step - loss: 0.3456 - accuracy: 0.8391\n",
            "Epoch 114/200\n",
            "14/14 [==============================] - 2s 132ms/step - loss: 0.3413 - accuracy: 0.8276\n",
            "Epoch 115/200\n",
            "14/14 [==============================] - 2s 134ms/step - loss: 0.3331 - accuracy: 0.8276\n",
            "Epoch 116/200\n",
            "14/14 [==============================] - 2s 134ms/step - loss: 0.3302 - accuracy: 0.8414\n",
            "Epoch 117/200\n",
            "14/14 [==============================] - 2s 152ms/step - loss: 0.3417 - accuracy: 0.8276\n",
            "Epoch 118/200\n",
            "14/14 [==============================] - 3s 206ms/step - loss: 0.3387 - accuracy: 0.8230\n",
            "Epoch 119/200\n",
            "14/14 [==============================] - 2s 133ms/step - loss: 0.3414 - accuracy: 0.8299\n",
            "Epoch 120/200\n",
            "14/14 [==============================] - 2s 132ms/step - loss: 0.3448 - accuracy: 0.8299\n",
            "Epoch 121/200\n",
            "14/14 [==============================] - 2s 133ms/step - loss: 0.3389 - accuracy: 0.8299\n",
            "Epoch 122/200\n",
            "14/14 [==============================] - 2s 131ms/step - loss: 0.3356 - accuracy: 0.8391\n",
            "Epoch 123/200\n",
            "14/14 [==============================] - 2s 133ms/step - loss: 0.3373 - accuracy: 0.8322\n",
            "Epoch 124/200\n",
            "14/14 [==============================] - 3s 225ms/step - loss: 0.3329 - accuracy: 0.8414\n",
            "Epoch 125/200\n",
            "14/14 [==============================] - 2s 133ms/step - loss: 0.3322 - accuracy: 0.8322\n",
            "Epoch 126/200\n",
            "14/14 [==============================] - 2s 133ms/step - loss: 0.3416 - accuracy: 0.8230\n",
            "Epoch 127/200\n",
            "14/14 [==============================] - 2s 135ms/step - loss: 0.3242 - accuracy: 0.8391\n",
            "Epoch 128/200\n",
            "14/14 [==============================] - 2s 132ms/step - loss: 0.3516 - accuracy: 0.8092\n",
            "Epoch 129/200\n",
            "14/14 [==============================] - 2s 133ms/step - loss: 0.3281 - accuracy: 0.8368\n",
            "Epoch 130/200\n",
            "14/14 [==============================] - 3s 218ms/step - loss: 0.3244 - accuracy: 0.8483\n",
            "Epoch 131/200\n",
            "14/14 [==============================] - 2s 134ms/step - loss: 0.3318 - accuracy: 0.8345\n",
            "Epoch 132/200\n",
            "14/14 [==============================] - 2s 136ms/step - loss: 0.3375 - accuracy: 0.8391\n",
            "Epoch 133/200\n",
            "14/14 [==============================] - 2s 133ms/step - loss: 0.3371 - accuracy: 0.8253\n",
            "Epoch 134/200\n",
            "14/14 [==============================] - 2s 136ms/step - loss: 0.3201 - accuracy: 0.8276\n",
            "Epoch 135/200\n",
            "14/14 [==============================] - 2s 133ms/step - loss: 0.3431 - accuracy: 0.8207\n",
            "Epoch 136/200\n",
            "14/14 [==============================] - 3s 209ms/step - loss: 0.3384 - accuracy: 0.8322\n",
            "Epoch 137/200\n",
            "14/14 [==============================] - 2s 147ms/step - loss: 0.3285 - accuracy: 0.8253\n",
            "Epoch 138/200\n",
            "14/14 [==============================] - 2s 134ms/step - loss: 0.3405 - accuracy: 0.8299\n",
            "Epoch 139/200\n",
            "14/14 [==============================] - 2s 132ms/step - loss: 0.3422 - accuracy: 0.8230\n",
            "Epoch 140/200\n",
            "14/14 [==============================] - 2s 133ms/step - loss: 0.3307 - accuracy: 0.8437\n",
            "Epoch 141/200\n",
            "14/14 [==============================] - 2s 135ms/step - loss: 0.3295 - accuracy: 0.8391\n",
            "Epoch 142/200\n",
            "14/14 [==============================] - 3s 190ms/step - loss: 0.3431 - accuracy: 0.8368\n",
            "Epoch 143/200\n",
            "14/14 [==============================] - 2s 162ms/step - loss: 0.3368 - accuracy: 0.8276\n",
            "Epoch 144/200\n",
            "14/14 [==============================] - 2s 134ms/step - loss: 0.3358 - accuracy: 0.8437\n",
            "Epoch 145/200\n",
            "14/14 [==============================] - 2s 133ms/step - loss: 0.3184 - accuracy: 0.8391\n",
            "Epoch 146/200\n",
            "14/14 [==============================] - 2s 134ms/step - loss: 0.3353 - accuracy: 0.8299\n",
            "Epoch 147/200\n",
            "14/14 [==============================] - 2s 136ms/step - loss: 0.3342 - accuracy: 0.8276\n",
            "Epoch 148/200\n",
            "14/14 [==============================] - 2s 177ms/step - loss: 0.3270 - accuracy: 0.8230\n",
            "Epoch 149/200\n",
            "14/14 [==============================] - 3s 179ms/step - loss: 0.3336 - accuracy: 0.8276\n",
            "Epoch 150/200\n",
            "14/14 [==============================] - 2s 133ms/step - loss: 0.3206 - accuracy: 0.8322\n",
            "Epoch 151/200\n",
            "14/14 [==============================] - 2s 133ms/step - loss: 0.3437 - accuracy: 0.8253\n",
            "Epoch 152/200\n",
            "14/14 [==============================] - 2s 134ms/step - loss: 0.3225 - accuracy: 0.8391\n",
            "Epoch 153/200\n",
            "14/14 [==============================] - 2s 135ms/step - loss: 0.3295 - accuracy: 0.8368\n",
            "Epoch 154/200\n",
            "14/14 [==============================] - 2s 158ms/step - loss: 0.3488 - accuracy: 0.8207\n",
            "Epoch 155/200\n",
            "14/14 [==============================] - 3s 197ms/step - loss: 0.3308 - accuracy: 0.8276\n",
            "Epoch 156/200\n",
            "14/14 [==============================] - 2s 136ms/step - loss: 0.3226 - accuracy: 0.8184\n",
            "Epoch 157/200\n",
            "14/14 [==============================] - 2s 136ms/step - loss: 0.3322 - accuracy: 0.8276\n",
            "Epoch 158/200\n",
            "14/14 [==============================] - 2s 133ms/step - loss: 0.3182 - accuracy: 0.8368\n",
            "Epoch 159/200\n",
            "14/14 [==============================] - 2s 133ms/step - loss: 0.3203 - accuracy: 0.8345\n",
            "Epoch 160/200\n",
            "14/14 [==============================] - 2s 140ms/step - loss: 0.3362 - accuracy: 0.8253\n",
            "Epoch 161/200\n",
            "14/14 [==============================] - 3s 216ms/step - loss: 0.3299 - accuracy: 0.8184\n",
            "Epoch 162/200\n",
            "14/14 [==============================] - 2s 136ms/step - loss: 0.3337 - accuracy: 0.8207\n",
            "Epoch 163/200\n",
            "14/14 [==============================] - 2s 134ms/step - loss: 0.3111 - accuracy: 0.8506\n",
            "Epoch 164/200\n",
            "14/14 [==============================] - 2s 133ms/step - loss: 0.3365 - accuracy: 0.8253\n",
            "Epoch 165/200\n",
            "14/14 [==============================] - 2s 134ms/step - loss: 0.3310 - accuracy: 0.8253\n",
            "Epoch 166/200\n",
            "14/14 [==============================] - 2s 134ms/step - loss: 0.3122 - accuracy: 0.8391\n",
            "Epoch 167/200\n",
            "14/14 [==============================] - 3s 228ms/step - loss: 0.3315 - accuracy: 0.8184\n",
            "Epoch 168/200\n",
            "14/14 [==============================] - 2s 133ms/step - loss: 0.3181 - accuracy: 0.8276\n",
            "Epoch 169/200\n",
            "14/14 [==============================] - 2s 134ms/step - loss: 0.3184 - accuracy: 0.8345\n",
            "Epoch 170/200\n",
            "14/14 [==============================] - 2s 136ms/step - loss: 0.3183 - accuracy: 0.8414\n",
            "Epoch 171/200\n",
            "14/14 [==============================] - 2s 133ms/step - loss: 0.3286 - accuracy: 0.8368\n",
            "Epoch 172/200\n",
            "14/14 [==============================] - 2s 133ms/step - loss: 0.3222 - accuracy: 0.8161\n",
            "Epoch 173/200\n",
            "14/14 [==============================] - 3s 224ms/step - loss: 0.3201 - accuracy: 0.8322\n",
            "Epoch 174/200\n",
            "14/14 [==============================] - 2s 135ms/step - loss: 0.3260 - accuracy: 0.8253\n",
            "Epoch 175/200\n",
            "14/14 [==============================] - 2s 134ms/step - loss: 0.3269 - accuracy: 0.8322\n",
            "Epoch 176/200\n",
            "14/14 [==============================] - 2s 134ms/step - loss: 0.3341 - accuracy: 0.8230\n",
            "Epoch 177/200\n",
            "14/14 [==============================] - 2s 133ms/step - loss: 0.3205 - accuracy: 0.8184\n",
            "Epoch 178/200\n",
            "14/14 [==============================] - 2s 135ms/step - loss: 0.3244 - accuracy: 0.8437\n",
            "Epoch 179/200\n",
            "14/14 [==============================] - 3s 207ms/step - loss: 0.3246 - accuracy: 0.8368\n",
            "Epoch 180/200\n",
            "14/14 [==============================] - 2s 145ms/step - loss: 0.3261 - accuracy: 0.8230\n",
            "Epoch 181/200\n",
            "14/14 [==============================] - 2s 134ms/step - loss: 0.3169 - accuracy: 0.8437\n",
            "Epoch 182/200\n",
            "14/14 [==============================] - 2s 136ms/step - loss: 0.3300 - accuracy: 0.8161\n",
            "Epoch 183/200\n",
            "14/14 [==============================] - 2s 134ms/step - loss: 0.3267 - accuracy: 0.8414\n",
            "Epoch 184/200\n",
            "14/14 [==============================] - 2s 134ms/step - loss: 0.3165 - accuracy: 0.8253\n",
            "Epoch 185/200\n",
            "14/14 [==============================] - 3s 190ms/step - loss: 0.3169 - accuracy: 0.8276\n",
            "Epoch 186/200\n",
            "14/14 [==============================] - 2s 164ms/step - loss: 0.3075 - accuracy: 0.8322\n",
            "Epoch 187/200\n",
            "14/14 [==============================] - 2s 133ms/step - loss: 0.3265 - accuracy: 0.8115\n",
            "Epoch 188/200\n",
            "14/14 [==============================] - 2s 136ms/step - loss: 0.3109 - accuracy: 0.8345\n",
            "Epoch 189/200\n",
            "14/14 [==============================] - 2s 138ms/step - loss: 0.3270 - accuracy: 0.8368\n",
            "Epoch 190/200\n",
            "14/14 [==============================] - 2s 135ms/step - loss: 0.3226 - accuracy: 0.8207\n",
            "Epoch 191/200\n",
            "14/14 [==============================] - 2s 177ms/step - loss: 0.3119 - accuracy: 0.8345\n",
            "Epoch 192/200\n",
            "14/14 [==============================] - 3s 178ms/step - loss: 0.3225 - accuracy: 0.8299\n",
            "Epoch 193/200\n",
            "14/14 [==============================] - 2s 134ms/step - loss: 0.3166 - accuracy: 0.8391\n",
            "Epoch 194/200\n",
            "14/14 [==============================] - 2s 135ms/step - loss: 0.3148 - accuracy: 0.8414\n",
            "Epoch 195/200\n",
            "14/14 [==============================] - 2s 138ms/step - loss: 0.3182 - accuracy: 0.8299\n",
            "Epoch 196/200\n",
            "14/14 [==============================] - 2s 136ms/step - loss: 0.3205 - accuracy: 0.8276\n",
            "Epoch 197/200\n",
            "14/14 [==============================] - 2s 170ms/step - loss: 0.3230 - accuracy: 0.8322\n",
            "Epoch 198/200\n",
            "14/14 [==============================] - 3s 189ms/step - loss: 0.3213 - accuracy: 0.8391\n",
            "Epoch 199/200\n",
            "14/14 [==============================] - 2s 137ms/step - loss: 0.3036 - accuracy: 0.8529\n",
            "Epoch 200/200\n",
            "14/14 [==============================] - 2s 137ms/step - loss: 0.3102 - accuracy: 0.8414\n"
          ]
        }
      ],
      "source": [
        "# training model\n",
        "history = model.fit(train_seq, encoded_labels, epochs=200,callbacks=[Callback()])"
      ],
      "id": "8091f017"
    },
    {
      "cell_type": "code",
      "execution_count": 15,
      "metadata": {
        "id": "8f588dea",
        "colab": {
          "base_uri": "https://localhost:8080/",
          "height": 881
        },
        "outputId": "79a549d2-a41f-4947-b00e-438795bcc3f4"
      },
      "outputs": [
        {
          "output_type": "display_data",
          "data": {
            "text/plain": [
              "<Figure size 640x480 with 1 Axes>"
            ],
            "image/png": "[encoded data removed]"
          },
          "metadata": {}
        },
        {
          "output_type": "display_data",
          "data": {
            "text/plain": [
              "<Figure size 640x480 with 1 Axes>"
            ],
            "image/png": "[encoded data removed]"
          },
          "metadata": {}
        }
      ],
      "source": [
        "import matplotlib.pyplot as plt\n",
        "\n",
        "# Plot utility\n",
        "def plot_graphs(history, string):\n",
        "  plt.plot(history.history[string])\n",
        "  plt.xlabel(\"Epochs\")\n",
        "  plt.ylabel(string)\n",
        "  plt.show()\n",
        "\n",
        "# Plot the accuracy and results \n",
        "plot_graphs(history, \"accuracy\")\n",
        "plot_graphs(history, \"loss\")"
      ],
      "id": "8f588dea"
    },
    {
      "cell_type": "markdown",
      "metadata": {
        "id": "ab809675"
      },
      "source": [
        "# TESTING"
      ],
      "id": "ab809675"
    },
    {
      "cell_type": "code",
      "execution_count": 18,
      "metadata": {
        "colab": {
          "base_uri": "https://localhost:8080/"
        },
        "id": "9e66e453",
        "outputId": "c9a11281-5bb0-4028-b261-a28daa876ca3"
      },
      "outputs": [
        {
          "output_type": "stream",
          "name": "stdout",
          "text": [
            "Masukkan pertanyaan: mau cerita\n",
            "1/1 [==============================] - 0s 29ms/step\n",
            "Bot:   \"Aku disini untuk menemanimu. Ceritakan saja semuanya padaku agar apa yang kamu rasakan bisa sedikit terobati. Jangan suka memendam perasaanmu karena itu tidak baik untuk kesehatanmu. Jadi kamu mau cerita apa hari ini?Apa yang bisa aku bantu?\"\n"
          ]
        }
      ],
      "source": [
        "try:\n",
        "    input_text = input('Masukkan pertanyaan: ')\n",
        "    preprocessed_text = preprocess_input(input_text)\n",
        "    input_seq = tokenizer.texts_to_sequences([preprocessed_text])\n",
        "    input_seq = pad_sequences(input_seq, maxlen=100)\n",
        "    predicted_label_seq = model.predict(input_seq)\n",
        "    predicted_label = encoder.inverse_transform(predicted_label_seq.argmax(axis=-1))[0]\n",
        "    print('Bot: ', predicted_label)\n",
        "except:\n",
        "    print(\"Bot : maaf saya tidak memahami maksud anda\")"
      ],
      "id": "9e66e453"
    },
    {
      "cell_type": "code",
      "execution_count": 19,
      "metadata": {
        "id": "791b3f60"
      },
      "outputs": [],
      "source": [
        "\n",
        "import pickle\n",
        "with open('tokenizer.pickle', 'wb') as handle:\n",
        "     pickle.dump(tokenizer, handle, protocol=pickle.HIGHEST_PROTOCOL)\n",
        "with open('label_encoder.pickle', 'wb') as f:\n",
        "     pickle.dump(encoder, f, protocol=pickle.HIGHEST_PROTOCOL)"
      ],
      "id": "791b3f60"
    }
  ],
  "metadata": {
    "colab": {
      "provenance": []
    },
    "kernelspec": {
      "display_name": "Python 3",
      "language": "python",
      "name": "python3"
    },
    "language_info": {
      "codemirror_mode": {
        "name": "ipython",
        "version": 3
      },
      "file_extension": ".py",
      "mimetype": "text/x-python",
      "name": "python",
      "nbconvert_exporter": "python",
      "pygments_lexer": "ipython3",
      "version": "3.10.0"
    }
  },
  "nbformat": 4,
  "nbformat_minor": 5
}