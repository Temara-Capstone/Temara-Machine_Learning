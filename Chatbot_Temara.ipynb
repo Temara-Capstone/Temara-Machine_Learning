{
 "cells": [
  {
   "cell_type": "code",
   "execution_count": 1,
   "id": "221a6cbd",
   "metadata": {
    "colab": {
     "base_uri": "https://localhost:8080/"
    },
    "id": "221a6cbd",
    "outputId": "4b47783e-acd2-4005-a721-95ebe3b3a9c6"
   },
   "outputs": [
    {
     "name": "stderr",
     "output_type": "stream",
     "text": [
      "C:\\Users\\ASUS\\AppData\\Local\\Programs\\Python\\Python310\\lib\\site-packages\\fuzzywuzzy\\fuzz.py:11: UserWarning: Using slow pure-python SequenceMatcher. Install python-Levenshtein to remove this warning\n",
      "  warnings.warn('Using slow pure-python SequenceMatcher. Install python-Levenshtein to remove this warning')\n"
     ]
    }
   ],
   "source": [
    "import re\n",
    "import pandas as pd\n",
    "import numpy as np\n",
    "import tensorflow as tf\n",
    "from fuzzywuzzy import fuzz\n",
    "from tensorflow.keras.preprocessing.text import Tokenizer\n",
    "from tensorflow.keras.preprocessing.sequence import pad_sequences\n",
    "from tensorflow.keras.models import Sequential\n",
    "from sklearn.preprocessing import LabelEncoder\n",
    "from tensorflow.keras.layers import Dense, Embedding, LSTM,Dropout,Bidirectional,GlobalMaxPooling1D"
   ]
  },
  {
   "cell_type": "code",
   "execution_count": 1,
   "id": "XSJML47nVE_Z",
   "metadata": {
    "colab": {
     "base_uri": "https://localhost:8080/"
    },
    "id": "XSJML47nVE_Z",
    "outputId": "47491795-7f8b-4381-ba48-0f5a929d55e0"
   },
   "outputs": [
    {
     "name": "stdout",
     "output_type": "stream",
     "text": [
      "Looking in indexes: https://pypi.org/simple, https://us-python.pkg.dev/colab-wheels/public/simple/\n",
      "Collecting fuzzywuzzy\n",
      "  Downloading fuzzywuzzy-0.18.0-py2.py3-none-any.whl (18 kB)\n",
      "Installing collected packages: fuzzywuzzy\n",
      "Successfully installed fuzzywuzzy-0.18.0\n"
     ]
    }
   ],
   "source": [
    "!pip install fuzzywuzzy"
   ]
  },
  {
   "cell_type": "markdown",
   "id": "cbc494f4",
   "metadata": {
    "id": "cbc494f4"
   },
   "source": [
    "# load dataset"
   ]
  },
  {
   "cell_type": "code",
   "execution_count": 2,
   "id": "3e207558",
   "metadata": {
    "colab": {
     "base_uri": "https://localhost:8080/",
     "height": 206
    },
    "id": "3e207558",
    "outputId": "1c2131db-af36-4ecb-f727-54b73b995efa"
   },
   "outputs": [
    {
     "data": {
      "text/html": [
       "<div>\n",
       "<style scoped>\n",
       "    .dataframe tbody tr th:only-of-type {\n",
       "        vertical-align: middle;\n",
       "    }\n",
       "\n",
       "    .dataframe tbody tr th {\n",
       "        vertical-align: top;\n",
       "    }\n",
       "\n",
       "    .dataframe thead th {\n",
       "        text-align: right;\n",
       "    }\n",
       "</style>\n",
       "<table border=\"1\" class=\"dataframe\">\n",
       "  <thead>\n",
       "    <tr style=\"text-align: right;\">\n",
       "      <th></th>\n",
       "      <th>tag</th>\n",
       "      <th>Question</th>\n",
       "      <th>Answer</th>\n",
       "    </tr>\n",
       "  </thead>\n",
       "  <tbody>\n",
       "    <tr>\n",
       "      <th>430</th>\n",
       "      <td>user 438</td>\n",
       "      <td>Saya merasa bersalah karena saya tidak mengata...</td>\n",
       "      <td>Hai Tennessee, tidak ada yang salah dengan And...</td>\n",
       "    </tr>\n",
       "    <tr>\n",
       "      <th>431</th>\n",
       "      <td>user 439</td>\n",
       "      <td>Bagaimana cara mengatasi pikiran buruk?</td>\n",
       "      <td>Kedengarannya Anda merasa sangat kewalahan den...</td>\n",
       "    </tr>\n",
       "    <tr>\n",
       "      <th>432</th>\n",
       "      <td>user 440</td>\n",
       "      <td>Bagaimana saya bisa merasa begitu kosong meski...</td>\n",
       "      <td>Apakah ada saat atau momen di mana Anda merasa...</td>\n",
       "    </tr>\n",
       "    <tr>\n",
       "      <th>433</th>\n",
       "      <td>user 441</td>\n",
       "      <td>Saya pikir saya memiliki kecemasan dan depresi...</td>\n",
       "      <td>Anda mungkin menekan diri untuk menjadi satu -...</td>\n",
       "    </tr>\n",
       "    <tr>\n",
       "      <th>434</th>\n",
       "      <td>user 442</td>\n",
       "      <td>Saya memiliki suara di kepala saya</td>\n",
       "      <td>Karena Anda menyadari bahwa mendengar suara -s...</td>\n",
       "    </tr>\n",
       "  </tbody>\n",
       "</table>\n",
       "</div>"
      ],
      "text/plain": [
       "          tag                                           Question  \\\n",
       "430  user 438  Saya merasa bersalah karena saya tidak mengata...   \n",
       "431  user 439            Bagaimana cara mengatasi pikiran buruk?   \n",
       "432  user 440  Bagaimana saya bisa merasa begitu kosong meski...   \n",
       "433  user 441  Saya pikir saya memiliki kecemasan dan depresi...   \n",
       "434  user 442                 Saya memiliki suara di kepala saya   \n",
       "\n",
       "                                                Answer  \n",
       "430  Hai Tennessee, tidak ada yang salah dengan And...  \n",
       "431  Kedengarannya Anda merasa sangat kewalahan den...  \n",
       "432  Apakah ada saat atau momen di mana Anda merasa...  \n",
       "433  Anda mungkin menekan diri untuk menjadi satu -...  \n",
       "434  Karena Anda menyadari bahwa mendengar suara -s...  "
      ]
     },
     "execution_count": 2,
     "metadata": {},
     "output_type": "execute_result"
    }
   ],
   "source": [
    "data = pd.read_csv('Bot Dataset(fixed).csv')\n",
    "data.tail()"
   ]
  },
  {
   "cell_type": "markdown",
   "id": "71700231",
   "metadata": {
    "id": "71700231"
   },
   "source": [
    "# inisialisasi stop words"
   ]
  },
  {
   "cell_type": "code",
   "execution_count": 3,
   "id": "f6e69335",
   "metadata": {
    "id": "f6e69335",
    "scrolled": true
   },
   "outputs": [],
   "source": [
    "stopwords = []\n",
    "with open('stopwords.txt', encoding='utf-8') as f:\n",
    "    for line in f:\n",
    "        stopwords.append(line.strip())"
   ]
  },
  {
   "cell_type": "code",
   "execution_count": 4,
   "id": "14d821cf",
   "metadata": {
    "id": "14d821cf"
   },
   "outputs": [],
   "source": [
    "# fungsi untuk menghilangkan stopwords\n",
    "def remove_stopwords(text):\n",
    "    text = text.lower()\n",
    "    text = re.sub('[^a-zA-Z0-9\\s]', '', text)\n",
    "    temp = re.sub(r'[.,’\"\\'-?:!;]', '', text)\n",
    "    text = re.sub(r'^Apa|^Saya|^Aku|^maukah|^Siapa|^Bagaimana|^Dimana|^Kapan|^Kenapa|^Bisakah', '', text)\n",
    "    words = [word for word in text.split() if word not in stopwords]\n",
    "    return ' '.join(words)"
   ]
  },
  {
   "cell_type": "code",
   "execution_count": 5,
   "id": "b496dca9",
   "metadata": {
    "colab": {
     "base_uri": "https://localhost:8080/"
    },
    "id": "b496dca9",
    "outputId": "eba0bd03-2bfe-4191-8816-6498b22f8193"
   },
   "outputs": [
    {
     "name": "stdout",
     "output_type": "stream",
     "text": [
      "0                                        penyakit mental\n",
      "1                           mempengaruhi penyakit mental\n",
      "2                            menyebabkan penyakit mental\n",
      "3                 tanda tanda peringatan penyakit mental\n",
      "4                            orang penyakit mental pulih\n",
      "                             ...                        \n",
      "430                               bersalah kemajuan pria\n",
      "431                              mengatasi pikiran buruk\n",
      "432                                        kosong remaja\n",
      "433    pikir memiliki kecemasan depresi memanifestasi...\n",
      "434                                memiliki suara kepala\n",
      "Name: Question, Length: 435, dtype: object\n"
     ]
    }
   ],
   "source": [
    "# menghilangkan stopwords dari dataset\n",
    "data['Question'] = data['Question'].apply(remove_stopwords)\n",
    "print(data['Question'])"
   ]
  },
  {
   "cell_type": "markdown",
   "id": "d0b103c5",
   "metadata": {
    "id": "d0b103c5"
   },
   "source": [
    "# inisialisasi tokenizer"
   ]
  },
  {
   "cell_type": "code",
   "execution_count": 6,
   "id": "c6f3536f",
   "metadata": {
    "id": "c6f3536f"
   },
   "outputs": [],
   "source": [
    "# inisialisasi tokenizer\n",
    "tokenizer = Tokenizer(num_words=5000, oov_token='<OOV>')\n",
    "tokenizer.fit_on_texts(data['Question'])"
   ]
  },
  {
   "cell_type": "code",
   "execution_count": 7,
   "id": "2639390d",
   "metadata": {
    "id": "2639390d"
   },
   "outputs": [],
   "source": [
    "# fungsi untuk mengganti kata typo dengan kata yang paling mirip pada dataset\n",
    "def correct_typo(word):\n",
    "    max_score = -1\n",
    "    correct_word = word\n",
    "    for vocab_word in tokenizer.word_index:\n",
    "        score = fuzz.ratio(word, vocab_word)\n",
    "        if score > max_score:\n",
    "            max_score = score\n",
    "            correct_word = vocab_word\n",
    "    return correct_word\n",
    "\n",
    "# fungsi untuk mengoreksi typo pada kalimat\n",
    "def correct_sentence(sentence):\n",
    "    corrected_sentence = []\n",
    "    words = sentence.split()\n",
    "    for word in words:\n",
    "        corrected_word = correct_typo(word)\n",
    "        corrected_sentence.append(corrected_word)\n",
    "    return ' '.join(corrected_sentence)\n",
    "\n",
    "# fungsi untuk membersihkan dan memproses input pengguna\n",
    "def preprocess_input(text):\n",
    "    text = remove_stopwords(text)\n",
    "    text = correct_sentence(text)\n",
    "    return text\n"
   ]
  },
  {
   "cell_type": "markdown",
   "id": "673e160b",
   "metadata": {
    "id": "673e160b"
   },
   "source": [
    "# encoding label Respon"
   ]
  },
  {
   "cell_type": "code",
   "execution_count": 8,
   "id": "341033f0",
   "metadata": {
    "id": "341033f0"
   },
   "outputs": [],
   "source": [
    "encoder = LabelEncoder()\n",
    "encoder.fit(data['Answer'])\n",
    "encoded_labels = encoder.transform(data['Answer'])"
   ]
  },
  {
   "cell_type": "markdown",
   "id": "005d963f",
   "metadata": {
    "id": "005d963f"
   },
   "source": [
    "# split data menjadi train dan validation set"
   ]
  },
  {
   "cell_type": "code",
   "execution_count": 9,
   "id": "d3825cf6",
   "metadata": {
    "id": "d3825cf6"
   },
   "outputs": [],
   "source": [
    "train_size = int(len(data) * 0.8)\n",
    "train_data = data[:train_size]\n",
    "val_data = data[train_size:]\n",
    "\n",
    "train_seq = tokenizer.texts_to_sequences(data['Question'])\n",
    "val_seq = tokenizer.texts_to_sequences(val_data['Question'])\n",
    "\n",
    "train_label_seq = encoded_labels[:train_size]\n",
    "val_label_seq = encoded_labels[train_size:]"
   ]
  },
  {
   "cell_type": "markdown",
   "id": "9e0cb512",
   "metadata": {
    "id": "9e0cb512"
   },
   "source": [
    "# padding sequence"
   ]
  },
  {
   "cell_type": "code",
   "execution_count": 10,
   "id": "8b02c13d",
   "metadata": {
    "id": "8b02c13d"
   },
   "outputs": [],
   "source": [
    "train_seq = pad_sequences(train_seq, maxlen=100, truncating='post')\n",
    "val_seq = pad_sequences(val_seq, maxlen=100, truncating='post')"
   ]
  },
  {
   "cell_type": "markdown",
   "id": "77311817",
   "metadata": {
    "id": "77311817"
   },
   "source": [
    "# callback"
   ]
  },
  {
   "cell_type": "code",
   "execution_count": 11,
   "id": "4bc1e33d",
   "metadata": {
    "id": "4bc1e33d"
   },
   "outputs": [],
   "source": [
    "class Callback(tf.keras.callbacks.Callback):\n",
    "    def on_epoch_end(self, epoch, logs={}):\n",
    "        if logs.get('accuracy') is not None and logs.get('accuracy') > 0.998:\n",
    "            print(\"\\n\\nAccuracy Has Been Achieved Around 99.8%, Training Stop!\\n\")\n",
    "            self.model.stop_training = True"
   ]
  },
  {
   "cell_type": "markdown",
   "id": "2abf21a8",
   "metadata": {
    "id": "2abf21a8"
   },
   "source": [
    "# MODEL"
   ]
  },
  {
   "cell_type": "code",
   "execution_count": 14,
   "id": "89819712",
   "metadata": {
    "id": "89819712"
   },
   "outputs": [],
   "source": [
    "model = Sequential([\n",
    "    Embedding(len(tokenizer.word_index)+1, 64, input_length=100),\n",
    "    Bidirectional(LSTM(128)),\n",
    "    Dropout(0.2),\n",
    "    Dense(128, activation='relu'),\n",
    "    Dense(450, activation='softmax')\n",
    "])\n",
    "# compile model\n",
    "model.compile(loss='sparse_categorical_crossentropy', optimizer='adam', metrics=['accuracy'])\n"
   ]
  },
  {
   "cell_type": "code",
   "execution_count": 15,
   "id": "8091f017",
   "metadata": {
    "colab": {
     "base_uri": "https://localhost:8080/"
    },
    "id": "8091f017",
    "outputId": "53fed9a1-bdf8-464d-a2e1-bd2523f7a394",
    "scrolled": true
   },
   "outputs": [
    {
     "name": "stdout",
     "output_type": "stream",
     "text": [
      "Epoch 1/200\n",
      "14/14 [==============================] - 14s 414ms/step - loss: 6.1155 - accuracy: 0.0023\n",
      "Epoch 2/200\n",
      "14/14 [==============================] - 6s 401ms/step - loss: 6.1056 - accuracy: 0.0069\n",
      "Epoch 3/200\n",
      "14/14 [==============================] - 6s 395ms/step - loss: 6.0974 - accuracy: 0.0115\n",
      "Epoch 4/200\n",
      "14/14 [==============================] - 7s 505ms/step - loss: 6.1019 - accuracy: 0.0115\n",
      "Epoch 5/200\n",
      "14/14 [==============================] - 6s 440ms/step - loss: 6.0443 - accuracy: 0.0161\n",
      "Epoch 6/200\n",
      "14/14 [==============================] - 6s 438ms/step - loss: 6.0150 - accuracy: 0.0115\n",
      "Epoch 7/200\n",
      "14/14 [==============================] - 7s 478ms/step - loss: 5.9868 - accuracy: 0.0115\n",
      "Epoch 8/200\n",
      "14/14 [==============================] - 6s 442ms/step - loss: 5.9557 - accuracy: 0.0115\n",
      "Epoch 9/200\n",
      "14/14 [==============================] - 7s 481ms/step - loss: 5.9246 - accuracy: 0.0115\n",
      "Epoch 10/200\n",
      "14/14 [==============================] - 6s 465ms/step - loss: 5.8321 - accuracy: 0.0161\n",
      "Epoch 11/200\n",
      "14/14 [==============================] - 6s 445ms/step - loss: 5.6953 - accuracy: 0.0161\n",
      "Epoch 12/200\n",
      "14/14 [==============================] - 7s 539ms/step - loss: 5.5330 - accuracy: 0.0161\n",
      "Epoch 13/200\n",
      "14/14 [==============================] - 6s 429ms/step - loss: 5.3612 - accuracy: 0.0184\n",
      "Epoch 14/200\n",
      "14/14 [==============================] - 6s 412ms/step - loss: 5.2114 - accuracy: 0.0253\n",
      "Epoch 15/200\n",
      "14/14 [==============================] - 8s 599ms/step - loss: 5.0322 - accuracy: 0.0230\n",
      "Epoch 16/200\n",
      "14/14 [==============================] - 8s 599ms/step - loss: 4.8420 - accuracy: 0.0368\n",
      "Epoch 17/200\n",
      "14/14 [==============================] - 7s 495ms/step - loss: 4.6446 - accuracy: 0.0483\n",
      "Epoch 18/200\n",
      "14/14 [==============================] - 7s 503ms/step - loss: 4.4081 - accuracy: 0.0690\n",
      "Epoch 19/200\n",
      "14/14 [==============================] - 6s 437ms/step - loss: 4.1769 - accuracy: 0.0874\n",
      "Epoch 20/200\n",
      "14/14 [==============================] - 5s 390ms/step - loss: 3.9629 - accuracy: 0.1034\n",
      "Epoch 21/200\n",
      "14/14 [==============================] - 7s 477ms/step - loss: 3.7450 - accuracy: 0.1540\n",
      "Epoch 22/200\n",
      "14/14 [==============================] - 7s 493ms/step - loss: 3.5576 - accuracy: 0.1862\n",
      "Epoch 23/200\n",
      "14/14 [==============================] - 7s 506ms/step - loss: 3.3539 - accuracy: 0.2069\n",
      "Epoch 24/200\n",
      "14/14 [==============================] - 7s 517ms/step - loss: 3.1063 - accuracy: 0.2621\n",
      "Epoch 25/200\n",
      "14/14 [==============================] - 5s 393ms/step - loss: 2.9095 - accuracy: 0.3057\n",
      "Epoch 26/200\n",
      "14/14 [==============================] - 6s 464ms/step - loss: 2.6931 - accuracy: 0.3379\n",
      "Epoch 27/200\n",
      "14/14 [==============================] - 7s 455ms/step - loss: 2.4559 - accuracy: 0.4460\n",
      "Epoch 28/200\n",
      "14/14 [==============================] - 7s 529ms/step - loss: 2.3658 - accuracy: 0.3954\n",
      "Epoch 29/200\n",
      "14/14 [==============================] - 6s 435ms/step - loss: 2.1406 - accuracy: 0.4828\n",
      "Epoch 30/200\n",
      "14/14 [==============================] - 6s 417ms/step - loss: 1.9905 - accuracy: 0.5264\n",
      "Epoch 31/200\n",
      "14/14 [==============================] - 5s 381ms/step - loss: 1.8344 - accuracy: 0.5402\n",
      "Epoch 32/200\n",
      "14/14 [==============================] - 6s 435ms/step - loss: 1.6649 - accuracy: 0.5839\n",
      "Epoch 33/200\n",
      "14/14 [==============================] - 7s 475ms/step - loss: 1.5343 - accuracy: 0.6276\n",
      "Epoch 34/200\n",
      "14/14 [==============================] - 6s 444ms/step - loss: 1.3942 - accuracy: 0.7034\n",
      "Epoch 35/200\n",
      "14/14 [==============================] - 6s 431ms/step - loss: 1.2991 - accuracy: 0.6897\n",
      "Epoch 36/200\n",
      "14/14 [==============================] - 6s 409ms/step - loss: 1.1670 - accuracy: 0.7149\n",
      "Epoch 37/200\n",
      "14/14 [==============================] - 6s 456ms/step - loss: 1.0919 - accuracy: 0.7356\n",
      "Epoch 38/200\n",
      "14/14 [==============================] - 7s 501ms/step - loss: 1.0298 - accuracy: 0.7678\n",
      "Epoch 39/200\n",
      "14/14 [==============================] - 6s 415ms/step - loss: 0.9581 - accuracy: 0.7793\n",
      "Epoch 40/200\n",
      "14/14 [==============================] - 6s 401ms/step - loss: 0.8690 - accuracy: 0.7885\n",
      "Epoch 41/200\n",
      "14/14 [==============================] - 6s 406ms/step - loss: 0.8244 - accuracy: 0.7793\n",
      "Epoch 42/200\n",
      "14/14 [==============================] - 6s 398ms/step - loss: 0.7879 - accuracy: 0.7816\n",
      "Epoch 43/200\n",
      "14/14 [==============================] - 6s 394ms/step - loss: 0.7261 - accuracy: 0.8000\n",
      "Epoch 44/200\n",
      "14/14 [==============================] - 6s 394ms/step - loss: 0.6859 - accuracy: 0.8046\n",
      "Epoch 45/200\n",
      "14/14 [==============================] - 5s 392ms/step - loss: 0.7218 - accuracy: 0.7862\n",
      "Epoch 46/200\n",
      "14/14 [==============================] - 6s 396ms/step - loss: 0.6537 - accuracy: 0.8253\n",
      "Epoch 47/200\n",
      "14/14 [==============================] - 6s 421ms/step - loss: 0.6358 - accuracy: 0.8207\n",
      "Epoch 48/200\n",
      "14/14 [==============================] - 6s 437ms/step - loss: 0.5996 - accuracy: 0.8230\n",
      "Epoch 49/200\n",
      "14/14 [==============================] - 5s 391ms/step - loss: 0.5700 - accuracy: 0.8345\n",
      "Epoch 50/200\n",
      "14/14 [==============================] - 5s 384ms/step - loss: 0.5712 - accuracy: 0.8207\n",
      "Epoch 51/200\n",
      "14/14 [==============================] - 6s 395ms/step - loss: 0.5453 - accuracy: 0.8230\n",
      "Epoch 52/200\n",
      "14/14 [==============================] - 5s 389ms/step - loss: 0.5417 - accuracy: 0.8299\n",
      "Epoch 53/200\n",
      "14/14 [==============================] - 5s 383ms/step - loss: 0.5258 - accuracy: 0.8161\n",
      "Epoch 54/200\n",
      "14/14 [==============================] - 6s 389ms/step - loss: 0.5128 - accuracy: 0.8115\n",
      "Epoch 55/200\n",
      "14/14 [==============================] - 5s 387ms/step - loss: 0.4780 - accuracy: 0.8299\n",
      "Epoch 56/200\n",
      "14/14 [==============================] - 6s 399ms/step - loss: 0.4915 - accuracy: 0.8207\n",
      "Epoch 57/200\n",
      "14/14 [==============================] - 6s 391ms/step - loss: 0.4856 - accuracy: 0.8161\n",
      "Epoch 58/200\n",
      "14/14 [==============================] - 5s 389ms/step - loss: 0.4773 - accuracy: 0.8391\n",
      "Epoch 59/200\n",
      "14/14 [==============================] - 5s 386ms/step - loss: 0.4519 - accuracy: 0.8345\n",
      "Epoch 60/200\n",
      "14/14 [==============================] - 6s 393ms/step - loss: 0.4577 - accuracy: 0.8230\n",
      "Epoch 61/200\n",
      "14/14 [==============================] - 6s 392ms/step - loss: 0.4528 - accuracy: 0.8230\n",
      "Epoch 62/200\n",
      "14/14 [==============================] - 6s 394ms/step - loss: 0.4495 - accuracy: 0.8276\n",
      "Epoch 63/200\n",
      "14/14 [==============================] - 6s 450ms/step - loss: 0.4424 - accuracy: 0.8276\n",
      "Epoch 64/200\n",
      "14/14 [==============================] - 6s 463ms/step - loss: 0.4272 - accuracy: 0.8253\n",
      "Epoch 65/200\n",
      "14/14 [==============================] - 9s 674ms/step - loss: 0.4240 - accuracy: 0.8253\n",
      "Epoch 66/200\n",
      "14/14 [==============================] - 6s 404ms/step - loss: 0.4419 - accuracy: 0.8299\n",
      "Epoch 67/200\n",
      "14/14 [==============================] - 6s 452ms/step - loss: 0.4369 - accuracy: 0.8230\n",
      "Epoch 68/200\n",
      "14/14 [==============================] - 7s 472ms/step - loss: 0.4013 - accuracy: 0.8506\n",
      "Epoch 69/200\n",
      "14/14 [==============================] - 6s 463ms/step - loss: 0.4240 - accuracy: 0.8322\n",
      "Epoch 70/200\n",
      "14/14 [==============================] - 6s 458ms/step - loss: 0.4057 - accuracy: 0.8322\n",
      "Epoch 71/200\n",
      "14/14 [==============================] - 6s 407ms/step - loss: 0.3903 - accuracy: 0.8299\n",
      "Epoch 72/200\n",
      "14/14 [==============================] - 7s 530ms/step - loss: 0.4216 - accuracy: 0.8184\n",
      "Epoch 73/200\n",
      "14/14 [==============================] - 6s 399ms/step - loss: 0.3977 - accuracy: 0.8391\n",
      "Epoch 74/200\n",
      "14/14 [==============================] - 5s 389ms/step - loss: 0.4102 - accuracy: 0.8230\n",
      "Epoch 75/200\n",
      "14/14 [==============================] - 5s 385ms/step - loss: 0.4020 - accuracy: 0.8207\n",
      "Epoch 76/200\n",
      "14/14 [==============================] - 5s 384ms/step - loss: 0.4029 - accuracy: 0.8345\n",
      "Epoch 77/200\n",
      "14/14 [==============================] - 5s 385ms/step - loss: 0.3908 - accuracy: 0.8276\n",
      "Epoch 78/200\n",
      "14/14 [==============================] - 5s 385ms/step - loss: 0.3894 - accuracy: 0.8253\n",
      "Epoch 79/200\n",
      "14/14 [==============================] - 5s 391ms/step - loss: 0.4048 - accuracy: 0.8138\n",
      "Epoch 80/200\n",
      "14/14 [==============================] - 5s 380ms/step - loss: 0.4029 - accuracy: 0.8138\n",
      "Epoch 81/200\n"
     ]
    },
    {
     "name": "stdout",
     "output_type": "stream",
     "text": [
      "14/14 [==============================] - 5s 379ms/step - loss: 0.3917 - accuracy: 0.8253\n",
      "Epoch 82/200\n",
      "14/14 [==============================] - 5s 382ms/step - loss: 0.3859 - accuracy: 0.8345\n",
      "Epoch 83/200\n",
      "14/14 [==============================] - 6s 391ms/step - loss: 0.3902 - accuracy: 0.8414\n",
      "Epoch 84/200\n",
      "14/14 [==============================] - 5s 378ms/step - loss: 0.3717 - accuracy: 0.8184\n",
      "Epoch 85/200\n",
      "14/14 [==============================] - 6s 430ms/step - loss: 0.4202 - accuracy: 0.8161\n",
      "Epoch 86/200\n",
      "14/14 [==============================] - 5s 379ms/step - loss: 0.3819 - accuracy: 0.8368\n",
      "Epoch 87/200\n",
      "14/14 [==============================] - 5s 379ms/step - loss: 0.3802 - accuracy: 0.8299\n",
      "Epoch 88/200\n",
      "14/14 [==============================] - 5s 379ms/step - loss: 0.3913 - accuracy: 0.8230\n",
      "Epoch 89/200\n",
      "14/14 [==============================] - 5s 384ms/step - loss: 0.3694 - accuracy: 0.8276\n",
      "Epoch 90/200\n",
      "14/14 [==============================] - 5s 386ms/step - loss: 0.3809 - accuracy: 0.8230\n",
      "Epoch 91/200\n",
      "14/14 [==============================] - 5s 380ms/step - loss: 0.3796 - accuracy: 0.8207\n",
      "Epoch 92/200\n",
      "14/14 [==============================] - 5s 381ms/step - loss: 0.3768 - accuracy: 0.8322\n",
      "Epoch 93/200\n",
      "14/14 [==============================] - 5s 389ms/step - loss: 0.3723 - accuracy: 0.8391\n",
      "Epoch 94/200\n",
      "14/14 [==============================] - 5s 377ms/step - loss: 0.3749 - accuracy: 0.8230\n",
      "Epoch 95/200\n",
      "14/14 [==============================] - 5s 384ms/step - loss: 0.3865 - accuracy: 0.8115\n",
      "Epoch 96/200\n",
      "14/14 [==============================] - 6s 405ms/step - loss: 0.3735 - accuracy: 0.8253\n",
      "Epoch 97/200\n",
      "14/14 [==============================] - 6s 443ms/step - loss: 0.3720 - accuracy: 0.8391\n",
      "Epoch 98/200\n",
      "14/14 [==============================] - 5s 382ms/step - loss: 0.3691 - accuracy: 0.8460\n",
      "Epoch 99/200\n",
      "14/14 [==============================] - 5s 382ms/step - loss: 0.3748 - accuracy: 0.8368\n",
      "Epoch 100/200\n",
      "14/14 [==============================] - 5s 383ms/step - loss: 0.3594 - accuracy: 0.8368\n",
      "Epoch 101/200\n",
      "14/14 [==============================] - 5s 384ms/step - loss: 0.3571 - accuracy: 0.8345\n",
      "Epoch 102/200\n",
      "14/14 [==============================] - 5s 380ms/step - loss: 0.3625 - accuracy: 0.8299\n",
      "Epoch 103/200\n",
      "14/14 [==============================] - 5s 382ms/step - loss: 0.3502 - accuracy: 0.8276\n",
      "Epoch 104/200\n",
      "14/14 [==============================] - 5s 386ms/step - loss: 0.3634 - accuracy: 0.8368\n",
      "Epoch 105/200\n",
      "14/14 [==============================] - 6s 394ms/step - loss: 0.3798 - accuracy: 0.8115\n",
      "Epoch 106/200\n",
      "14/14 [==============================] - 7s 506ms/step - loss: 0.3493 - accuracy: 0.8414\n",
      "Epoch 107/200\n",
      "14/14 [==============================] - 6s 420ms/step - loss: 0.3497 - accuracy: 0.8368\n",
      "Epoch 108/200\n",
      "14/14 [==============================] - 5s 387ms/step - loss: 0.3540 - accuracy: 0.8391\n",
      "Epoch 109/200\n",
      "14/14 [==============================] - 5s 381ms/step - loss: 0.3687 - accuracy: 0.8299\n",
      "Epoch 110/200\n",
      "14/14 [==============================] - 5s 387ms/step - loss: 0.3490 - accuracy: 0.8253\n",
      "Epoch 111/200\n",
      "14/14 [==============================] - 5s 384ms/step - loss: 0.3557 - accuracy: 0.8299\n",
      "Epoch 112/200\n",
      "14/14 [==============================] - 5s 393ms/step - loss: 0.3509 - accuracy: 0.8253\n",
      "Epoch 113/200\n",
      "14/14 [==============================] - 5s 388ms/step - loss: 0.3803 - accuracy: 0.8345\n",
      "Epoch 114/200\n",
      "14/14 [==============================] - 5s 382ms/step - loss: 0.3582 - accuracy: 0.8322\n",
      "Epoch 115/200\n",
      "14/14 [==============================] - 5s 385ms/step - loss: 0.3531 - accuracy: 0.8345\n",
      "Epoch 116/200\n",
      "14/14 [==============================] - 6s 395ms/step - loss: 0.3773 - accuracy: 0.8207\n",
      "Epoch 117/200\n",
      "14/14 [==============================] - 6s 406ms/step - loss: 0.3607 - accuracy: 0.8276\n",
      "Epoch 118/200\n",
      "14/14 [==============================] - 6s 424ms/step - loss: 0.3606 - accuracy: 0.8299\n",
      "Epoch 119/200\n",
      "14/14 [==============================] - 5s 384ms/step - loss: 0.3544 - accuracy: 0.8299\n",
      "Epoch 120/200\n",
      "14/14 [==============================] - 5s 391ms/step - loss: 0.3471 - accuracy: 0.8230\n",
      "Epoch 121/200\n",
      "14/14 [==============================] - 6s 393ms/step - loss: 0.3545 - accuracy: 0.8391\n",
      "Epoch 122/200\n",
      "14/14 [==============================] - 5s 386ms/step - loss: 0.3513 - accuracy: 0.8276\n",
      "Epoch 123/200\n",
      "14/14 [==============================] - 5s 393ms/step - loss: 0.3516 - accuracy: 0.8207\n",
      "Epoch 124/200\n",
      "14/14 [==============================] - 6s 399ms/step - loss: 0.3487 - accuracy: 0.8345\n",
      "Epoch 125/200\n",
      "14/14 [==============================] - 5s 383ms/step - loss: 0.3436 - accuracy: 0.8345\n",
      "Epoch 126/200\n",
      "14/14 [==============================] - 6s 401ms/step - loss: 0.3589 - accuracy: 0.8276\n",
      "Epoch 127/200\n",
      "14/14 [==============================] - 5s 388ms/step - loss: 0.3538 - accuracy: 0.8345\n",
      "Epoch 128/200\n",
      "14/14 [==============================] - 5s 385ms/step - loss: 0.3569 - accuracy: 0.8230\n",
      "Epoch 129/200\n",
      "14/14 [==============================] - 5s 383ms/step - loss: 0.3462 - accuracy: 0.8299\n",
      "Epoch 130/200\n",
      "14/14 [==============================] - 5s 382ms/step - loss: 0.3564 - accuracy: 0.8230\n",
      "Epoch 131/200\n",
      "14/14 [==============================] - 5s 382ms/step - loss: 0.3732 - accuracy: 0.8299\n",
      "Epoch 132/200\n",
      "14/14 [==============================] - 5s 389ms/step - loss: 0.4109 - accuracy: 0.8345\n",
      "Epoch 133/200\n",
      "14/14 [==============================] - 5s 385ms/step - loss: 0.9004 - accuracy: 0.7333\n",
      "Epoch 134/200\n",
      "14/14 [==============================] - 5s 384ms/step - loss: 0.6122 - accuracy: 0.8069\n",
      "Epoch 135/200\n",
      "14/14 [==============================] - 5s 385ms/step - loss: 3.9490 - accuracy: 0.4437\n",
      "Epoch 136/200\n",
      "14/14 [==============================] - 6s 444ms/step - loss: 1.2748 - accuracy: 0.6230\n",
      "Epoch 137/200\n",
      "14/14 [==============================] - 6s 429ms/step - loss: 0.8391 - accuracy: 0.7678\n",
      "Epoch 138/200\n",
      "14/14 [==============================] - 5s 390ms/step - loss: 0.5771 - accuracy: 0.8023\n",
      "Epoch 139/200\n",
      "14/14 [==============================] - 5s 386ms/step - loss: 0.4702 - accuracy: 0.8138\n",
      "Epoch 140/200\n",
      "14/14 [==============================] - 5s 389ms/step - loss: 0.4114 - accuracy: 0.8184\n",
      "Epoch 141/200\n",
      "14/14 [==============================] - 5s 384ms/step - loss: 0.3645 - accuracy: 0.8368\n",
      "Epoch 142/200\n",
      "14/14 [==============================] - 5s 387ms/step - loss: 0.3643 - accuracy: 0.8299\n",
      "Epoch 143/200\n",
      "14/14 [==============================] - 5s 388ms/step - loss: 0.3626 - accuracy: 0.8276\n",
      "Epoch 144/200\n",
      "14/14 [==============================] - 6s 389ms/step - loss: 0.3649 - accuracy: 0.8345\n",
      "Epoch 145/200\n",
      "14/14 [==============================] - 5s 391ms/step - loss: 0.3672 - accuracy: 0.8253\n",
      "Epoch 146/200\n",
      "14/14 [==============================] - 5s 384ms/step - loss: 0.3675 - accuracy: 0.8207\n",
      "Epoch 147/200\n",
      "14/14 [==============================] - 5s 389ms/step - loss: 0.3699 - accuracy: 0.8230\n",
      "Epoch 148/200\n",
      "14/14 [==============================] - 6s 392ms/step - loss: 0.3423 - accuracy: 0.8414\n",
      "Epoch 149/200\n",
      "14/14 [==============================] - 5s 382ms/step - loss: 0.3448 - accuracy: 0.8414\n",
      "Epoch 150/200\n",
      "14/14 [==============================] - 5s 384ms/step - loss: 0.3689 - accuracy: 0.8184\n",
      "Epoch 151/200\n",
      "14/14 [==============================] - 5s 389ms/step - loss: 0.3401 - accuracy: 0.8414\n",
      "Epoch 152/200\n",
      "14/14 [==============================] - 5s 384ms/step - loss: 0.3331 - accuracy: 0.8483\n",
      "Epoch 153/200\n",
      "14/14 [==============================] - 5s 384ms/step - loss: 0.3388 - accuracy: 0.8368\n",
      "Epoch 154/200\n",
      "14/14 [==============================] - 5s 385ms/step - loss: 0.3393 - accuracy: 0.8322\n",
      "Epoch 155/200\n",
      "14/14 [==============================] - 5s 384ms/step - loss: 0.3407 - accuracy: 0.8253\n",
      "Epoch 156/200\n",
      "14/14 [==============================] - 5s 383ms/step - loss: 0.3386 - accuracy: 0.8368\n",
      "Epoch 157/200\n",
      "14/14 [==============================] - 6s 402ms/step - loss: 0.3460 - accuracy: 0.8299\n",
      "Epoch 158/200\n",
      "14/14 [==============================] - 6s 430ms/step - loss: 0.3513 - accuracy: 0.8138\n",
      "Epoch 159/200\n",
      "14/14 [==============================] - 5s 386ms/step - loss: 0.3480 - accuracy: 0.8322\n",
      "Epoch 160/200\n"
     ]
    },
    {
     "name": "stdout",
     "output_type": "stream",
     "text": [
      "14/14 [==============================] - 5s 384ms/step - loss: 0.3394 - accuracy: 0.8253\n",
      "Epoch 161/200\n",
      "14/14 [==============================] - 5s 378ms/step - loss: 0.3354 - accuracy: 0.8207\n",
      "Epoch 162/200\n",
      "14/14 [==============================] - 5s 382ms/step - loss: 0.3359 - accuracy: 0.8207\n",
      "Epoch 163/200\n",
      "14/14 [==============================] - 5s 381ms/step - loss: 0.3505 - accuracy: 0.8322\n",
      "Epoch 164/200\n",
      "14/14 [==============================] - 5s 382ms/step - loss: 0.3456 - accuracy: 0.8391\n",
      "Epoch 165/200\n",
      "14/14 [==============================] - 5s 382ms/step - loss: 0.3244 - accuracy: 0.8299\n",
      "Epoch 166/200\n",
      "14/14 [==============================] - 6s 463ms/step - loss: 0.3304 - accuracy: 0.8253\n",
      "Epoch 167/200\n",
      "14/14 [==============================] - 7s 485ms/step - loss: 0.3385 - accuracy: 0.8207\n",
      "Epoch 168/200\n",
      "14/14 [==============================] - 7s 494ms/step - loss: 0.3423 - accuracy: 0.8299\n",
      "Epoch 169/200\n",
      "14/14 [==============================] - 7s 506ms/step - loss: 0.3447 - accuracy: 0.8345\n",
      "Epoch 170/200\n",
      "14/14 [==============================] - 5s 390ms/step - loss: 0.3335 - accuracy: 0.8184\n",
      "Epoch 171/200\n",
      "14/14 [==============================] - 5s 389ms/step - loss: 0.3373 - accuracy: 0.8230\n",
      "Epoch 172/200\n",
      "14/14 [==============================] - 6s 401ms/step - loss: 0.3387 - accuracy: 0.8345\n",
      "Epoch 173/200\n",
      "14/14 [==============================] - 5s 381ms/step - loss: 0.3356 - accuracy: 0.8299\n",
      "Epoch 174/200\n",
      "14/14 [==============================] - 5s 382ms/step - loss: 0.3464 - accuracy: 0.8092\n",
      "Epoch 175/200\n",
      "14/14 [==============================] - 5s 381ms/step - loss: 0.3346 - accuracy: 0.8391\n",
      "Epoch 176/200\n",
      "14/14 [==============================] - 5s 391ms/step - loss: 0.3414 - accuracy: 0.8276\n",
      "Epoch 177/200\n",
      "14/14 [==============================] - 5s 383ms/step - loss: 0.3269 - accuracy: 0.8299\n",
      "Epoch 178/200\n",
      "14/14 [==============================] - 5s 390ms/step - loss: 0.3416 - accuracy: 0.8368\n",
      "Epoch 179/200\n",
      "14/14 [==============================] - 5s 387ms/step - loss: 0.3336 - accuracy: 0.8299\n",
      "Epoch 180/200\n",
      "14/14 [==============================] - 5s 381ms/step - loss: 0.3294 - accuracy: 0.8184\n",
      "Epoch 181/200\n",
      "14/14 [==============================] - 5s 386ms/step - loss: 0.3344 - accuracy: 0.8437\n",
      "Epoch 182/200\n",
      "14/14 [==============================] - 6s 407ms/step - loss: 0.3231 - accuracy: 0.8299\n",
      "Epoch 183/200\n",
      "14/14 [==============================] - 5s 381ms/step - loss: 0.3304 - accuracy: 0.8184\n",
      "Epoch 184/200\n",
      "14/14 [==============================] - 5s 383ms/step - loss: 0.3234 - accuracy: 0.8345\n",
      "Epoch 185/200\n",
      "14/14 [==============================] - 5s 385ms/step - loss: 0.3285 - accuracy: 0.8253\n",
      "Epoch 186/200\n",
      "14/14 [==============================] - 5s 384ms/step - loss: 0.3389 - accuracy: 0.8322\n",
      "Epoch 187/200\n",
      "14/14 [==============================] - 5s 384ms/step - loss: 0.3334 - accuracy: 0.8322\n",
      "Epoch 188/200\n",
      "14/14 [==============================] - 5s 382ms/step - loss: 0.3390 - accuracy: 0.8253\n",
      "Epoch 189/200\n",
      "14/14 [==============================] - 6s 419ms/step - loss: 0.3149 - accuracy: 0.8414\n",
      "Epoch 190/200\n",
      "14/14 [==============================] - 6s 451ms/step - loss: 0.3349 - accuracy: 0.8276\n",
      "Epoch 191/200\n",
      "14/14 [==============================] - 6s 452ms/step - loss: 0.3306 - accuracy: 0.8276\n",
      "Epoch 192/200\n",
      "14/14 [==============================] - 5s 383ms/step - loss: 0.3284 - accuracy: 0.8368\n",
      "Epoch 193/200\n",
      "14/14 [==============================] - 5s 381ms/step - loss: 0.3272 - accuracy: 0.8299\n",
      "Epoch 194/200\n",
      "14/14 [==============================] - 5s 388ms/step - loss: 0.3303 - accuracy: 0.8345\n",
      "Epoch 195/200\n",
      "14/14 [==============================] - 5s 382ms/step - loss: 0.3244 - accuracy: 0.8437\n",
      "Epoch 196/200\n",
      "14/14 [==============================] - 5s 388ms/step - loss: 0.3276 - accuracy: 0.8368\n",
      "Epoch 197/200\n",
      "14/14 [==============================] - 5s 391ms/step - loss: 0.3414 - accuracy: 0.8253\n",
      "Epoch 198/200\n",
      "14/14 [==============================] - 6s 433ms/step - loss: 0.3242 - accuracy: 0.8391\n",
      "Epoch 199/200\n",
      "14/14 [==============================] - 6s 453ms/step - loss: 0.3148 - accuracy: 0.8345\n",
      "Epoch 200/200\n",
      "14/14 [==============================] - 6s 388ms/step - loss: 0.3370 - accuracy: 0.8299\n"
     ]
    }
   ],
   "source": [
    "# training model\n",
    "history = model.fit(train_seq, encoded_labels, epochs=200,callbacks=[Callback()])"
   ]
  },
  {
   "cell_type": "code",
   "execution_count": 16,
   "id": "8f588dea",
   "metadata": {
    "colab": {
     "base_uri": "https://localhost:8080/",
     "height": 881
    },
    "id": "8f588dea",
    "outputId": "79a549d2-a41f-4947-b00e-438795bcc3f4"
   },
   "outputs": [
    {
     "data": {
      "image/png": "[encoded data removed]",
      "text/plain": [
       "<Figure size 640x480 with 1 Axes>"
      ]
     },
     "metadata": {},
     "output_type": "display_data"
    },
    {
     "data": {
      "image/png": "[encoded data removed]",
      "text/plain": [
       "<Figure size 640x480 with 1 Axes>"
      ]
     },
     "metadata": {},
     "output_type": "display_data"
    }
   ],
   "source": [
    "import matplotlib.pyplot as plt\n",
    "\n",
    "# Plot utility\n",
    "def plot_graphs(history, string):\n",
    "  plt.plot(history.history[string])\n",
    "  plt.xlabel(\"Epochs\")\n",
    "  plt.ylabel(string)\n",
    "  plt.show()\n",
    "\n",
    "# Plot the accuracy and results \n",
    "plot_graphs(history, \"accuracy\")\n",
    "plot_graphs(history, \"loss\")"
   ]
  },
  {
   "cell_type": "markdown",
   "id": "ab809675",
   "metadata": {
    "id": "ab809675"
   },
   "source": [
    "# TESTING"
   ]
  },
  {
   "cell_type": "code",
   "execution_count": 20,
   "id": "9e66e453",
   "metadata": {
    "colab": {
     "base_uri": "https://localhost:8080/"
    },
    "id": "9e66e453",
    "outputId": "c9a11281-5bb0-4028-b261-a28daa876ca3"
   },
   "outputs": [
    {
     "name": "stdout",
     "output_type": "stream",
     "text": [
      "Masukkan pertanyaan: saya pikir saya jelek\n",
      "1/1 [==============================] - 0s 42ms/step\n",
      "Bot:  Nah, apakah Anda benar-benar berpikir begitu? Apakah Anda ingin melihat wajah paling cantik yang pernah ada? Buka WebCam Anda dan voila, wajah tercantik di planet ini muncul secara ajaib.\n"
     ]
    }
   ],
   "source": [
    "try:\n",
    "    input_text = input('Masukkan pertanyaan: ')\n",
    "    preprocessed_text = preprocess_input(input_text)\n",
    "    input_seq = tokenizer.texts_to_sequences([preprocessed_text])\n",
    "    input_seq = pad_sequences(input_seq, maxlen=100)\n",
    "    predicted_label_seq = model.predict(input_seq)\n",
    "    predicted_label = encoder.inverse_transform(predicted_label_seq.argmax(axis=-1))[0]\n",
    "    print('Bot: ', predicted_label)\n",
    "except:\n",
    "    print(\"Bot : maaf saya tidak memahami maksud anda\")"
   ]
  },
  {
   "cell_type": "markdown",
   "id": "3db881d5",
   "metadata": {},
   "source": [
    "# save model"
   ]
  },
  {
   "cell_type": "code",
   "execution_count": 21,
   "id": "2b8097fe",
   "metadata": {},
   "outputs": [],
   "source": [
    "#model.save(\"model.h5\")"
   ]
  },
  {
   "cell_type": "code",
   "execution_count": 22,
   "id": "791b3f60",
   "metadata": {
    "id": "791b3f60"
   },
   "outputs": [],
   "source": [
    "\n",
    "#import pickle\n",
    "#with open('tokenizer.pickle', 'wb') as handle:\n",
    "     #pickle.dump(tokenizer, handle, protocol=pickle.HIGHEST_PROTOCOL)\n",
    "#with open('label_encoder.pickle', 'wb') as f:\n",
    "     #pickle.dump(encoder, f, protocol=pickle.HIGHEST_PROTOCOL)"
   ]
  }
 ],
 "metadata": {
  "colab": {
   "provenance": []
  },
  "kernelspec": {
   "display_name": "Python 3",
   "language": "python",
   "name": "python3"
  },
  "language_info": {
   "codemirror_mode": {
    "name": "ipython",
    "version": 3
   },
   "file_extension": ".py",
   "mimetype": "text/x-python",
   "name": "python",
   "nbconvert_exporter": "python",
   "pygments_lexer": "ipython3",
   "version": "3.10.0"
  }
 },
 "nbformat": 4,
 "nbformat_minor": 5
}
